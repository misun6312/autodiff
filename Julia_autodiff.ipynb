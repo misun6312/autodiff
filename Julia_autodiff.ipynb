{
 "cells": [
  {
   "cell_type": "markdown",
   "metadata": {},
   "source": [
    "# PBupsModel with Algorithmic Differentiation in Julia"
   ]
  },
  {
   "cell_type": "code",
   "execution_count": 1,
   "metadata": {
    "collapsed": false
   },
   "outputs": [
    {
     "name": "stderr",
     "output_type": "stream",
     "text": [
      "WARNING: New definition \n",
      "    write(Base.IO, ForwardDiff.Partials) at /Users/msyoon/.julia/v0.4/ForwardDiff/src/partials.jl:57\n",
      "is ambiguous with: \n",
      "    write(Base.Base64.Base64EncodePipe, AbstractArray{UInt8, 1}) at base64.jl:89.\n",
      "To fix, define \n",
      "    write(Base.Base64.Base64EncodePipe, ForwardDiff.Partials{N<:Any, UInt8})\n",
      "before the new definition.\n"
     ]
    },
    {
     "data": {
      "text/plain": [
       "convert (generic function with 637 methods)"
      ]
     },
     "execution_count": 1,
     "metadata": {},
     "output_type": "execute_result"
    }
   ],
   "source": [
    "# import packages..\n",
    "import ForwardDiff\n",
    "using ForwardDiff\n",
    "using DiffBase\n",
    "using PyPlot\n",
    "import Base.convert\n",
    "import Optim\n",
    "using Optim\n",
    "\n",
    "# === Upgrading from ForwardDiff v0.1 to v0.2\n",
    "# instead of ForwardDiff.GradientNumber and ForwardDiff.HessianNumber, \n",
    "# we will use ForwardDiff.Dual\n",
    "\n",
    "convert(::Type{Float64}, x::ForwardDiff.Dual) = Float64(x.value)\n",
    "function convert(::Array{Float64}, x::Array{ForwardDiff.Dual}) \n",
    "    y = zeros(size(x)); \n",
    "    for i in 1:prod(size(x)) \n",
    "        y[i] = convert(Float64, x[i]) \n",
    "    end\n",
    "    return y\n",
    "end\n"
   ]
  },
  {
   "cell_type": "code",
   "execution_count": 2,
   "metadata": {
    "collapsed": false
   },
   "outputs": [
    {
     "data": {
      "text/plain": [
       "isless (generic function with 40 methods)"
      ]
     },
     "execution_count": 2,
     "metadata": {},
     "output_type": "execute_result"
    }
   ],
   "source": [
    "immutable NumericPair{X,Y} <: Number\n",
    "  x::X\n",
    "  y::Y\n",
    "end\n",
    "Base.isless(a::NumericPair, b::NumericPair) = (a.x<b.x) || (a.x==b.x && a.y<b.y)"
   ]
  },
  {
   "cell_type": "markdown",
   "metadata": {},
   "source": [
    "To evaluate how well a particular set of parameter values $\\theta$ fits the behavioral data, we compute the probability of oberving the data given the model.\n",
    "\n",
    "For each trial $i$, we will compute the likelihood of seeing the data under the model assuming that trials are independent. \n",
    "\n",
    "$P(D|\\theta) = \\prod_{i}P(d_i|t_{i,R},t_{i,L},\\theta)$\n",
    "\n",
    "$t_{i,R},t_{i,L}$ : the right and left click times on trial $i$\n",
    "\n",
    "$d_i$ : the subject's decision on trial $i$\n",
    "\n",
    "The best-fit parameter values are the parameters $\\theta$ that maximize the likelihood (Maximum likelihood values)\n",
    "\n",
    "To help maximize the likelihood(or log likelihood), we will compute the derivative $\\partial P(d_i|t_{i,R},t_{i,L},\\theta) / \\partial\\theta$ for each of the parameters in the set $\\theta$.\n",
    "\n",
    "After we get these gradients of 9 model parameters, we will apply them for optimization."
   ]
  },
  {
   "cell_type": "markdown",
   "metadata": {},
   "source": [
    "## Import data "
   ]
  },
  {
   "cell_type": "code",
   "execution_count": 48,
   "metadata": {
    "collapsed": false
   },
   "outputs": [
    {
     "data": {
      "text/plain": [
       "Dict{ASCIIString,Any} with 1 entry:\n",
       "  \"rawdata\" => Dict{ASCIIString,Any}(\"is_probe\"=>1x9342 Array{Any,2}:…"
      ]
     },
     "execution_count": 48,
     "metadata": {},
     "output_type": "execute_result"
    }
   ],
   "source": [
    "using MAT\n",
    "# ratdata = matread(\"testdata.mat\")\n",
    "# ratdata = matread(\"chrono_B069_rawdata.mat\")\n",
    "ratdata2 = matread(\"ai3space_rawdata.mat\")"
   ]
  },
  {
   "cell_type": "code",
   "execution_count": 52,
   "metadata": {
    "collapsed": false
   },
   "outputs": [
    {
     "data": {
      "text/plain": [
       "Dict{ASCIIString,Any} with 1 entry:\n",
       "  \"rawdata\" => Dict{ASCIIString,Any}(\"is_probe\"=>1x9342 Array{Any,2}:…"
      ]
     },
     "execution_count": 52,
     "metadata": {},
     "output_type": "execute_result"
    }
   ],
   "source": [
    "ratdata = ratdata2"
   ]
  },
  {
   "cell_type": "code",
   "execution_count": 27,
   "metadata": {
    "collapsed": false
   },
   "outputs": [
    {
     "data": {
      "text/plain": [
       "1x3 Array{Float64,2}:\n",
       " 0.0  0.19235  0.34361"
      ]
     },
     "execution_count": 27,
     "metadata": {},
     "output_type": "execute_result"
    }
   ],
   "source": [
    "ratdata2[\"rawdata\"][\"leftbups\"][1]"
   ]
  },
  {
   "cell_type": "code",
   "execution_count": 47,
   "metadata": {
    "collapsed": false
   },
   "outputs": [
    {
     "data": {
      "text/plain": [
       "88.96489"
      ]
     },
     "execution_count": 47,
     "metadata": {},
     "output_type": "execute_result"
    }
   ],
   "source": [
    "ratdata[\"rawdata\"][\"leftbups\"][1]\n",
    "Nsteps = Int(cld(maxT,dt))\n"
   ]
  },
  {
   "cell_type": "code",
   "execution_count": 53,
   "metadata": {
    "collapsed": false
   },
   "outputs": [
    {
     "data": {
      "text/plain": [
       "([0.25041887164115906,0.9147579669952393],[0.1318560391664505,0.28712522983551025,0.43450719118118286,0.6265814304351807,0.8090920448303223,1.128147840499878,1.3179595470428467,1.5681437253952026,1.765743613243103,1.9111539125442505],1.9111539125442505,-1)"
      ]
     },
     "execution_count": 53,
     "metadata": {},
     "output_type": "execute_result"
    }
   ],
   "source": [
    "function trialdata(rawdata, trial::Int)\n",
    "    if rawdata[\"pokedR\"][trial] > 0\n",
    "        rat_choice = 1;  # \"R\"\n",
    "    else\n",
    "        rat_choice = -1; # \"L\"\n",
    "    end;\n",
    "    \n",
    "    if typeof(rawdata[\"rightbups\"][trial]) <: Array\n",
    "        rvec = vec(rawdata[\"rightbups\"][trial])::Array{Float64,1};\n",
    "    else\n",
    "        rvec = Float64[0.0]\n",
    "    end\n",
    "    if typeof(rawdata[\"leftbups\"][trial]) <: Array\n",
    "        lvec = vec(rawdata[\"leftbups\"][trial])::Array{Float64,1};\n",
    "    else\n",
    "        lvec = Float64[0.0]\n",
    "    end\n",
    "    \n",
    "    return rvec, lvec, \n",
    "    rawdata[\"T\"][trial]::Float64, rat_choice\n",
    "end\n",
    "\n",
    "RightClickTimes, LeftClickTimes, maxT, rat_choice = trialdata(ratdata[\"rawdata\"], 1)"
   ]
  },
  {
   "cell_type": "code",
   "execution_count": 54,
   "metadata": {
    "collapsed": false
   },
   "outputs": [
    {
     "name": "stdout",
     "output_type": "stream",
     "text": [
      "  0.000118 seconds (15 allocations: 528 bytes)\n"
     ]
    },
    {
     "data": {
      "text/plain": [
       "([0.25041887164115906,0.9147579669952393],[0.1318560391664505,0.28712522983551025,0.43450719118118286,0.6265814304351807,0.8090920448303223,1.128147840499878,1.3179595470428467,1.5681437253952026,1.765743613243103,1.9111539125442505],1.9111539125442505,-1)"
      ]
     },
     "execution_count": 54,
     "metadata": {},
     "output_type": "execute_result"
    }
   ],
   "source": [
    "@time RightClickTimes, LeftClickTimes, maxT, rat_choice = trialdata(ratdata[\"rawdata\"], 1)"
   ]
  },
  {
   "cell_type": "code",
   "execution_count": 55,
   "metadata": {
    "collapsed": false
   },
   "outputs": [
    {
     "data": {
      "text/plain": [
       "2-element Array{Float64,1}:\n",
       " 0.250419\n",
       " 0.914758"
      ]
     },
     "execution_count": 55,
     "metadata": {},
     "output_type": "execute_result"
    }
   ],
   "source": [
    "RightClickTimes"
   ]
  },
  {
   "cell_type": "markdown",
   "metadata": {},
   "source": [
    "## bin_centers = make_bins(B, dx, binN)"
   ]
  },
  {
   "cell_type": "code",
   "execution_count": 56,
   "metadata": {
    "collapsed": true
   },
   "outputs": [],
   "source": [
    "\"\"\"\n",
    "function bin_centers = make_bins(B, dx, binN)\n",
    "\n",
    "Makes a series of points that will indicate bin centers. The first and\n",
    "last points will indicate sticky bins. No \"bin edges\" are made-- the edge\n",
    "between two bins is always implicity at the halfway point between their\n",
    "corresponding centers. The center bin is always at x=0; bin spacing\n",
    "(except for last and first bins) is always dx; and the position\n",
    "of the first and last bins is chosen so that |B| lies exactly at the\n",
    "midpoint between 1st (sticky) and 2nd (first real) bins, as well as\n",
    "exactly at the midpoint between last but one (last real) and last\n",
    "(sticky) bins.\n",
    "\n",
    "Playing nice with ForwardDiff means that the *number* of bins must be predetermined.\n",
    "So this function will not actually set the number of bins; what it'll do is determine their\n",
    "locations. To accomplish this separation, the function uses as a third parameter binN,\n",
    "which should be equal to the number of bins with bin centers > 0, as follows: \n",
    "   binN = ceil(B/dx)\n",
    "and then the total number of bins will be 2*binN+1, with the center one always corresponding\n",
    "to position zero. Use non-differentiable types for B and dx for this to work.\n",
    "\"\"\"\n",
    "function make_bins{T}(bins::Vector{T}, B, dx::T, binN)\n",
    "    cnt = 1\n",
    "    for i=-binN:binN\n",
    "        bins[cnt] = i*dx\n",
    "        cnt = cnt+1\n",
    "    end\n",
    "    \n",
    "    if binN*dx == B\n",
    "        bins[end] = B + dx\n",
    "        bins[1] = -B - dx\n",
    "    else\n",
    "        bins[end] = 2*B - (binN-1)*dx\n",
    "        bins[1] = -2*B + (binN-1)*dx\n",
    "    end\n",
    "end;"
   ]
  },
  {
   "cell_type": "code",
   "execution_count": 57,
   "metadata": {
    "collapsed": false
   },
   "outputs": [
    {
     "name": "stdout",
     "output_type": "stream",
     "text": [
      "  0.014814 seconds (5.59 k allocations: 263.896 KB)\n"
     ]
    },
    {
     "data": {
      "text/plain": [
       "35-element Array{Float64,1}:\n",
       " -4.2 \n",
       " -4.0 \n",
       " -3.75\n",
       " -3.5 \n",
       " -3.25\n",
       " -3.0 \n",
       " -2.75\n",
       " -2.5 \n",
       " -2.25\n",
       " -2.0 \n",
       " -1.75\n",
       " -1.5 \n",
       " -1.25\n",
       "  ⋮   \n",
       "  1.5 \n",
       "  1.75\n",
       "  2.0 \n",
       "  2.25\n",
       "  2.5 \n",
       "  2.75\n",
       "  3.0 \n",
       "  3.25\n",
       "  3.5 \n",
       "  3.75\n",
       "  4.0 \n",
       "  4.2 "
      ]
     },
     "execution_count": 57,
     "metadata": {},
     "output_type": "execute_result"
    }
   ],
   "source": [
    "binN = ceil(4.1/0.25)\n",
    "bins = zeros(typeof(binN), Int(binN*2+1))\n",
    "@time make_bins(bins,4.1,0.25,binN)\n",
    "bins\n",
    "bin_centers = bins"
   ]
  },
  {
   "cell_type": "code",
   "execution_count": 58,
   "metadata": {
    "collapsed": false
   },
   "outputs": [
    {
     "name": "stdout",
     "output_type": "stream",
     "text": [
      "  0.000005 seconds (5 allocations: 176 bytes)\n"
     ]
    },
    {
     "data": {
      "text/plain": [
       "67-element Array{Float64,1}:\n",
       " -8.2 \n",
       " -8.0 \n",
       " -7.75\n",
       " -7.5 \n",
       " -7.25\n",
       " -7.0 \n",
       " -6.75\n",
       " -6.5 \n",
       " -6.25\n",
       " -6.0 \n",
       " -5.75\n",
       " -5.5 \n",
       " -5.25\n",
       "  ⋮   \n",
       "  5.5 \n",
       "  5.75\n",
       "  6.0 \n",
       "  6.25\n",
       "  6.5 \n",
       "  6.75\n",
       "  7.0 \n",
       "  7.25\n",
       "  7.5 \n",
       "  7.75\n",
       "  8.0 \n",
       "  8.2 "
      ]
     },
     "execution_count": 58,
     "metadata": {},
     "output_type": "execute_result"
    }
   ],
   "source": [
    "binN = ceil(8.1/0.25)\n",
    "bins = zeros(typeof(binN), Int(binN*2+1))\n",
    "@time make_bins(bins,8.1,0.25,binN)\n",
    "bins\n",
    "bin_centers = bins\n"
   ]
  },
  {
   "cell_type": "markdown",
   "metadata": {},
   "source": [
    "## Global Variables"
   ]
  },
  {
   "cell_type": "code",
   "execution_count": 59,
   "metadata": {
    "collapsed": false
   },
   "outputs": [],
   "source": [
    "# Global variables \n",
    "const epsilon = 10.0^(-10);\n",
    "const dx = 0.25;\n",
    "const dt = 0.02;\n",
    "const total_rate = 5;"
   ]
  },
  {
   "cell_type": "markdown",
   "metadata": {},
   "source": [
    "## Parameters\n",
    "\n",
    "a : decision variable, memory accumulator\n",
    "\n",
    "$$ da =\n",
    "  \\begin{cases}\n",
    "    0       & \\quad \\text{if, } |a| \\geq B \\\\\n",
    "    \\sigma_adW + (\\delta_{t,t_R} \\cdot \\eta C(t) - \\delta_{t,t_L} \\cdot \\eta C(t))dt + \\lambda adt  & \\quad \\text{otherwise, }\\\\\n",
    "  \\end{cases}\n",
    "$$\n",
    "\n",
    "\n",
    "\n",
    "The impact of each click (C) is affected by sensory adaptation that depends on clicks from both right and left sides:\n",
    "\n",
    "$$ \n",
    "\\frac{\\mathrm d C}{\\mathrm d t} = \\frac{1-C}{\\tau_\\phi} + (1-\\phi)C(\\delta_{t,t_R}+\\delta_{t,t_L}) \n",
    "$$\n",
    "\n",
    "\n",
    "sigma2_a ($\\sigma_a^2$) : a diffusion constant, parameterizing noise in a.\n",
    "\n",
    "sigma2_s ($\\sigma_s^2$) : parameterizing noise when adding evidence from a right or left pulse. (incoming sensory evidence)\n",
    "\n",
    "sigma2_i ($\\sigma_i^2$) : initial condition for the dynamical equation at $t=0$\n",
    "\n",
    "lam ($\\lambda$) : consistent drift in the memory a ($\\lambda<0$ : leaky or forgetful case, $\\lambda>0$ : unstable or impulsive case)\n",
    "\n",
    "B : decision bound\n",
    "\n",
    "bias : bias parameter determines the position of the threshold in a (which a Rightward decision is made)\n",
    "\n",
    "phi ($\\phi$) : parameterize sensory adaptation (by defining the dynamics of C ($\\phi>1$ : Facilitation, $\\phi<1$ : Depression, $\\phi=1$ : absense of sensory adaptation)\n",
    "\n",
    "tau_phi ($\\tau_\\phi$) :\n",
    "\n",
    "lapse : The lapse rate parameterizes the probability of making a random response.\n"
   ]
  },
  {
   "cell_type": "code",
   "execution_count": 60,
   "metadata": {
    "collapsed": false
   },
   "outputs": [],
   "source": [
    "sigma_a = 1; sigma_s = 0.1; sigma_i = 0.2; \n",
    "lam = -0.0005; B = 4.1; bias = 0.1; \n",
    "phi = 0.3; tau_phi = 0.1; lapse = 0.05*2;\n",
    "params = [sigma_a, sigma_s, sigma_i, lam, B, bias, phi, tau_phi, lapse]   \n",
    "\n",
    "sigma = params[1];\n",
    "lam   = params[2];\n",
    "c     = params[3];"
   ]
  },
  {
   "cell_type": "markdown",
   "metadata": {},
   "source": [
    "## F = Fmatrix([sigma, lambda, c], bin_centers)"
   ]
  },
  {
   "cell_type": "code",
   "execution_count": 61,
   "metadata": {
    "collapsed": false
   },
   "outputs": [
    {
     "data": {
      "text/plain": [
       "Fmatrix (generic function with 1 method)"
      ]
     },
     "execution_count": 61,
     "metadata": {},
     "output_type": "execute_result"
    }
   ],
   "source": [
    "\"\"\"\n",
    "function F = Fmatrix([sigma, lambda, c], bin_centers)\n",
    "\n",
    "Uses globals\n",
    "    dt\n",
    "    dx\n",
    "    epsilon       (=10.0^-10)\n",
    "\n",
    "Returns a square Markov matrix of transition probabilities. \n",
    "Plays nice with ForwardDiff-- that is why bin_centers is a global vector (so that the rem\n",
    "operations that go into defining the bins, which ForwardDiff doesn't know how to deal with,\n",
    "stay outside of this differentiable function)\n",
    "\n",
    "sigma  should be in (accumulator units) per (second^(1/2))\n",
    "lambda should be in s^-1\n",
    "c      should be in accumulator units per second\n",
    "bin_centers should be a vector of the centers of all the bins. Edges will be at midpoints\n",
    "       between the centers, and the first and last bin will be sticky.\n",
    "\n",
    "dx is not used inside Fmatrix, because bin_centers specifies all we need to know.\n",
    "dt *is* used inside Fmatrix, to convert sigma, lambda, and c into timestep units\n",
    "\"\"\"\n",
    "function Fmatrix{T}(F::AbstractArray{T,2},params::Vector, bin_centers)\n",
    "    sigma2 = params[1];\n",
    "    lam   = params[2];\n",
    "    c     = params[3];\n",
    "\n",
    "    sigma2_sbin = convert(Float64, sigma2)\n",
    "\n",
    "    if dx > epsilon && sigma2_sbin >= epsilon\n",
    "        n_sbins = max(70, ceil(10*sqrt(sigma2_sbin)/dx))\n",
    "    else\n",
    "        n_sbins = 70\n",
    "    end\n",
    "        \n",
    "    F[1,1] = 1;\n",
    "    F[end,end] = 1;\n",
    "\n",
    "    if sigma2_sbin <= 0\n",
    "        sbin_length = 1;\n",
    "        base_sbins = 0;\n",
    "        ps = 0;\n",
    "    else\n",
    "        swidth = 5*sqrt(sigma2_sbin)\n",
    "        sbinsize = swidth/n_sbins;#sbins[2] - sbins[1]\n",
    "        base_sbins    = collect(-swidth:sbinsize:swidth)\n",
    "\n",
    "        ps       = exp(-base_sbins.^2/(2*sigma2))\n",
    "        ps       = ps/sum(ps);\n",
    "\n",
    "        sbin_length = length(base_sbins)\n",
    "    end    \n",
    "    \n",
    "    binN = length(bin_centers)\n",
    "\n",
    "    mu = 0.\n",
    "    for j in 2:binN-1\n",
    "        if abs(lam) < epsilon \n",
    "            mu = bin_centers[j] + c*dt#(exp(lam*dt))\n",
    "        else\n",
    "            mu = (bin_centers[j] + c/lam)*exp(lam*dt) - c/lam\n",
    "        end\n",
    "\n",
    "        for k in 1:sbin_length\n",
    "            sbin = mu + base_sbins[k]#(k-1)*sbinsize + mu - swidth\n",
    "\n",
    "            if sbin <= bin_centers[1] #(bin_centers[1] + bin_centers[2])/2\n",
    "                F[1,j] = F[1,j] + ps[k]\n",
    "            elseif bin_centers[end] <= sbin#(bin_centers[end]+bin_centers[end-1])/2 <= sbins[k]\n",
    "                F[end,j] = F[end,j] + ps[k]\n",
    "            else # more condition\n",
    "                if (sbin > bin_centers[1] && sbin < bin_centers[2])\n",
    "                    lp = 1; hp = 2;\n",
    "                elseif (sbin > bin_centers[end-1] && sbin < bin_centers[end])\n",
    "                    lp = binN-1; hp = binN;\n",
    "                else\n",
    "                    lp = floor(Int,((sbin-bin_centers[2])/dx)) + 2#find(bin_centers .<= sbins[k])[end]\n",
    "                    hp = ceil(Int,((sbin-bin_centers[2])/dx)) + 2#lp+1#Int(ceil((sbins[k]-bin_centers[2])/dx) + 1);\n",
    "                end\n",
    "\n",
    "                # if lp < 1\n",
    "                #     lp = 1;\n",
    "                # end\n",
    "                # if hp > binN-1\n",
    "                #     hp = binN-1;\n",
    "                # end\n",
    "\n",
    "                if lp == hp\n",
    "                    F[lp,j] = F[lp,j] + ps[k]\n",
    "                else\n",
    "                    F[hp,j] = F[hp,j] + ps[k]*(sbin - bin_centers[lp])/(bin_centers[hp] - bin_centers[lp])\n",
    "                    F[lp,j] = F[lp,j] + ps[k]*(bin_centers[hp] - sbin)/(bin_centers[hp] - bin_centers[lp])\n",
    "                end\n",
    "            end\n",
    "        end\n",
    "    end\n",
    "    # F[:,1] = 0; F[:,end] = 0; F[1,1] = 1; F[end,end] = 1;\n",
    "end"
   ]
  },
  {
   "cell_type": "code",
   "execution_count": 62,
   "metadata": {
    "collapsed": false
   },
   "outputs": [
    {
     "name": "stdout",
     "output_type": "stream",
     "text": [
      "  0.124794 seconds (114.97 k allocations: 2.751 MB)\n"
     ]
    },
    {
     "data": {
      "text/plain": [
       "67x67 Array{Float64,2}:\n",
       " 1.0  0.41182      0.218907     0.0917964    …  0.0          0.0          0.0\n",
       " 0.0  0.197142     0.172131     0.112014        0.0          0.0          0.0\n",
       " 0.0  0.187228     0.217923     0.187228        0.0          0.0          0.0\n",
       " 0.0  0.119939     0.187228     0.217923        0.0          0.0          0.0\n",
       " 0.0  0.0571377    0.119939     0.187228        0.0          0.0          0.0\n",
       " 0.0  0.0202246    0.0571377    0.119939     …  0.0          0.0          0.0\n",
       " 0.0  0.00531176   0.0202246    0.0571377       0.0          0.0          0.0\n",
       " 0.0  0.00103206   0.00531176   0.0202246       0.0          0.0          0.0\n",
       " 0.0  0.000148294  0.00103206   0.00531176      0.0          0.0          0.0\n",
       " 0.0  1.59548e-5   0.000148294  0.00103206      0.0          0.0          0.0\n",
       " 0.0  1.11105e-6   1.59548e-5   0.000148294  …  0.0          0.0          0.0\n",
       " 0.0  0.0          1.11105e-6   1.59548e-5      0.0          0.0          0.0\n",
       " 0.0  0.0          0.0          1.11105e-6      0.0          0.0          0.0\n",
       " ⋮                                           ⋱               ⋮               \n",
       " 0.0  0.0          0.0          0.0          …  1.11105e-6   0.0          0.0\n",
       " 0.0  0.0          0.0          0.0             1.59548e-5   1.11105e-6   0.0\n",
       " 0.0  0.0          0.0          0.0             0.000148294  1.59548e-5   0.0\n",
       " 0.0  0.0          0.0          0.0             0.00103206   0.000148294  0.0\n",
       " 0.0  0.0          0.0          0.0             0.00531176   0.00103206   0.0\n",
       " 0.0  0.0          0.0          0.0          …  0.0202246    0.00531176   0.0\n",
       " 0.0  0.0          0.0          0.0             0.0571377    0.0202246    0.0\n",
       " 0.0  0.0          0.0          0.0             0.119939     0.0571377    0.0\n",
       " 0.0  0.0          0.0          0.0             0.187228     0.119939     0.0\n",
       " 0.0  0.0          0.0          0.0             0.217923     0.187228     0.0\n",
       " 0.0  0.0          0.0          0.0          …  0.172131     0.197142     0.0\n",
       " 0.0  0.0          0.0          0.0             0.218907     0.41182      1.0"
      ]
     },
     "execution_count": 62,
     "metadata": {},
     "output_type": "execute_result"
    }
   ],
   "source": [
    "F = zeros(typeof(0.2),length(bin_centers),length(bin_centers))\n",
    "@time Fmatrix(F,[0.2, 0, 0.0],bin_centers) # Fi\n",
    "F"
   ]
  },
  {
   "cell_type": "code",
   "execution_count": 63,
   "metadata": {
    "collapsed": false
   },
   "outputs": [
    {
     "name": "stdout",
     "output_type": "stream",
     "text": [
      "  0.016517 seconds (78.30 k allocations: 1.202 MB)\n"
     ]
    },
    {
     "data": {
      "text/plain": [
       "67x67 Array{Float64,2}:\n",
       " 1.0  0.464534    0.368213    0.27785    …  0.0         0.0         0.0\n",
       " 0.0  0.0901428   0.0863713   0.0807973     0.0         0.0         0.0\n",
       " 0.0  0.0952597   0.0999224   0.0957109     0.0         0.0         0.0\n",
       " 0.0  0.0877379   0.0952181   0.0999795     0.0         0.0         0.0\n",
       " 0.0  0.0739267   0.0878095   0.0951766     0.0         0.0         0.0\n",
       " 0.0  0.0601908   0.0739127   0.0878812  …  0.0         0.0         0.0\n",
       " 0.0  0.0447953   0.0602548   0.0738987     0.0         0.0         0.0\n",
       " 0.0  0.0322435   0.0447976   0.0603187     0.0         0.0         0.0\n",
       " 0.0  0.0211932   0.0322857   0.0448        0.0         0.0         0.0\n",
       " 0.0  0.0134871   0.0211994   0.032328      0.0         0.0         0.0\n",
       " 0.0  0.00782868  0.0135081   0.0212055  …  0.0         0.0         0.0\n",
       " 0.0  0.00440511  0.00783279  0.0135292     0.0         0.0         0.0\n",
       " 0.0  0.00225787  0.00441308  0.0078369     0.0         0.0         0.0\n",
       " ⋮                                       ⋱              ⋮              \n",
       " 0.0  0.0         0.0         0.0        …  0.00776708  0.00427765  0.0\n",
       " 0.0  0.0         0.0         0.0           0.0131718   0.00776297  0.0\n",
       " 0.0  0.0         0.0         0.0           0.0211008   0.0131508   0.0\n",
       " 0.0  0.0         0.0         0.0           0.0316098   0.0210946   0.0\n",
       " 0.0  0.0         0.0         0.0           0.0447599   0.0315676   0.0\n",
       " 0.0  0.0         0.0         0.0        …  0.0592314   0.0447575   0.0\n",
       " 0.0  0.0         0.0         0.0           0.074137    0.0591674   0.0\n",
       " 0.0  0.0         0.0         0.0           0.0866636   0.074151    0.0\n",
       " 0.0  0.0         0.0         0.0           0.095883    0.086592    0.0\n",
       " 0.0  0.0         0.0         0.0           0.0990097   0.0959245   0.0\n",
       " 0.0  0.0         0.0         0.0        …  0.0867834   0.0894404   0.0\n",
       " 0.0  0.0         0.0         0.0           0.37142     0.467942    1.0"
      ]
     },
     "execution_count": 63,
     "metadata": {},
     "output_type": "execute_result"
    }
   ],
   "source": [
    "F = zeros(typeof(params[1]),length(bin_centers),length(bin_centers))\n",
    "@time Fmatrix(F,params,bin_centers)\n",
    "F"
   ]
  },
  {
   "cell_type": "markdown",
   "metadata": {},
   "source": [
    "## logProbRight \n",
    "### (params::Vector, RightClickTimes::Vector, LeftClickTimes::Vector, Nsteps::Int)\n",
    "\n",
    "* params = [sigma_a, sigma_s, sigma_i, lambda, B, bias, phi, tau_phi, lapse]\n",
    "* RightClickTimes vector with elements indicating times of right clicks\n",
    "* LeftClickTimes vector with elements indicating times of left clicks\n",
    "* Nsteps number of timesteps to simulate \n",
    "\n",
    "a (column vector representing distribution of values of accumulator a)\n",
    "\n",
    "a_trace (length(bin_centers)-by-Nsteps+1), a trace of the distribution of a as \n",
    "    a function of time\n",
    "    \n",
    "c_trace (row vector Nsteps+1 long, effective value of c as \n",
    "    a function of time after adaptation)\n"
   ]
  },
  {
   "cell_type": "code",
   "execution_count": 64,
   "metadata": {
    "collapsed": false
   },
   "outputs": [
    {
     "data": {
      "text/plain": [
       "logLike (generic function with 1 method)"
      ]
     },
     "execution_count": 64,
     "metadata": {},
     "output_type": "execute_result"
    }
   ],
   "source": [
    "\"\"\"\n",
    "version with inter-click interval(ici) for c_eff_net / c_eff_tot (followed the matlab code) \n",
    "(which was using dt for c_eff)\n",
    "\n",
    "function logProbRight(params::Vector, RightClickTimes::Vector, LeftClickTimes::Vector, Nsteps::Int)\n",
    "\n",
    "    Nsteps            number of timesteps to simulate\n",
    "    RightClickTimes   vector with elements indicating times of right clicks\n",
    "    LeftClickTimes    vector with elements indicating times of left clicks\n",
    "\n",
    "    a      (column vector representing distribution of values of accumulator a)\n",
    "\n",
    "    a_trace (length(bin_centers)-by-Nsteps+1), a trace of the distribution of a as \n",
    "            a function of time\n",
    "    c_trace (row vector Nsteps+1 long, effective value of c as \n",
    "            a function of time after adaptation)\n",
    "\n",
    "Takes params\n",
    "    sigma_a = params[1]; sigma_s = params[2]; sigma_i = params[3]; \n",
    "    lambda = params[4]; B = params[5]; bias = params[6]; \n",
    "    phi = params[7]; tau_phi = params[8]; lapse = params[9]\n",
    "\n",
    "Returns the log of the probability that the agent chose Right. \n",
    "\"\"\"\n",
    "\n",
    "function logProbRight(params::Vector, RightClickTimes::Vector, LeftClickTimes::Vector, Nsteps::Int)\n",
    "    sigma_a = params[1]; sigma_s = params[2]; sigma_i = params[3];\n",
    "    lambda = params[4]; B = params[5]; bias = params[6];\n",
    "    phi = params[7]; tau_phi = params[8]; lapse = params[9]\n",
    "\n",
    "    if isempty(RightClickTimes) RightClickTimes = zeros(0) end;\n",
    "    if isempty(LeftClickTimes ) LeftClickTimes  = zeros(0) end;\n",
    "\n",
    "    NClicks = zeros(Int, Nsteps);\n",
    "    Lhere  = zeros(Int, length(LeftClickTimes));\n",
    "    Rhere = zeros(Int, length(RightClickTimes));\n",
    "\n",
    "    for i in 1:length(LeftClickTimes)\n",
    "        Lhere[i] = ceil((LeftClickTimes[i]+epsilon)/dt)\n",
    "    end\n",
    "    for i in 1:length(RightClickTimes)\n",
    "        Rhere[i] = ceil((RightClickTimes[i]+epsilon)/dt)\n",
    "    end\n",
    "\n",
    "    for i in Lhere\n",
    "        NClicks[Int(i)] = NClicks[Int(i)]  + 1\n",
    "    end\n",
    "    for i in Rhere\n",
    "        NClicks[Int(i)] = NClicks[Int(i)]  + 1\n",
    "    end\n",
    "\n",
    "    # === Upgrading from ForwardDiff v0.1 to v0.2\n",
    "    # instead of using convert we can use floor(Int, ForwardDiff.Dual) and\n",
    "    # ceil(Int, ForwardDiff.Dual)\n",
    "\n",
    "    binN = ceil(Int, B/dx)#Int(ceil(my_B/dx))\n",
    "    binBias = floor(Int, bias/dx) + binN+1\n",
    "    binBias_hp = ceil(Int, bias/dx) + binN+1\n",
    "\n",
    "    if binBias<1 binBias = 1; end\n",
    "    if binBias>binN*2+1 binBias = binN*2+1; end\n",
    "\n",
    "    if binBias_hp<1 binBias_hp = 1; end\n",
    "    if binBias_hp>binN*2+1 binBias_hp = binN*2+1; end\n",
    "    \n",
    "    bin_centers = zeros(typeof(dx), binN*2+1)\n",
    "    make_bins(bin_centers, B, dx, binN)\n",
    "\n",
    "    a0 = zeros(typeof(sigma_a),length(bin_centers))\n",
    "    a0[binN+1] = 1-lapse; a0[1] = lapse/2; a0[end] = lapse/2;\n",
    "\n",
    "    temp_l = [NumericPair(LeftClickTimes[i],-1) for i=1:length(LeftClickTimes)]\n",
    "    temp_r = [NumericPair(RightClickTimes[i],1) for i=1:length(RightClickTimes)]\n",
    "    allbups = sort!([temp_l; temp_r])\n",
    "    \n",
    "    if phi == 1\n",
    "      c_eff = 1.\n",
    "    else\n",
    "      c_eff = 0.\n",
    "    end\n",
    "    \n",
    "    cnt = 0\n",
    "\n",
    "    Fi = zeros(typeof(sigma_i),length(bin_centers),length(bin_centers))\n",
    "    Fmatrix(Fi,[sigma_i, 0, 0.0], bin_centers)\n",
    "\n",
    "    # println(Fi)\n",
    "\n",
    "    a = Fi*a0;\n",
    "\n",
    "    # println(\"step 1 : \",a)\n",
    "    # println(\"step 1 : \",sum(a))\n",
    "\n",
    "    F0 = zeros(typeof(sigma_a),length(bin_centers),length(bin_centers))\n",
    "    Fmatrix(F0,[sigma_a*dt, lambda, 0.0], bin_centers)\n",
    "    for i in 2:Nsteps\n",
    "        c_eff_tot = 0.\n",
    "        c_eff_net = 0.\n",
    "        if NClicks[i-1]==0\n",
    "            c_eff_tot = 0.\n",
    "            c_eff_net = 0.\n",
    "            a = F0*a\n",
    "        else\n",
    "            for j in 1:NClicks[i-1]\n",
    "                if cnt != 0 || j != 1\n",
    "                    ici = allbups[cnt+j].x - allbups[cnt+j-1].x\n",
    "                    c_eff = 1 + (c_eff*phi - 1)*exp(-ici/tau_phi)\n",
    "                    c_eff_tot = c_eff_tot + c_eff\n",
    "                    c_eff_net = c_eff_net + c_eff*allbups[cnt+j].y\n",
    "                elseif cnt==0 && j==1\n",
    "                    ici = 0.\n",
    "                    c_eff = 1 + (c_eff*phi - 1)*exp(-ici/tau_phi)\n",
    "\n",
    "                    c_eff_tot = c_eff_tot + c_eff\n",
    "                    c_eff_net = c_eff_net + c_eff*allbups[cnt+j].y\n",
    "                end\n",
    "                if j == NClicks[i-1]\n",
    "                    cnt = cnt+j\n",
    "                end\n",
    "            end\n",
    "\n",
    "            net_sigma = sigma_a*dt + (sigma_s*c_eff_tot)/total_rate\n",
    "            F = zeros(typeof(net_sigma),length(bin_centers),length(bin_centers))\n",
    "            Fmatrix(F,[net_sigma, lambda, c_eff_net/dt], bin_centers)\n",
    "            a = F*a\n",
    "            # println(\"  \", net_sigma,\" , \",c_eff_net)\n",
    "        end\n",
    "        # println(\"step \",i,\" : \",a)\n",
    "        # println(\"step \",i,\" : \",sum(a))\n",
    "    end\n",
    "    # println(size(a))\n",
    "\n",
    "    if binBias == binBias_hp\n",
    "        println(\"here\")\n",
    "      pright = sum(a[binBias+1:end])+a[binBias]/2\n",
    "    else\n",
    "      pright = sum(a[binBias+2:end]) +\n",
    "      a[binBias]*((bin_centers[binBias+1] - bias)/dx/2) +\n",
    "      a[binBias+1]*(0.5 + (bin_centers[binBias+1] - bias)/dx/2)\n",
    "    end\n",
    "\n",
    "    # println(sum(a))\n",
    "    # println(sum(a[binBias+2:end]))\n",
    "    #\n",
    "\n",
    "    if pright-1 < epsilon && pright > 1\n",
    "        pright = 1\n",
    "    end\n",
    "    if pright < epsilon && pright > 0 \n",
    "        pright = 0\n",
    "    end\n",
    "\n",
    "#     println(pright)\n",
    "    \n",
    "    return log(pright)\n",
    "end\n",
    "\n",
    "\n",
    "function logLike(params::Vector, RightClickTimes::Vector, LeftClickTimes::Vector, Nsteps::Int, rat_choice::Int)\n",
    "    if rat_choice > 0\n",
    "        # println(\"Right\")\n",
    "        return logProbRight(params, RightClickTimes, LeftClickTimes, Nsteps)\n",
    "    elseif rat_choice < 0\n",
    "        # println(\"Left\")\n",
    "        return log(1 - exp(logProbRight(params, RightClickTimes, LeftClickTimes, Nsteps)))\n",
    "    else\n",
    "        error(\"Rat did what?? It was neither R nor L\")\n",
    "    end\n",
    "end"
   ]
  },
  {
   "cell_type": "markdown",
   "metadata": {},
   "source": [
    "## single_trial\n",
    "### (params::Vector, RightClickTimes::Vector, LeftClickTimes::Vector, Nsteps::Int, rat_choice::Int)"
   ]
  },
  {
   "cell_type": "code",
   "execution_count": 65,
   "metadata": {
    "collapsed": false
   },
   "outputs": [
    {
     "data": {
      "text/plain": [
       "single_trial (generic function with 2 methods)"
      ]
     },
     "execution_count": 65,
     "metadata": {},
     "output_type": "execute_result"
    }
   ],
   "source": [
    "\"\"\" \n",
    "function (LL, LLgrad) = \n",
    "    single_trial(params::Vector, RightClickTimes::Vector, LeftClickTimes::Vector, Nsteps::Int, rat_choice::Int)\n",
    "\n",
    "Computes the log likelihood according to Bing's model, and returns log likelihood, gradient\n",
    "\n",
    "params is a vector whose elements, in order, are\n",
    "    sigma_a    square root of accumulator variance per unit time sqrt(click units^2 per second)\n",
    "    sigma_s    standard deviation introduced with each click (will get scaled by click adaptation)\n",
    "    sigma_i    square root of initial accumulator variance sqrt(click units^2)\n",
    "    lambda     1/accumulator time constant (sec^-1). Positive means unstable, neg means stable\n",
    "    B          sticky bound height (click units)\n",
    "    bias       where the decision boundary lies (click units)\n",
    "    phi        click adaptation/facilitation multiplication parameter\n",
    "    tau_phi    time constant for recovery from click adaptation (sec)\n",
    "    lapse      2*lapse fraction of trials are decided randomly\n",
    "\n",
    "rat_choice     should be either \"R\" or \"L\"\n",
    "\n",
    "\n",
    "RETURNS:\n",
    "\n",
    "\n",
    "\"\"\"\n",
    "# === Upgrading from ForwardDiff v0.1 -> v0.2 -> v0.3\n",
    "# for Retrieving Lower-Order Results\n",
    "#     # old way\n",
    "#     answer, results = ForwardDiff.hessian(f, x, AllResults)\n",
    "#     v = ForwardDiff.value(results)\n",
    "#     g = ForwardDiff.gradient(results)\n",
    "#     h = ForwardDiff.hessian(results) # == answer\n",
    "\n",
    "#     # old v0.2 style\n",
    "#     out = HessianResult(x)\n",
    "#     ForwardDiff.hessian!(out, f, x)\n",
    "#     v = ForwardDiff.value(out)\n",
    "#     g = ForwardDiff.gradient(out)\n",
    "#     h = ForwardDiff.hessian(out)\n",
    "\n",
    "#     # current v0.3 style\n",
    "#     using DiffBase\n",
    "#     out = DiffBase.HessianResult(x)\n",
    "#     ForwardDiff.hessian!(out, f, x)\n",
    "#     v = DiffBase.value(out)\n",
    "#     g = DiffBase.gradient(out)\n",
    "#     h = DiffBase.hessian(out)\n",
    "\n",
    "\n",
    "function single_trial(params::Vector, RightClickTimes::Vector, LeftClickTimes::Vector, Nsteps::Int, rat_choice::Int, hess_mode=0::Int)\n",
    "    function llikey(params::Vector)\n",
    "        logLike(params, RightClickTimes, LeftClickTimes, Nsteps, rat_choice)\n",
    "    end\n",
    "\n",
    "    if hess_mode > 0\n",
    "        result =  DiffBase.HessianResult(params) \n",
    "        ForwardDiff.hessian!(result, llikey, params);\n",
    "    else\n",
    "        result =  DiffBase.GradientResult(params)\n",
    "        ForwardDiff.gradient!(result, llikey, params);\n",
    "    end\n",
    "\n",
    "    LL     = DiffBase.value(result)\n",
    "    LLgrad = DiffBase.gradient(result)\n",
    "    \n",
    "    if hess_mode > 0\n",
    "        LLhessian = DiffBase.hessian(result)\n",
    "    end\n",
    "   \n",
    "    if hess_mode > 0\n",
    "        return LL, LLgrad, LLhessian\n",
    "    else\n",
    "        return LL, LLgrad\n",
    "    end\n",
    "end"
   ]
  },
  {
   "cell_type": "code",
   "execution_count": 66,
   "metadata": {
    "collapsed": false
   },
   "outputs": [
    {
     "name": "stdout",
     "output_type": "stream",
     "text": [
      "  0.510854 seconds (1.00 M allocations: 23.016 MB, 4.25% gc time)\n"
     ]
    },
    {
     "data": {
      "text/plain": [
       "-0.051943906098267156"
      ]
     },
     "execution_count": 66,
     "metadata": {},
     "output_type": "execute_result"
    }
   ],
   "source": [
    "### =============== testing 1 ================= ####\n",
    "\n",
    "# Parameters\n",
    "sigma_a = 1; sigma_s = 0.1; sigma_i = 0.2; \n",
    "lam = -0.5; B = 6.1; bias = 0.1; \n",
    "phi = 0.3; tau_phi = 0.1; lapse = 0.05*2;\n",
    "params = [sigma_a, sigma_s, sigma_i, lam, B, bias, phi, tau_phi, lapse]   \n",
    "\n",
    "RightClickTimes, LeftClickTimes, maxT, rat_choice = trialdata(ratdata[\"rawdata\"], 1)\n",
    "Nsteps = Int(cld(maxT,dt))\n",
    "\n",
    "@time logLike(params, RightClickTimes, LeftClickTimes, Nsteps, rat_choice)\n",
    "\n",
    "### =========================================== #### "
   ]
  },
  {
   "cell_type": "code",
   "execution_count": 67,
   "metadata": {
    "collapsed": false
   },
   "outputs": [
    {
     "name": "stdout",
     "output_type": "stream",
     "text": [
      "  2.437515 seconds (1.10 M allocations: 79.049 MB, 1.61% gc time)\n"
     ]
    },
    {
     "data": {
      "text/plain": [
       "(-0.051943906098267156,[-0.0021717017387912715,-0.0018410786539173859,-0.00037746578745128506,-0.00046953535771840946,-0.0,0.0017131263097065162,0.001097272199625491,-0.014813799886642361,-0.5259351909915655])"
      ]
     },
     "execution_count": 67,
     "metadata": {},
     "output_type": "execute_result"
    }
   ],
   "source": [
    "# first call for compiling\n",
    "@time LL = single_trial(params, RightClickTimes, LeftClickTimes, Nsteps, rat_choice)"
   ]
  },
  {
   "cell_type": "code",
   "execution_count": 68,
   "metadata": {
    "collapsed": false
   },
   "outputs": [
    {
     "name": "stdout",
     "output_type": "stream",
     "text": [
      " 29.399330 seconds (3.68 M allocations: 664.377 MB, 0.95% gc time)\n",
      "-0.051943906098267156\n"
     ]
    },
    {
     "data": {
      "image/png": "[encoded data removed]",
      "text/plain": [
       "PyPlot.Figure(PyObject <matplotlib.figure.Figure object at 0x11204e450>)"
      ]
     },
     "metadata": {},
     "output_type": "display_data"
    },
    {
     "name": "stdout",
     "output_type": "stream",
     "text": [
      "[-0.0021717017387912715,-0.0018410786539173859,-0.00037746578745128506,-0.00046953535771840946,-0.0,0.0017131263097065162,0.001097272199625491,-0.014813799886642361,-0.5259351909915655]\n"
     ]
    },
    {
     "data": {
      "text/plain": [
       "PyObject <matplotlib.image.AxesImage object at 0x319218350>"
      ]
     },
     "execution_count": 68,
     "metadata": {},
     "output_type": "execute_result"
    }
   ],
   "source": [
    "### =============== testing 2 ================= ####\n",
    "@time LL, LLgrad, LLhess = single_trial(params, RightClickTimes, LeftClickTimes, Nsteps, rat_choice, 1)\n",
    "println(LL)\n",
    "println(LLgrad)\n",
    "# println(LLhess)\n",
    "imshow(log(abs(LLhess)), interpolation=\"none\")\n",
    "### =========================================== ####"
   ]
  },
  {
   "cell_type": "code",
   "execution_count": null,
   "metadata": {
    "collapsed": false
   },
   "outputs": [],
   "source": [
    "LL"
   ]
  },
  {
   "cell_type": "code",
   "execution_count": null,
   "metadata": {
    "collapsed": false
   },
   "outputs": [],
   "source": [
    "LLgrad[5]==0"
   ]
  },
  {
   "cell_type": "code",
   "execution_count": null,
   "metadata": {
    "collapsed": false
   },
   "outputs": [],
   "source": [
    "LLhess"
   ]
  },
  {
   "cell_type": "code",
   "execution_count": null,
   "metadata": {
    "collapsed": false
   },
   "outputs": [],
   "source": [
    "#Pkg.update()"
   ]
  },
  {
   "cell_type": "markdown",
   "metadata": {
    "collapsed": false
   },
   "source": [
    "# Maximize LL over parameter space\n",
    "### Optimization with Optim.jl\n"
   ]
  },
  {
   "cell_type": "code",
   "execution_count": null,
   "metadata": {
    "collapsed": false
   },
   "outputs": [],
   "source": [
    "# Pkg.add(\"Optim\")\n",
    "\n",
    "# import Optim\n",
    "# using Optim"
   ]
  },
  {
   "cell_type": "code",
   "execution_count": 69,
   "metadata": {
    "collapsed": false
   },
   "outputs": [
    {
     "data": {
      "text/plain": [
       "SumLikey_hess (generic function with 1 method)"
      ]
     },
     "execution_count": 69,
     "metadata": {},
     "output_type": "execute_result"
    }
   ],
   "source": [
    "function SumLikey_LL(params::Vector, ratdata, ntrials::Int)\n",
    "    LL        = 0.\n",
    "        \n",
    "    for i in 1:ntrials\n",
    "        RightClickTimes, LeftClickTimes, maxT, rat_choice = trialdata(ratdata[\"rawdata\"], i)\n",
    "        Nsteps = Int(ceil(maxT/dt))\n",
    "\n",
    "        LLi = logLike(params, RightClickTimes, LeftClickTimes, Nsteps, rat_choice)\n",
    "        LL        = LL + LLi;\n",
    "    end\n",
    "    \n",
    "    LL = -LL\n",
    "    return LL\n",
    "end\n",
    "\n",
    "function SumLikey(params::Vector, ratdata, ntrials::Int)\n",
    "    LL        = 0.\n",
    "    LLgrad    = zeros(Float64,length(params))\n",
    "    \n",
    "    for i in 1:ntrials\n",
    "        if rem(i,1000)==0\n",
    "            println(\"     sum_ll_all_trials: running trial \", i, \"/\", ntrials);\n",
    "        end\n",
    "\n",
    "        RightClickTimes, LeftClickTimes, maxT, rat_choice = trialdata(ratdata[\"rawdata\"], i)\n",
    "        Nsteps = Int(ceil(maxT/dt))\n",
    "\n",
    "        LLi, LLgradi = single_trial(params, RightClickTimes, LeftClickTimes, Nsteps, rat_choice)\n",
    "        LL        = LL + LLi;\n",
    "        LLgrad    = LLgrad + LLgradi;\n",
    "        \n",
    "    end\n",
    "\n",
    "    LL = -LL\n",
    "    LLgrad = -LLgrad\n",
    "    return LL, LLgrad\n",
    "end\n",
    "\n",
    "\n",
    "function SumLikey_hess(params::Vector, ratdata, ntrials::Int)\n",
    "    LL        = 0.\n",
    "    LLhess    = zeros(Float64,length(params),length(params))\n",
    "    \n",
    "    for i in 1:ntrials\n",
    "        RightClickTimes, LeftClickTimes, maxT, rat_choice = trialdata(ratdata[\"rawdata\"], i)\n",
    "        Nsteps = Int(ceil(maxT/dt))\n",
    "\n",
    "        LLi, LLgradi, LLhessi = single_trial(params, RightClickTimes, LeftClickTimes, Nsteps, rat_choice, 1)\n",
    "        LL        = LL + LLi;\n",
    "        LLhess    = LLhess + LLhessi;\n",
    "    end\n",
    "\n",
    "    LL = -LL\n",
    "    return LL, LLhess\n",
    "end\n",
    "\n",
    "\n",
    "\n"
   ]
  },
  {
   "cell_type": "code",
   "execution_count": 70,
   "metadata": {
    "collapsed": false
   },
   "outputs": [
    {
     "ename": "LoadError",
     "evalue": "InterruptException:",
     "output_type": "error",
     "traceback": [
      "InterruptException:",
      "",
      " in Fmatrix at In[61]:65",
      " in logProbRight at In[64]:124",
      " in logLike at In[64]:165",
      " in SumLikey_LL at In[69]:8"
     ]
    }
   ],
   "source": [
    "@time SumLikey_LL(params, ratdata, 30000) # sum of LL for trial (1-27)"
   ]
  },
  {
   "cell_type": "code",
   "execution_count": 72,
   "metadata": {
    "collapsed": false
   },
   "outputs": [
    {
     "name": "stdout",
     "output_type": "stream",
     "text": [
      "  1.786089 seconds (15.63 M allocations: 1.324 GB, 23.19% gc time)\n"
     ]
    },
    {
     "data": {
      "text/plain": [
       "(14.741365746670528,[0.13241719720117615,0.03223107823231393,0.011353532009590864,-0.6078177157777599,-0.0,-0.3616259275911486,0.07558744363960089,-0.5330507873199415,-28.44599077097722])"
      ]
     },
     "execution_count": 72,
     "metadata": {},
     "output_type": "execute_result"
    }
   ],
   "source": [
    "@time SumLikey(params, ratdata, 27)"
   ]
  },
  {
   "cell_type": "code",
   "execution_count": 73,
   "metadata": {
    "collapsed": false
   },
   "outputs": [
    {
     "data": {
      "text/plain": [
       "Likely_all_trials (generic function with 1 method)"
      ]
     },
     "execution_count": 73,
     "metadata": {},
     "output_type": "execute_result"
    }
   ],
   "source": [
    "function Likely_all_trials{T}(LL::AbstractArray{T,1},params::Vector, ratdata, ntrials::Int)     \n",
    "    for i in 1:ntrials\n",
    "        RightClickTimes, LeftClickTimes, maxT, rat_choice = trialdata(ratdata[\"rawdata\"], i)\n",
    "        Nsteps = Int(ceil(maxT/dt))\n",
    "\n",
    "        LL[i] = logLike(params, RightClickTimes, LeftClickTimes, Nsteps, rat_choice)\n",
    "    end\n",
    "end"
   ]
  },
  {
   "cell_type": "code",
   "execution_count": 74,
   "metadata": {
    "collapsed": false
   },
   "outputs": [
    {
     "name": "stdout",
     "output_type": "stream",
     "text": [
      "  0.848636 seconds (17.60 M allocations: 277.937 MB, 9.63% gc time)\n"
     ]
    },
    {
     "data": {
      "text/plain": [
       "27-element Array{Float64,1}:\n",
       " -0.0519439\n",
       " -0.153173 \n",
       " -0.0513289\n",
       " -0.0524451\n",
       " -2.99266  \n",
       " -0.051421 \n",
       " -0.0583995\n",
       " -0.196365 \n",
       " -0.0557766\n",
       " -0.0539526\n",
       " -0.0512945\n",
       " -0.0876826\n",
       " -0.0513247\n",
       "  ⋮        \n",
       " -0.0581851\n",
       " -0.0588911\n",
       " -2.98244  \n",
       " -0.083091 \n",
       " -0.144295 \n",
       " -0.0751134\n",
       " -0.0523976\n",
       " -0.163046 \n",
       " -0.0528428\n",
       " -2.92547  \n",
       " -1.13311  \n",
       " -0.0588911"
      ]
     },
     "execution_count": 74,
     "metadata": {},
     "output_type": "execute_result"
    }
   ],
   "source": [
    "ntrials = 27\n",
    "likely_all = zeros(ntrials)\n",
    "@time Likely_all_trials(likely_all, params, ratdata, ntrials)\n",
    "likely_all"
   ]
  },
  {
   "cell_type": "code",
   "execution_count": 75,
   "metadata": {
    "collapsed": false
   },
   "outputs": [
    {
     "data": {
      "text/plain": [
       "9-element Array{Float64,1}:\n",
       " 200.0\n",
       " 200.0\n",
       "  30.0\n",
       "   5.0\n",
       "  25.0\n",
       "   5.0\n",
       "   1.2\n",
       "   0.7\n",
       "   1.0"
      ]
     },
     "execution_count": 75,
     "metadata": {},
     "output_type": "execute_result"
    }
   ],
   "source": [
    "# Parameters\n",
    "sigma_a = 1; sigma_s = 0.1; sigma_i = 0.2; \n",
    "sigma_a_sbin = sigma_a  # remember we need this copy for Fmatrix\n",
    "lam = -0.0005; B = 6.1; bias = 0.1; \n",
    "phi = 0.3; tau_phi = 0.1; lapse = 0.05*2;\n",
    "params = [sigma_a, sigma_s, sigma_i, lam, B, bias, phi, tau_phi, lapse]\n",
    "\n",
    "ntrials = 300\n",
    "\n",
    "l = [0, 0, 0, -5, 5, -5, 0.01, 0.005, 0]\n",
    "u = [200, 200, 30, +5, 25, +5, 1.2, 0.7, 1]\n"
   ]
  },
  {
   "cell_type": "code",
   "execution_count": 76,
   "metadata": {
    "collapsed": false
   },
   "outputs": [
    {
     "data": {
      "text/plain": [
       "Optim.TwiceDifferentiableFunction(LL_f,LL_g!,fg!,LL_h!)"
      ]
     },
     "execution_count": 76,
     "metadata": {},
     "output_type": "execute_result"
    }
   ],
   "source": [
    "function LL_f(params::Vector)\n",
    "    return SumLikey_LL(params, ratdata, ntrials)\n",
    "end\n",
    "\n",
    "function LL_g!(params::Vector, grads::Vector)\n",
    "#     LL, LLgrad, LLhess = llikey(params)\n",
    "    LL, LLgrad = SumLikey(params, ratdata, ntrials)\n",
    "    for i=1:length(params)\n",
    "        grads[i] = LLgrad[i]\n",
    "    end\n",
    "end\n",
    "\n",
    "function LL_fg!(params::Vector, grads)\n",
    "    LL, LLgrad = SumLikey(params, ratdata, ntrials)\n",
    "    for i=1:length(params)\n",
    "        grads[i] = LLgrad[i]\n",
    "    end\n",
    "    return LL\n",
    "end\n",
    "\n",
    "function LL_h!(params::Vector, hess)\n",
    "    LL, LLhess = SumLikey_hess(params, ratdata, ntrials)\n",
    "    for i=1:length(params)\n",
    "        for j=1:length(params)\n",
    "            hess[i,j] = LLhess[i,j]\n",
    "        end\n",
    "    end\n",
    "end\n",
    "\n",
    "d4 = DifferentiableFunction(LL_f,\n",
    "                            LL_g!,\n",
    "                            LL_fg!)\n",
    "\n",
    "d = TwiceDifferentiableFunction(LL_f, LL_g!, LL_h!)"
   ]
  },
  {
   "cell_type": "code",
   "execution_count": 77,
   "metadata": {
    "collapsed": false,
    "scrolled": true
   },
   "outputs": [
    {
     "name": "stdout",
     "output_type": "stream",
     "text": [
      "Iter     Function value   Gradient norm \n",
      " "
     ]
    },
    {
     "name": "stderr",
     "output_type": "stream",
     "text": [
      "WARNING: could not attach metadata for @simd loop.\n"
     ]
    },
    {
     "name": "stdout",
     "output_type": "stream",
     "text": [
      "    0     2.319092e+02     4.158894e+02\n",
      " * Current step size: 1.0\n",
      " * g(x): [-13.433466167620482,-8.764621447362567,-7.4660887452774425,-7.405265787956647,-0.010847042671399224,-16.167725587977245,4.025964076606384,-105.83289755469289,-415.8893609590811]\n",
      " * x: [1.0,0.1,0.2,-0.0005,6.1,0.1,0.3,0.1,0.1]\n",
      "     1     1.808170e+02     1.442787e+01\n",
      " * Current step size: 0.002490836370197098\n",
      " * g(x): [0.3575310691459636,-0.016851294960228386,0.18758940275284886,0.8557354212909624,-0.010846761781377928,-6.047798458634256,-0.05056420130979834,0.22824579472405707,14.42787082765553]\n",
      " * x: [1.0330419437785203,0.10963039238854945,0.21412334986876155,0.01792662944709249,6.100026737311571,0.14023033537769866,0.29140173726444957,0.20808348125188314,0.5538397223230191]\n",
      "     2     1.801866e+02     7.042245e+00\n",
      " * Current step size: 0.005102699615430716\n",
      " * g(x): [-0.1671926274941445,-0.29550481140503826,-0.10416325643042362,0.7633810171757078,-0.010846186410305967,-7.04224485351071,0.6223428988122792,-4.577923553040916,-2.001018685869612]\n",
      " * x: [1.031238974865259,0.10967225348156838,0.21337338194550942,0.013564489963694623,6.100081509679122,0.17105911458170675,0.29162126080675665,0.2072268155648274,0.48721114019583356]\n",
      "     3     1.792886e+02     1.916000e+01\n",
      " * Current step size: 0.02673006833025642\n",
      " * g(x): [0.9635503456292814,0.16857650282028183,0.5207623667804259,2.20974239067269,-0.010843173465984502,-5.598819589736497,-0.13998844289523038,2.1040435938011424,19.159995543400807]\n",
      " * x: [1.035655429847162,0.1135191636045575,0.21555152999147442,-0.006820075999484407,6.100368415255692,0.3591075377972581,0.2774647198251599,0.29707366499517646,0.5357675119302935]\n",
      "     4     1.787980e+02     1.350154e+01\n",
      " * Current step size: 0.001511358503856027\n",
      " * g(x): [0.7531344499701277,0.0720677104235539,0.40672337014238474,2.2162905557431682,-0.01084300320270514,-5.9893738574449875,0.2633226624752635,0.35965898233098353,13.501539709090697]\n",
      " * x: [1.0342161606270102,0.11339068967599591,0.21493310780041594,-0.010156407468166961,6.100384632912339,0.36756066018839756,0.2776422161442004,0.29448105153753484,0.5095121477081401]\n",
      "     5     1.781529e+02     7.045621e+00\n",
      " * Current step size: 0.005929107567224985\n",
      " * g(x): [0.008278539097792078,-0.27484641777931446,0.012238190078434942,2.2429768700370887,-0.010842335313006192,-7.04562122475451,1.6749339386797961,-5.8014273752364085,-3.375516451615069]\n",
      " * x: [1.0298030191056302,0.11317546471087062,0.21304063106989785,-0.023283727500091132,6.100448254316503,0.4030357588414627,0.27633215756043344,0.29274484158952013,0.4368341853878255]\n",
      "     6     1.775246e+02     1.424904e+01\n",
      " * Current step size: 0.014285753697122556\n",
      " * g(x): [1.1001174151943878,0.15455322818584366,0.5473560270826996,2.773218181193968,-0.010840726494511774,-5.309175333944271,0.1875996861642789,1.3827632350383534,14.249041974497516]\n",
      " * x: [1.0296861501374341,0.11514941415203585,0.21290395336784892,-0.0552938972943733,6.100601536206501,0.5035838518162127,0.25628308925000937,0.36015803988611106,0.4804210618656374]\n",
      "     7     1.768665e+02     6.234863e+00\n",
      " * Current step size: 0.004831484247183169\n",
      " * g(x): [0.3650934485095854,-0.15088753350343706,0.1840275696536971,2.7898121986023514,-0.01084018256751683,-6.234862535121103,1.7407513253781226,-3.9652961561490114,0.5501444603239158]\n",
      " * x: [1.0244337138725894,0.11476755357563743,0.21083711704840413,-0.06867908600669516,6.100653369053267,0.5292082738386786,0.25554203113468116,0.354637335886818,0.41793898028821397]\n",
      "     8     1.754896e+02     1.012319e+01\n",
      " * Current step size: 0.0338839143661653\n",
      " * g(x): [1.4403295018570736,0.21152132247367822,0.5664635882977507,1.7469188658486983,-0.010836369548392028,-2.5218135434822084,-0.7212878273850973,4.455784436204386,10.123185743556887]\n",
      " * x: [1.0122104811255108,0.11737359280602659,0.20598460081514008,-0.1631130779396025,6.101016862597221,0.7402486019384388,0.2073661458154566,0.46569193362472255,0.4011441086578747]\n",
      "     9     1.752980e+02     6.191355e+00\n",
      " * Current step size: 0.0019383582728654152\n",
      " * g(x): [1.163375559223364,0.1182830243856543,0.4535342310653341,1.7442207464537842,-0.010836151572442724,-2.638893347790072,-0.090312408420302,2.886536208025196,6.191355161913684]\n",
      " * x: [1.0094527080558187,0.11716000597042177,0.2051390708988181,-0.16649579313255536,6.101037649383733,0.7451314934476864,0.20841099985068134,0.45899903817648496,0.3835306888211395]\n",
      "    10     1.751449e+02     2.493237e+00\n",
      " * Current step size: 0.005589025444364037\n",
      " * g(x): [0.6100894498665363,-0.07257137345899521,0.22998570053610135,1.6816425892639968,-0.01083552312303622,-2.493237137604108,1.0775173541501029,-0.20413475073837928,-1.4219127986509985]\n",
      " * x: [1.0030304224087834,0.11681622156214051,0.2031908195176069,-0.1762343840344232,6.101097584427097,0.7598643704443756,0.20878917930060917,0.4463911779200562,0.35261981395785635]\n",
      "Iter     Function value   Gradient norm \n",
      "     0     1.753272e+02     2.494025e+00\n",
      " * Current step size: 1.0\n",
      " * g(x): [0.6226440432571451,0.03571013155388518,0.29184935209613005,1.6818212511168638,-1.0835523123036219e-5,-2.4940247007681013,1.1284163103860774,-0.2253661247802505,-1.4055704562722398]\n",
      " * x: [1.0030304224087834,0.11681622156214051,0.2031908195176069,-0.1762343840344232,6.101097584427097,0.7598643704443756,0.20878917930060917,0.4463911779200562,0.35261981395785635]\n",
      "     1     1.752375e+02     4.502602e+00\n",
      " * Current step size: 0.01636894966966227\n",
      " * g(x): [1.145226115286001,0.2230049390509103,0.4654956859933013,1.1097186768090797,-1.08355212633828e-5,-1.235707496220926,-0.3176520434834854,3.718820626852399,4.502602223632335]\n",
      " * x: [0.992838521749036,0.11623222640281494,0.19841501772390446,-0.2037640034410715,6.10109776179137,0.8006888908884244,0.19032434739130985,0.45007921838713333,0.37562448664960246]\n",
      "     2     1.751481e+02     1.631019e+00\n",
      " * Current step size: 0.003890108379451957\n",
      " * g(x): [0.772689708889917,0.09434212873665143,0.3278915772472766,1.2308431040776968,-1.0835520821433199e-5,-1.6310192596135638,0.530148538041992,1.380942220840932,-0.5595834916052047]\n",
      " * x: [0.9883835253009915,0.11536552578011015,0.19660477163261175,-0.20808092496737932,6.10109780394228,0.8054959217105304,0.19155955166127925,0.4356164616046182,0.3581110177303626]\n",
      "     3     1.742001e+02     3.240542e+00\n",
      " * Current step size: 0.14499742443478428\n",
      " * g(x): [0.9880925920231312,0.2642497492181677,0.2960322177326902,1.2844133799715798,-1.0835504348509894e-5,-1.1316765082247175,-0.0932143000541333,0.8317313264632711,3.2405421964592604]\n",
      " * x: [0.8763469606237587,0.10169916917895533,0.14907691590951186,-0.38654982311616704,6.101099375048419,1.0419892543656073,0.11471986836251814,0.23543335642997054,0.43923867364908054]\n",
      "     4     1.741655e+02     1.392625e+00\n",
      " * Current step size: 0.004226747311392277\n",
      " * g(x): [0.8258000669782602,0.1832004451510844,0.2537133027218416,1.3926252506447283,-1.0835503868317392e-5,-1.2967825772653847,0.12247978373229516,-0.7106499055625725,-0.7965144442567489]\n",
      " * x: [0.8721706118137851,0.10058361873270065,0.14782637543734048,-0.3919787083146996,6.101099420846877,1.0467725594757906,0.11511340277882366,0.23191888311097875,0.4255431717523151]\n",
      "     5     1.741379e+02     2.264666e+00\n",
      " * Current step size: 0.010000909758807243\n",
      " * g(x): [0.9661972272285997,0.2571981995218007,0.2758586530433974,0.8855251724280853,-1.0835502732133774e-5,-0.6735284638370581,-0.1913982339548917,1.7623661526439396,2.2646655933944486]\n",
      " * x: [0.8639119974144419,0.09875373908183556,0.14529048181672286,-0.40590621339536137,6.101099529210638,1.059741550000582,0.1138899095987036,0.2390238697459073,0.4335081778021344]\n",
      "     6     1.741156e+02     1.088885e+00\n",
      " * Current step size: 0.004052422583094179\n",
      " * g(x): [0.8267882389701967,0.18841460925235862,0.24266468874916147,1.0888845239786815,-1.0835502271746157e-5,-0.945972650064851,0.031833197112095875,0.04535324902005334,-0.9618708639601411]\n",
      " * x: [0.8599966244153526,0.09771281554189573,0.1441732565180907,-0.40949473189223645,6.101099573120213,1.0624709687888645,0.11466461844039677,0.23188409463939497,0.4243317766966502]\n",
      "     7     1.740918e+02     2.426639e+00\n",
      " * Current step size: 0.012668861694402117\n",
      " * g(x): [0.963728714549016,0.26341379693930256,0.2648281026222701,0.7415704338203191,-1.0835500832462442e-5,-0.5453696881214957,-0.23017868620129983,1.8873359743854072,2.4266393263210677]\n",
      " * x: [0.8495223379910795,0.09532898006153424,0.14110084382909702,-0.4232896450616485,6.101099710392253,1.0744553515351971,0.11426179826327287,0.23130969517716865,0.4365162625123586]\n",
      "     8     1.740695e+02     9.549605e-01\n",
      " * Current step size: 0.0036570394921166633\n",
      " * g(x): [0.8310463454620685,0.1966349415327675,0.2349807639653558,0.9549604619971311,-1.0835500416993713e-5,-0.8220460198383148,-0.02225556424950711,0.19491292605450908,-0.7125279562450364]\n",
      " * x: [0.8459980058924068,0.09436700649723367,0.14013297290422172,-0.426001594615867,6.101099750017692,1.076449787697974,0.11510258187762892,0.2244097377393792,0.42764289069377176]\n",
      "     9     1.740393e+02     3.093347e+00\n",
      " * Current step size: 0.020892208361177424\n",
      " * g(x): [0.9712580803854939,0.2780407319656609,0.2532605517613981,0.5552231844525324,-1.0835498043473596e-5,-0.3938366659463058,-0.294363700704466,2.1107222351671497,3.0933465785481715]\n",
      " * x: [0.8286359198236696,0.09026470456836393,0.13522687109640766,-0.4459528068977384,6.101099976392851,1.09362412439998,0.1155670121169721,0.22033887561549523,0.44252756642666485]\n",
      "    10     1.740125e+02     8.416473e-01\n",
      " * Current step size: 0.002999263052934608\n",
      " * g(x): [0.8416472778188899,0.2107226479236687,0.2261880201582028,0.7777389349554338,-1.0835497702733737e-5,-0.6705349970991988,-0.09235820880661781,0.3681694735105956,-0.11024043179014205]\n",
      " * x: [0.8257229150968897,0.08943208194114037,0.1344678019890836,-0.4476180655523942,6.101100008891019,1.094805342777344,0.11644887427507605,0.21401034191823995,0.4332507846555498]\n",
      "Iter     Function value   Gradient norm \n",
      "     0     1.740126e+02     8.416625e-01\n",
      " * Current step size: 1.0\n",
      " * g(x): [0.841662541974203,0.21086410466628475,0.2262817187830998,0.7777393918369442,-1.0835497702733738e-8,-0.6705361614281641,-0.09225099249639566,0.3682039850124688,-0.11023355070076396]\n",
      " * x: [0.8257229150968897,0.08943208194114037,0.1344678019890836,-0.4476180655523942,6.101100008891019,1.094805342777344,0.11644887427507605,0.21401034191823995,0.4332507846555498]\n",
      "     1     1.738144e+02     8.184034e-01\n",
      " * Current step size: 0.16937660977171168\n",
      " * g(x): [0.6581667666428778,0.17255901635784282,0.13094476965147156,-0.46238412161760634,-1.0835497683491029e-8,0.17328996803708324,-0.2897779614532549,-0.13037861170686146,-0.818403429746024]\n",
      " * x: [0.6831649698144222,0.05371669134392569,0.09614099846300626,-0.5793489268908822,6.101100010726299,1.2083784843963001,0.13207401699379603,0.15164522066407898,0.4519217677597288]\n",
      "     2     1.738090e+02     1.287135e+00\n",
      " * Current step size: 0.00866150258757437\n",
      " * g(x): [0.7311150029129273,0.21490377844429684,0.14362424312701497,-0.4763394855639161,-1.0835497682507e-8,0.18175596564861207,-0.3346602783852968,0.5060008162466766,1.287135171376578]\n",
      " * x: [0.6774642568168389,0.05222207753953697,0.09500682155642355,-0.5753439856292644,6.101100010820151,1.2068775328915624,0.13458392739504454,0.15277449463387516,0.4590103704454643]\n",
      "     3     1.738032e+02     6.779205e-01\n",
      " * Current step size: 0.00393936367979558\n",
      " * g(x): [0.6779205293982574,0.1811573438211046,0.13663138446732048,-0.3530389411809018,-1.0835497682059452e-8,0.0548981186388977,-0.276281534323273,-0.3779760260185978,-0.47574214091700634]\n",
      " * x: [0.6745841290081142,0.0513754973329173,0.09444103422364498,-0.5734675111625605,6.101100010862836,1.206161530042766,0.135902274849974,0.15078117463717974,0.4539398774247432]\n",
      "     4     1.737975e+02     1.295760e+00\n",
      " * Current step size: 0.010761829041810143\n",
      " * g(x): [0.7365410204827553,0.21512338325526453,0.1459670734870841,-0.44701972079217206,-1.0835497680836812e-8,0.1778031750636476,-0.3292275358894015,0.5567659522515214,1.2957603705886687]\n",
      " * x: [0.6672884643699124,0.049425922326845624,0.09297063271090689,-0.569668166436476,6.1011000109794455,1.2055707258759716,0.13887556708012042,0.15484888541535316,0.45905973248096527]\n",
      "     5     1.737918e+02     6.832703e-01\n",
      " * Current step size: 0.0038384278788672374\n",
      " * g(x): [0.6832702655934594,0.18153368081670956,0.1388531842315475,-0.32324028960013124,-1.0835497680400727e-8,0.04864823818739561,-0.27107438608994655,-0.3157546745697316,-0.4488253810899998]\n",
      " * x: [0.6644613048634024,0.04860019101744227,0.09241034944786987,-0.5679523134795922,6.101100011021037,1.2048882412126813,0.14013928225420172,0.15271178075910127,0.4540860502645165]\n",
      "     6     1.737858e+02     1.389364e+00\n",
      " * Current step size: 0.012199216091520816\n",
      " * g(x): [0.7450664765321819,0.21702445217745672,0.14890056695351336,-0.4107029322097971,-1.0835497679014784e-8,0.16366448530927893,-0.32816419602080676,0.6257238371738999,1.3893642603071104]\n",
      " * x: [0.6561259434837029,0.04638563429563646,0.0907164519614531,-0.5640090353414291,6.101100011153222,1.2042947708432787,0.143446174755981,0.15656373786651276,0.45956136750661575]\n",
      "     7     1.737798e+02     6.898843e-01\n",
      " * Current step size: 0.0036537900318902453\n",
      " * g(x): [0.6898842770559098,0.18258919403533763,0.14134048450498823,-0.2873402237425329,-1.083549767859968e-8,0.03244433738743477,-0.26300781997388367,-0.3002558373989362,-0.3948515771617352]\n",
      " * x: [0.6534036270987692,0.04559267718464438,0.09017240139173759,-0.5625084130632331,6.101100011192813,1.203696775179004,0.14464521695757968,0.1542774757065111,0.4544849227463606]\n",
      "     8     1.737733e+02     1.486358e+00\n",
      " * Current step size: 0.014136072197443294\n",
      " * g(x): [0.7533827152245717,0.21872459361311558,0.15160786889750985,-0.38662259595019954,-1.083549767699369e-8,0.1627551604847866,-0.3242359521166562,0.6813300555599267,1.4863583351589236]\n",
      " * x: [0.6436513734398218,0.0430115988863066,0.0881744052114828,-0.5584465509194556,6.101100011345984,1.2032381396838512,0.14836311184880063,0.1585219113080155,0.46006657256841743]\n",
      "     9     1.737668e+02     6.957910e-01\n",
      " * Current step size: 0.0035196537332776202\n",
      " * g(x): [0.6957910174804083,0.18317970186472046,0.14354423937591024,-0.26093731643962514,-1.0835497676593823e-8,0.028860701555878054,-0.2581276394746861,-0.2385025696694669,-0.3507206041079312]\n",
      " * x: [0.6409997272346843,0.042241769325762075,0.08764079887925529,-0.5570857732576819,6.101100011384122,1.2026652978763328,0.14950430935985085,0.15612386682701715,0.45483510644556613]\n",
      "    10     1.737592e+02     1.713801e+00\n",
      " * Current step size: 0.018101428857103294\n",
      " * g(x): [0.7667919566747715,0.2229823272143964,0.15522634602583985,-0.35869892984518315,-1.0835497674537335e-8,0.15732122937842388,-0.32234696388318995,0.7523992767833226,1.713800519313594]\n",
      " * x: [0.6284049160207039,0.03892597852668628,0.08504244732817404,-0.5523624349929559,6.10110001158026,1.202142877940984,0.15417678536650292,0.16044110154433017,0.46118364985013627]\n",
      "Iter     Function value   Gradient norm \n",
      "     0     1.737592e+02     1.713801e+00\n",
      " * Current step size: 1.0\n",
      " * g(x): [0.7667919767518596,0.22298265229213787,0.15522649442765077,-0.35869892927899827,-1.0835497674537334e-11,0.1573212280865592,-0.3223468882009504,0.7523993347490151,1.7138005232676365]\n",
      " * x: [0.6284049160207039,0.03892597852668628,0.08504244732817404,-0.5523624349929559,6.10110001158026,1.202142877940984,0.15417678536650292,0.16044110154433017,0.46118364985013627]\n",
      "     1     1.737522e+02     7.211904e-01\n",
      " * Current step size: 0.002407531423251061\n",
      " * g(x): [0.7211904020475967,0.19519293766562568,0.14865450725660684,-0.265407386099136,-1.0835497674537064e-11,0.058527469411199226,-0.27312127538522324,0.10357935606506466,0.28444351875525936]\n",
      " * x: [0.6265588402416362,0.03838914078894168,0.08466873466577302,-0.5514988560492311,6.101100011580286,1.2017641221408215,0.15495284562855194,0.15862967650411736,0.4570576212376111]\n",
      "     2     1.737445e+02     1.766368e+00\n",
      " * Current step size: 0.018736899808515693\n",
      " * g(x): [0.6594065181734727,0.1549665905281883,0.14062591552642756,-0.10306755826270518,-1.0835497674534932e-11,-0.10375110818646162,-0.19872910752696354,-0.9253346998398743,-1.766368086256542]\n",
      " * x: [0.6130459679360434,0.034731830304011606,0.08188341006214413,-0.5465259444474567,6.101100011580489,1.2006674988104191,0.1600702915978739,0.1566889204884213,0.45172803152606444]\n",
      "     3     1.737369e+02     7.308964e-01\n",
      " * Current step size: 0.0035890310321871166\n",
      " * g(x): [0.730896411547983,0.19758759248205462,0.15138385416061476,-0.23737011052694862,-1.0835497674534523e-11,0.04782316758557502,-0.27031519537443083,0.1353561839494974,0.4298068694969273]\n",
      " * x: [0.6106793374795721,0.034175650407494956,0.08137869928834372,-0.5461560317824405,6.101100011580528,1.2010398647573237,0.16078353653137742,0.16000997543933507,0.4580675814012434]\n",
      "     4     1.737318e+02     1.270867e+00\n",
      " * Current step size: 0.010898135822701048\n",
      " * g(x): [0.6771570502125948,0.16392919672690023,0.14361620960029242,-0.12785230524985328,-1.0835497674533284e-11,-0.06101346420932953,-0.21290785783946245,-0.6217511698125395,-1.2708672584296654]\n",
      " * x: [0.6027139291144681,0.0320223140111024,0.07972889748749354,-0.543569140077671,6.101100011580646,1.200518681381505,0.1637294682438318,0.15853484536305282,0.4533834877604208]\n",
      "     5     1.737268e+02     7.343272e-01\n",
      " * Current step size: 0.0040090679039966985\n",
      " * g(x): [0.7343272301027326,0.19760729525086665,0.15236639802086624,-0.22783119776981742,-1.0835497674532827e-11,0.05106745921682623,-0.26685078192903716,0.1535157107316449,0.45832641729403417]\n",
      " * x: [0.5999991605185904,0.03136511073809633,0.07915313035223888,-0.5430565715042424,6.10110001158069,1.2007632885025779,0.16458303030273705,0.1610274880207733,0.45847848089590143]\n",
      "     6     1.737220e+02     1.191723e+00\n",
      " * Current step size: 0.009918962995094075\n",
      " * g(x): [0.6816361974674342,0.1647600442454685,0.14464833846538078,-0.12256858947156124,-1.08354976745317e-11,-0.05458208609929402,-0.21516228322981978,-0.5391828200573432,-1.1917230681386626]\n",
      " * x: [0.5927153958971678,0.02940505131418422,0.07764181369163023,-0.540796722284438,6.101100011580797,1.2002567522643532,0.16722991333246848,0.1595047713677194,0.45393235812355825]\n",
      "     7     1.737173e+02     7.374146e-01\n",
      " * Current step size: 0.004181004192189858\n",
      " * g(x): [0.7374145582260351,0.197507195932566,0.15327744300523582,-0.21481542837031253,-1.0835497674531226e-11,0.04798085463297554,-0.2649303662851086,0.1639839593869286,0.47900290138842855]\n",
      " * x: [0.5898654720981109,0.028716188888581858,0.07703703838338419,-0.5402842624980271,6.101100011580843,1.2004849601951526,0.1681295077401818,0.16175909699744173,0.4589149572668573]\n",
      "     8     1.737126e+02     1.134086e+00\n",
      " * Current step size: 0.009293872484597471\n",
      " * g(x): [0.685361695791933,0.16529707225006257,0.14552908323175243,-0.11530015963745532,-1.0835497674530174e-11,-0.05314024251950646,-0.2118337865352178,-0.5184871836951481,-1.1340856236110992]\n",
      " * x: [0.5830120352259219,0.02688058222299566,0.07561249737636942,-0.5382877952990313,6.101100011580943,1.2000390322504924,0.17059173678045647,0.16023505099023258,0.4544631653820615]\n",
      "     9     1.737081e+02     7.400908e-01\n",
      " * Current step size: 0.004289756400453629\n",
      " * g(x): [0.7400907932672574,0.19726311947068043,0.15399370332577253,-0.2051488100366093,-1.0835497674529689e-11,0.047847499218834424,-0.2621678505006341,0.17434098895346556,0.4965891125829407]\n",
      " * x: [0.5800720005048823,0.026171498061767433,0.07498821306150726,-0.5377931857012537,6.101100011580989,1.2002669909459618,0.171500452121621,0.16245923470377596,0.45932811644410415]\n",
      "    10     1.737036e+02     1.098384e+00\n",
      " * Current step size: 0.008867452641941574\n",
      " * g(x): [0.6881684413127221,0.1653327971679974,0.14614968435457468,-0.10840587937397933,-1.0835497674528683e-11,-0.05097499728203011,-0.2125813797688388,-0.4798304237906571,-1.0983842246217075]\n",
      " * x: [0.573509280445095,0.024422276724213918,0.07362268119318532,-0.5359740383437053,6.101100011581085,1.199842705512604,0.1738252131190179,0.1609132742415396,0.4549246360062264]\n",
      "Iter     Function value   Gradient norm \n",
      "     0     1.737036e+02     1.098384e+00\n",
      " * Current step size: 1.0\n",
      " * g(x): [0.6881684413347271,0.16533279768616724,0.14614968452606117,-0.10840587937343035,-1.0835497674528682e-14,-0.050974997283319196,-0.2125813797039167,-0.47983042373295853,-1.0983842246171063]\n",
      " * x: [0.573509280445095,0.024422276724213918,0.07362268119318532,-0.5359740383437053,6.101100011581085,1.199842705512604,0.1738252131190179,0.1609132742415396,0.4549246360062264]\n",
      "     1     1.736994e+02     8.277418e-01\n",
      " * Current step size: 0.005274392480751078\n",
      " * g(x): [0.7533104653956969,0.20320917142794254,0.15624594612053247,-0.21266906285643708,-1.0835497674528682e-14,0.06462773543566898,-0.2681928278458377,0.29207184635596933,0.8277417750903253]\n",
      " * x: [0.569879609992629,0.02355024665929498,0.07285183039605872,-0.5354022631886688,6.101100011581085,1.2001115676549814,0.1749464507496754,0.16344408822051087,0.46071794550152184]\n",
      "     2     1.736954e+02     7.025986e-01\n",
      " * Current step size: 0.0052653365797347\n",
      " * g(x): [0.702598552952999,0.1725099678261386,0.1484477070864327,-0.12511348453003326,-1.0835497674528682e-14,-0.025219045965237566,-0.22235018762753042,-0.3123479179791008,-0.7016929068142335]\n",
      " * x: [0.5659131768432842,0.022480281975662295,0.07202914290051698,-0.5342824889926329,6.101100011581085,1.1997712808755265,0.1763585762565539,0.161906231643983,0.4563596064545647]\n",
      "     3     1.736914e+02     8.308577e-01\n",
      " * Current step size: 0.00669701557342677\n",
      " * g(x): [0.7550471746321841,0.20259552695868252,0.1566471680328854,-0.20608637918817155,-1.0835497674528682e-14,0.0656094863477304,-0.26753375404616714,0.3062129474157449,0.8308576761810085]\n",
      " * x: [0.5612078633922911,0.021324980034588256,0.07103498629432208,-0.5334446020382896,6.101100011581085,1.1999401732191026,0.17784765892584914,0.1639980305150153,0.46105885477926223]\n",
      "     4     1.736874e+02     7.044512e-01\n",
      " * Current step size: 0.005187978427606146\n",
      " * g(x): [0.7044512138564554,0.17215091785856346,0.14883645369225007,-0.11891759263163494,-1.0835497674528682e-14,-0.024950239343386603,-0.2176010714179869,-0.32357049488338524,-0.6880655961050838]\n",
      " * x: [0.5572906949384745,0.020273918811226393,0.07022230416582391,-0.5323754303488379,6.101100011581085,1.1995997926192843,0.1792356182704965,0.16240940434956957,0.45674838307882465]\n",
      "     5     1.736834e+02     8.311246e-01\n",
      " * Current step size: 0.006731192959464414\n",
      " * g(x): [0.7565522753683988,0.20189708704184486,0.15690052986334715,-0.2018945088083475,-1.0835497674528682e-14,0.06908552542754236,-0.26862546294527145,0.3446000155585906,0.8311245948048861]\n",
      " * x: [0.552548897887478,0.01911513776500721,0.06922045727662156,-0.5315749730865594,6.101100011581085,1.1997677374946893,0.1807003330703965,0.1645874197866178,0.4613798853749764]\n",
      "     6     1.736794e+02     7.062937e-01\n",
      " * Current step size: 0.005082582818583606\n",
      " * g(x): [0.7062937213500801,0.17169660936332207,0.14915829960714344,-0.11183216997714686,-1.0835497674528682e-14,-0.0262908371921957,-0.2178757866665026,-0.30412125145697694,-0.6748768715297875]\n",
      " * x: [0.5487036582913304,0.01808897909932183,0.06842299733931355,-0.5305488275249237,6.101100011581085,1.1994166045901384,0.1820656442329956,0.16283596166825703,0.45715562578931923]\n",
      "     7     1.736754e+02     8.599607e-01\n",
      " * Current step size: 0.0069753663105263305\n",
      " * g(x): [0.7591932801986337,0.20169271512596165,0.1573374466319648,-0.1935909110393371,-1.0835497674528682e-14,0.06647009880678943,-0.2691708624272251,0.35416367167249524,0.859960684312153]\n",
      " * x: [0.543777000862089,0.016891332354783684,0.0673825635613013,-0.529768757174032,6.101100011581085,1.1995999928101644,0.18358540765518788,0.16495731879998396,0.461863139182741]\n",
      "     8     1.736714e+02     7.083974e-01\n",
      " * Current step size: 0.004941693045043762\n",
      " * g(x): [0.7083973923126519,0.17145523653648653,0.14946371862046604,-0.10548990800482867,-1.0835497674528682e-14,-0.027319507879491715,-0.2155122201513135,-0.32451640941532855,-0.6521922351200481]\n",
      " * x: [0.5400253007094876,0.015894628867253985,0.06660505019555735,-0.5288120903153652,6.101100011581085,1.1992715179851876,0.18491556743397236,0.16320715064687377,0.45761347745006503]\n",
      "     9     1.736674e+02     8.704623e-01\n",
      " * Current step size: 0.007086555424384889\n",
      " * g(x): [0.7608664894007474,0.20103410651161396,0.15749372139010356,-0.1914660066010306,-1.0835497674528682e-14,0.07153932323264062,-0.26664542319580276,0.34864233461544963,0.8704622876096645]\n",
      " * x: [0.5350052033263745,0.014679601830798082,0.06554586726962178,-0.5280645302355758,6.101100011581085,1.1994651191919425,0.18644280672670624,0.16550685416831662,0.46223527387159624]\n",
      "    10     1.736634e+02     7.092371e-01\n",
      " * Current step size: 0.004938123375652482\n",
      " * g(x): [0.7092370970637899,0.17037648917322953,0.14944637575630276,-0.10411568496494676,-1.0835497674528682e-14,-0.02129777762138004,-0.21535135426623667,-0.30099811981529284,-0.6549763891963789]\n",
      " * x: [0.5312479507293142,0.013686870610188034,0.0647681438425091,-0.5271190474727364,6.101100011581085,1.1991118491876092,0.18775953472399962,0.16378521530601092,0.45793682370152744]\n",
      "Iter     Function value   Gradient norm \n",
      "     0     1.736634e+02     7.092371e-01\n",
      " * Current step size: 1.0\n",
      " * g(x): [0.7092370970638137,0.17037648917415418,0.14944637575649775,-0.10411568496494622,-1.0835497674528683e-17,-0.021297777621381332,-0.21535135426617796,-0.3009981198152367,-0.6549763891963746]\n",
      " * x: [0.5312479507293142,0.013686870610188034,0.0647681438425091,-0.5271190474727364,6.101100011581085,1.1991118491876092,0.18775953472399962,0.16378521530601092,0.45793682370152744]\n",
      "     1     1.736594e+02     8.760143e-01\n",
      " * Current step size: 0.007164153964249016\n",
      " * g(x): [0.7625121125302674,0.20022180817894197,0.15764714457498624,-0.18583993982507177,-1.0835497674528683e-17,0.07236447723866142,-0.2659325864824476,0.3530487128582113,0.8760143108930248]\n",
      " * x: [0.526166866968792,0.012466267209856271,0.06369748699719055,-0.5263731466755542,6.101100011581085,1.199264429745585,0.18930234498237206,0.16594161217931674,0.46262917539667814]\n",
      "     2     1.736553e+02     7.105509e-01\n",
      " * Current step size: 0.004903166827249263\n",
      " * g(x): [0.7105509108973728,0.16950785631972806,0.1494869068961167,-0.0993976351668141,-1.0835497674528683e-17,-0.020056226618783972,-0.21298815653967226,-0.29863441579533184,-0.6495725362509902]\n",
      " * x: [0.5224281428732578,0.011484546281901497,0.06292451674749991,-0.525461942447426,6.101100011581085,1.1989096146413172,0.1906062568186974,0.1642105554420273,0.45833393108731185]\n",
      "     3     1.736513e+02     8.885863e-01\n",
      " * Current step size: 0.007259409973827714\n",
      " * g(x): [0.764326436458489,0.19946485172934084,0.15774534136414267,-0.18202693420036548,-1.0835497674528683e-17,0.07429849404908637,-0.26578952420884366,0.35778880618666614,0.8885863025077335]\n",
      " * x: [0.517269962503777,0.010254019259092025,0.061839330004621586,-0.5247403742633211,6.101100011581085,1.199055211012871,0.19215242516658868,0.16637846509858015,0.46304944443569684]\n",
      "     4     1.736472e+02     7.117953e-01\n",
      " * Current step size: 0.004856443368769199\n",
      " * g(x): [0.7117953499852706,0.1685662438024259,0.1494924968651634,-0.09511253321267302,-1.0835497674528683e-17,-0.01791999983725894,-0.2123448322504429,-0.28390032504417456,-0.6439277198903839]\n",
      " * x: [0.5135580544498631,0.009285329502608653,0.06107324868759947,-0.5238563707657864,6.101100011581085,1.1986943845841367,0.19344321693892103,0.16464088402335506,0.458734075379304]\n",
      "     5     1.736431e+02     9.086388e-01\n",
      " * Current step size: 0.0074299633947964554\n",
      " * g(x): [0.7664591600224816,0.19877407186198617,0.1578823480849109,-0.17705540569432157,-1.0835497674528683e-17,0.07473317885180744,-0.26191959158478506,0.33834533210105694,0.9086388211394577]\n",
      " * x: [0.5082694410548863,0.008032888481558477,0.05996252490809458,-0.5231496881256299,6.101100011581085,1.1988275295269624,0.195020931269616,0.16675025304620408,0.4635184347669843]\n",
      "     6     1.736390e+02     7.129718e-01\n",
      " * Current step size: 0.004824216688506015\n",
      " * g(x): [0.7129717795340234,0.16747294210538857,0.14936961846273183,-0.09374683250361246,-1.0835497674528683e-17,-0.013398779022143576,-0.2116278922097228,-0.27310295066354345,-0.636314961592785]\n",
      " * x: [0.5045718759840475,0.007073959286839778,0.05920086624964284,-0.5222955344826892,6.101100011581085,1.1984670004783604,0.196284488134386,0.16511800184860406,0.4591349642022189]\n",
      "     7     1.736349e+02     9.204137e-01\n",
      " * Current step size: 0.0075677011253620806\n",
      " * g(x): [0.7681770003693287,0.19774805437946816,0.1578322499965798,-0.17388343977844206,-1.0835497674528683e-17,0.0776364359063179,-0.26131186100174125,0.32548377489650954,0.9204137039321166]\n",
      " * x: [0.4991763186457165,0.005806574114401451,0.05807048161990752,-0.5215860864728524,6.101100011581085,1.1985683984334448,0.19788602477241954,0.16718476335568028,0.4639504056531493]\n",
      "     8     1.736308e+02     7.139164e-01\n",
      " * Current step size: 0.0048098342641857755\n",
      " * g(x): [0.7139163939828774,0.16619485090068264,0.1491618606156369,-0.09203058512928888,-1.0835497674528683e-17,-0.00812146681924542,-0.21249216970596296,-0.25078039112786626,-0.633276147056885]\n",
      " * x: [0.49548151458838063,0.0048554387467713706,0.05731133465588044,-0.5207497359462316,6.101100011581085,1.1981949800438734,0.19914289151510386,0.16561924034274653,0.4595233682827505]\n",
      "     9     1.736266e+02     9.397079e-01\n",
      " * Current step size: 0.007751083745466785\n",
      " * g(x): [0.7702819628700449,0.19676162931050753,0.15786136680578686,-0.1693636111605733,-1.0835497674528683e-17,0.07850680313579178,-0.2618394615851239,0.346970486488071,0.9397078542894018]\n",
      " * x: [0.4899478888313577,0.0035672485393755055,0.056155168582619,-0.5200363991737502,6.101100011581085,1.1982579302133254,0.20078993611775073,0.16756306015609954,0.4644319447325949]\n",
      "    10     1.736224e+02     7.156189e-01\n",
      " * Current step size: 0.004702467074351542\n",
      " * g(x): [0.7156188910876615,0.1651744474843328,0.14909680209481577,-0.08748474793858438,-1.0835497674528683e-17,-0.008507748944907264,-0.2099456484671112,-0.2697161347222732,-0.6164851307840512]\n",
      " * x: [0.4863256632629944,0.0026419834560480015,0.055412830702902656,-0.5192399723686744,6.101100011581085,1.1978887545564667,0.2020212275646207,0.16593144286761766,0.46001299948828944]\n",
      "Iter     Function value   Gradient norm \n",
      "     0     1.736224e+02     7.156189e-01\n",
      " * Current step size: 1.0\n",
      " * g(x): [0.7156188910876615,0.1651744474843376,0.149096802094816,-0.08748474793858438,-1.0835497674528683e-20,-0.008507748944907266,-0.20994564846711114,-0.2697161347222731,-0.6164851307840512]\n",
      " * x: [0.4863256632629944,0.0026419834560480015,0.055412830702902656,-0.5192399723686744,6.101100011581085,1.1978887545564667,0.2020212275646207,0.16593144286761766,0.46001299948828944]\n",
      "     1     1.736183e+02     9.537097e-01\n",
      " * Current step size: 0.007876753201860964\n",
      " * g(x): [0.7719171939844737,0.19543447897030652,0.15762200381321206,-0.1685095343302973,-1.0835497674528683e-20,0.0844736942876498,-0.2628745657007485,0.3694335299634239,0.9537097115335244]\n",
      " * x: [0.48068890987130747,0.001340945097960132,0.05423843198961508,-0.5185508766002351,6.101100011581085,1.197955767995209,0.20367491762340081,0.16805593029538488,0.4648689007160924]\n",
      "     2     1.736141e+02     7.165830e-01\n",
      " * Current step size: 0.004644830593547723\n",
      " * g(x): [0.7165830243430409,0.16350495284593256,0.1488001857150192,-0.0851370846847525,-1.0835497674528683e-20,-0.00518136842766654,-0.21004493137562874,-0.25577702690042536,-0.6130242222334823]\n",
      " * x: [0.4771034852730029,0.00043318505100479966,0.05350630448408718,-0.5177681783598733,6.101100011581085,1.1975634019956318,0.2048959254484332,0.16633997413312843,0.4604390806705979]\n",
      "     3     1.736118e+02     7.355318e-01\n",
      " * Current step size: 0.0026493695968525825\n",
      " * g(x): [0.7355317993181654,0.05686182196594622,0.1516870339909345,-0.11186557349039976,-1.0835497674528683e-20,0.024870930855663928,-0.22711653934046683,-0.04847302115301755,-0.08774266912220519]\n",
      " * x: [0.47520499199468774,1.0842021724855044e-19,0.05311207779604779,-0.5175426187561448,6.101100011581085,1.1975771293556141,0.2054524121035928,0.16701762201177175,0.4620632084071175]\n",
      "     4     1.734473e+02     5.153615e+06\n",
      " * Current step size: 0.3501425032756722\n",
      " * g(x): [0.9776308396979735,-0.0064021873110889915,5.153615497165412e6,-0.47074111197661694,-1.0835497674528683e-20,0.637247170948539,-0.4878010314985623,1.8245287905307197,5.90243497652383]\n",
      " * x: [0.21766404654256594,8.994709457522345e-20,6.938893903907228e-18,-0.4783737268238476,6.101100011581085,1.1888687593670157,0.2849755657235715,0.18399008697962393,0.49278564621765547]\n",
      "     5     1.734473e+02     1.605881e+12\n",
      " * Current step size: 3.5427750302742037e-10\n",
      " * g(x): [0.9776308035663752,-0.006402202431983917,-1.6058814003711677e12,-0.47074108553088806,-1.0835497674528683e-20,0.6372471435189294,-0.4878010135265509,1.8245286200617568,5.9024342930053955]\n",
      " * x: [0.21766404619621332,8.994709457667189e-20,1.4588071919557781e-28,-0.4783737266570746,6.101100011581085,1.1888687591412535,0.28497556589638845,0.18399008633323444,0.49278564412655557]\n",
      "     6     1.733845e+02     1.016460e+11\n",
      " * Current step size: 0.0031056262403493765\n",
      " * g(x): [0.6528161435939448,-0.14441757273351868,-1.0164595222209154e11,-0.22813106078443388,-1.0835497674528683e-20,0.38272207406887837,-0.32609629785770383,0.2650452548691999,-0.2551418992999831]\n",
      " * x: [0.21462789031928375,8.995979174955792e-20,8.523345512886334e-27,-0.47691178078943935,6.101100011581085,1.1868897076907534,0.2864904935240655,0.17832378237450222,0.47445488930426]\n",
      "     7     1.733658e+02     2.783817e+09\n",
      " * Current step size: 0.048048868381126104\n",
      " * g(x): [1.0090389290049917,-0.08811767223864575,2.7838171397574086e9,0.204659280285947,-1.0835497674528683e-20,-0.1995221829695645,-0.3533109357018554,-0.5749715622033634,2.144397074155797]\n",
      " * x: [0.18326081335866398,9.439234796733916e-20,2.8014298949702356e-23,-0.46595034147616143,6.101100011581085,1.1685003451272662,0.3021590516194028,0.16558865780825002,0.4867141688422354]\n",
      "     8     1.733658e+02     1.294107e+16\n",
      " * Current step size: 1.6245211552009152e-7\n",
      " * g(x): [1.0090310343315405,-0.08812087336640967,1.2941068089480192e16,0.2046581181269841,-1.0835497674528683e-20,-0.1995193588955646,-0.35330926762515213,-0.5749818825239983,2.1442867175265983]\n",
      " * x: [0.18326064943815532,9.439235803471147e-20,7.176246074976212e-32,-0.4659503747234945,6.101100011581085,1.1685003775400669,0.30215910901551174,0.16558875121359667,0.4867138204803942]\n",
      "     9     1.733657e+02     2.853978e+27\n",
      " * Current step size: 1.364201086433809e-5\n",
      " * g(x): [1.0083679688171325,-0.08839001289281559,-2.853978134544647e27,0.20455378809733515,-1.0835497674528683e-20,-0.19928223428189748,-0.352878013338785,-0.5800766305641122,2.13501964802278]\n",
      " * x: [0.1832468842258225,9.439320347904764e-20,1.0230026171783791e-42,-0.46595316667176545,6.101100011581085,1.1685030993853285,0.30216392886437915,0.16559659512268488,0.48668456809769745]\n",
      "    10     1.733530e+02     1.762884e+24\n",
      " * Current step size: 0.004094147541194409\n",
      " * g(x): [0.7992800211600467,-0.17123896165481547,1.7628844916394413e24,0.1751276166042706,-1.0835497674528683e-20,-0.1254521707605471,-0.3117198568826731,-0.8513605250360415,-0.6648437806220934]\n",
      " * x: [0.17911847698567063,9.464771198494175e-20,9.66232940322787e-40,-0.46679064006034615,6.101100011581085,1.1693189902548173,0.3036086635150317,0.16797151443341327,0.47794348265534325]\n",
      "Iter     Function value   Gradient norm \n",
      "     0     1.733530e+02     1.762898e+24\n",
      " * Current step size: 1.0\n",
      " * g(x): [0.7992800211600467,-0.03751747257799998,1.7628975903783233e24,0.1751276166042706,-1.0835497674528684e-23,-0.1254521707605471,-0.3117198568826731,-0.8513605250360415,-0.6648437806220934]\n",
      " * x: [0.17911847698567063,9.464771198494175e-20,9.66232940322787e-40,-0.46679064006034615,6.101100011581085,1.1693189902548173,0.3036086635150317,0.16797151443341327,0.47794348265534325]\n",
      "     1     1.733530e+02     1.289057e+32\n",
      " * Current step size: 7.437669861495819e-9\n",
      " * g(x): [0.799280049979328,-0.037517463863351995,1.2890573349220307e32,0.17512742251765098,-1.0835497674528684e-23,-0.1254519113894695,-0.3117199036571257,-0.8513597302486673,-0.6648419220742446]\n",
      " * x: [0.1791184710408897,9.464790929302378e-20,3.3583616478857955e-47,-0.46679064136288756,6.101100011581085,1.1693189911878892,0.30360866583350105,0.16797152076555177,0.4779434876002318]\n",
      "     2     1.733530e+02     3.228678e+37\n",
      " * Current step size: 2.926478564325734e-9\n",
      " * g(x): [0.7992800613175296,-0.037517460435188776,-3.2286776463140357e37,0.1751273461511688,-1.0835497674528684e-23,-0.1254518093356805,-0.3117199220612312,-0.8513594175271999,-0.6648411907998238]\n",
      " * x: [0.17911846870181378,9.464798692757286e-20,6.126079210871651e-53,-0.4667906418753942,6.101100011581085,1.1693189915550215,0.30360866674574266,0.16797152325703776,0.47794348954587745]\n",
      "     3     1.733456e+02     8.414360e+30\n",
      " * Current step size: 0.007749412579682425\n",
      " * g(x): [0.8314529965515954,-0.02683224198866696,-8.414359710748691e30,-0.025727891488247008,-1.0835497674528684e-23,0.14518985791772615,-0.37065918957689037,-0.05684746730209887,1.2452883280520648]\n",
      " * x: [0.17292451773995038,3.0022717367238197e-19,7.411621108891496e-47,-0.46814777593470447,6.101100011581085,1.1702911693844313,0.3060243130311016,0.17456905863705416,0.4830956182333527]\n",
      "     4     1.733404e+02     8.434815e+25\n",
      " * Current step size: 0.00431990045162755\n",
      " * g(x): [0.7030088450738279,-0.07980644401418369,8.434814690740332e25,-0.007017024517733823,-1.0835497674528684e-23,0.14390384659322789,-0.33787790737110046,-0.3346621410145979,-0.5875453774055799]\n",
      " * x: [0.16933272356464008,1.1249060319639483e-18,1.5760770268677584e-41,-0.46803663400464496,6.101100011581085,1.1696639636516408,0.3076255238315547,0.17481463403672637,0.47771609662259407]\n",
      "     5     1.733404e+02     4.271325e+33\n",
      " * Current step size: 9.529998870998677e-9\n",
      " * g(x): [0.7030089296453219,-0.07980642193137273,-4.27132546415296e33,-0.0070171241780734184,-1.0835497674528684e-23,0.14390397552863296,-0.33787795445526425,-0.3346616174244634,-0.5875435375884082]\n",
      " * x: [0.16933271686496656,1.1249819976500707e-18,7.136661772973541e-50,-0.46803663393777273,6.101100011581085,1.1696639622802374,0.3076255270515308,0.1748146372260562,0.47771610222190086]\n",
      "     6     1.733355e+02     9.090438e+28\n",
      " * Current step size: 0.009140610993868524\n",
      " * g(x): [0.7847161701993683,-0.05954729339223036,9.090438156814497e28,-0.10182674699793384,-1.0835497674528684e-23,0.26727805254371334,-0.38956519349855984,0.15476220390002,1.1605721208714528]\n",
      " * x: [0.1629067857138628,7.399659395551651e-17,1.569582905157138e-44,-0.46797249313536526,6.101100011581085,1.168348592019459,0.3107139379966104,0.17787364888551208,0.48308660914095786]\n",
      "     7     1.733355e+02     1.446201e+37\n",
      " * Current step size: 8.879259674422126e-9\n",
      " * g(x): [0.784716772060955,-0.05953868563229215,-1.4462009314034742e37,-0.10182667411538658,-1.0835497674528684e-23,0.267277984745176,-0.3895651446048328,0.15476158532070688,1.160568483977665]\n",
      " * x: [0.16290677874616416,7.422510984687637e-17,6.848664538946134e-53,-0.4679724922312191,6.101100011581085,1.1683485896462278,0.3107139414556609,0.17787364751133827,0.48308659883593663]\n",
      "     8     1.733307e+02     7.349694e+31\n",
      " * Current step size: 0.004293893427911842\n",
      " * g(x): [0.669133429082933,-0.1091734854502563,-7.349694017876901e31,-0.061492702260573975,-1.0835497674528684e-23,0.2306239587329443,-0.3577641365019701,-0.17404282363811036,-0.5971641406719141]\n",
      " * x: [0.15953728855583943,1.1124902755682523e-13,2.2990432666541764e-47,-0.46753525934444895,6.101100011581085,1.167200926464105,0.3123866926698231,0.17720911775723647,0.4781032414499433]\n",
      "     9     1.733258e+02     2.472044e+25\n",
      " * Current step size: 0.009704689840431343\n",
      " * g(x): [0.7808567729062833,-0.08433669867709148,2.4720439499047616e25,-0.1148464795692101,-1.0835497674528684e-23,0.2980948808346797,-0.4049923970879253,0.1893352669910798,1.2008901951368491]\n",
      " * x: [0.15304355616472531,1.0340021502661148e-6,2.975772375427117e-41,-0.4669384917415601,6.101100011581085,1.1649627924748294,0.31585868265060446,0.17889814937959722,0.483898534218992]\n",
      "    10     1.733258e+02     3.045250e+33\n",
      " * Current step size: 1.7222251807878337e-8\n",
      " * g(x): [0.7808583568965612,-0.08432241980726363,-3.045250320821701e33,-0.11484626317490769,-1.0835497674528684e-23,0.2980946850907074,-0.4049922818884831,0.18933374566916944,1.2008828570299541]\n",
      " * x: [0.15304354271661336,1.0354546181273597e-6,3.652600452649444e-49,-0.4669384897636451,6.101100011581085,1.1649627873409643,0.3158586896254855,0.17889814611881757,0.4838985135369587]\n",
      "Iter     Function value   Gradient norm \n",
      "     0     1.733258e+02     3.045250e+33\n",
      " * Current step size: 1.0\n",
      " * g(x): [0.7808583568965612,-0.08432241980726361,-3.045250286171229e33,-0.11484626317490769,-1.0835497674528685e-26,0.2980946850907074,-0.4049922818884831,0.18933374566916944,1.2008828570299541]\n",
      " * x: [0.15304354271661336,1.0354546181273597e-6,3.652600452649444e-49,-0.4669384897636451,6.101100011581085,1.1649627873409643,0.3158586896254855,0.17889814611881757,0.4838985135369587]\n",
      "     1     1.733210e+02     5.906312e+23\n",
      " * Current step size: 0.003323640273382505\n",
      " * g(x): [0.6876731579340415,-0.12081593405323497,5.906311735870687e23,-0.07902219947385442,-1.0835497674528685e-26,0.26523609091215594,-0.38206115744602487,-0.062352990233341545,-0.20997516336460764]\n",
      " * x: [0.15044825043382465,0.00028129284503861205,1.0658485739830761e-40,-0.46655678209810947,6.101100011581085,1.1639720278403156,0.31720473828397916,0.17826886885660118,0.4799072109097193]\n",
      "     2     1.733210e+02     6.378786e+31\n",
      " * Current step size: 2.0124905448044399e-10\n",
      " * g(x): [0.6876729121851357,-0.12083332437005093,-6.378785692355535e31,-0.07902208272570152,-1.0835497674528685e-26,0.26523602212561126,-0.38206108178641024,-0.062353486250816284,-0.20997511096431387]\n",
      " * x: [0.15044825029543107,0.00028129286935270456,2.7783645503916084e-47,-0.4665567820822063,6.101100011581085,1.1639720277869372,0.3172047383608686,0.17826886886914967,0.4799072109519766]\n",
      "     3     1.732764e+02     3.157851e+21\n",
      " * Current step size: 0.1378334269105523\n",
      " * g(x): [1.17987064121785,-0.059421031168004755,3.157850776824625e21,-0.46292640092481274,-1.0835497674528685e-26,1.008308902082307,-0.845398900685337,1.86764305508626,6.356314249868172]\n",
      " * x: [0.05566393621539452,0.016936164052271177,5.357043686184855e-37,-0.4556648976185137,6.101100011581085,1.127413637917241,0.3698655265526423,0.1868632635589197,0.5088488000621114]\n",
      "     4     1.732764e+02     5.397521e+25\n",
      " * Current step size: 7.489077121192023e-12\n",
      " * g(x): [1.17987301288476,-0.059405984900845483,-5.397521193766327e25,-0.46292639150248727,-1.0835497674528685e-26,1.0083088873907649,-0.8453988156694265,1.867642357450028,6.356314162714157]\n",
      " * x: [0.05566393620655838,0.016936164052716186,9.140631743440656e-43,-0.4556648976150468,6.101100011581085,1.1274136379096897,0.3698655265589736,0.18686326354493277,0.5088488000145085]\n",
      "Iter     Function value   Gradient norm \n",
      "     0     1.732764e+02     5.397521e+25\n",
      " * Current step size: 1.0\n",
      " * g(x): [1.17987301288476,-0.059405984900845483,-5.397521192381693e25,-0.46292639150248727,-1.0835497674528685e-29,1.0083088873907649,-0.8453988156694265,1.867642357450028,6.356314162714157]\n",
      " * x: [0.05566393620655838,0.016936164052716186,9.140631743440656e-43,-0.4556648976150468,6.101100011581085,1.1274136379096897,0.3698655265589736,0.18686326354493277,0.5088488000145085]\n",
      "     1     1.732015e+02     4.837694e+16\n",
      " * Current step size: 0.0029389176099205807\n",
      " * g(x): [0.5794816097789415,-0.1918046618739982,-4.837694472705089e16,-0.3162057671373925,-1.0835497674528685e-29,0.866722367475761,-0.7691452125493539,1.1451697437730235,-0.18465128951485466]\n",
      " * x: [0.052196386631521305,0.017110753347875957,1.0461365040973563e-32,-0.45430439509096315,6.101100011581085,1.1244503011642977,0.3723500840257505,0.18137441653158928,0.4901681163875203]\n",
      "     2     1.730389e+02     2.198673e+08\n",
      " * Current step size: 0.07621487451218029\n",
      " * g(x): [15.56538461098703,1.5617165507122694,2.1986731730011433e8,1.4907074818650985,-1.0835497674528685e-29,-1.5030883135229738,-0.0973977062911185,-5.9251347932448155,0.24708891640407715]\n",
      " * x: [0.008031268460103054,0.031729121583453895,3.184997189613284e-20,-0.4302048122285591,6.101100011581085,1.0583931646902327,0.4309703898818437,0.09409544821478265,0.5042412912464072]\n",
      "     3     1.730389e+02     1.330291e+16\n",
      " * Current step size: 1.809156366472487e-18\n",
      " * g(x): [15.565384609898313,1.5617165506985367,-1.330290605735393e16,1.490707481820074,-1.0835497674528685e-29,-1.503088313446334,-0.09739770629199057,-5.925134793262278,0.24708891630661545]\n",
      " * x: [0.008031268460103026,0.031729121583453895,1.0585392456838345e-31,-0.4302048122285591,6.101100011581085,1.0583931646902327,0.4309703898818437,0.09409544821478266,0.5042412912464072]\n",
      "     4     1.729079e+02     4.347273e+08\n",
      " * Current step size: 0.0004878757265609941\n",
      " * g(x): [-0.6240553198885059,1.2999533055579504,-4.347272544357273e8,1.0165132593977524,-1.0835497674528685e-29,-0.6735016302420734,-0.0827209617274958,-5.215720085283144,-0.38129957231692857]\n",
      " * x: [0.00043729513434757113,0.030967197986599516,5.740157754556772e-21,-0.430932092224342,6.101100011581085,1.0591264849932407,0.4310179078585663,0.09698617765701732,0.5041207425618389]\n",
      "     5     1.728688e+02     1.300509e+01\n",
      " * Current step size: 0.004689241416251538\n",
      " * g(x): [13.005085323216258,0.8354232946134191,3.1906869801090867,0.45232839034049027,-1.0835497674528685e-29,0.1502139159242605,-0.31648589653704584,-0.42340630794537837,0.996197188911665]\n",
      " * x: [0.0033636411864008554,0.024871403106984085,5.301774854433857e-6,-0.43569876830047877,6.101100011581085,1.0622846967316848,0.431405806418291,0.12144394829650204,0.5059087483083464]\n",
      "     6     1.728684e+02     2.398258e+08\n",
      " * Current step size: 1.6616405455895249e-6\n",
      " * g(x): [12.939327159402914,0.8332829902731338,2.3982577510579452e8,0.4505542729242023,-1.0835497674528685e-29,0.15434477698666438,-0.31715909734186637,-0.41112244227988254,0.9913967657415665]\n",
      " * x: [0.003342031409328948,0.024870014933765026,8.470329472543003e-22,-0.4356995199076721,6.101100011581085,1.0622844471301516,0.4314063323040888,0.12144465184559058,0.5059070929867059]\n",
      "     7     1.728684e+02     1.146434e+15\n",
      " * Current step size: 6.236625605168879e-17\n",
      " * g(x): [12.939327160942371,0.8332830000646807,1.1464341491938022e15,0.4505542725255966,-1.0835497674528685e-29,0.1543447771603244,-0.31715909717134727,-0.41112244242754364,0.9913967656927583]\n",
      " * x: [0.003342031409328141,0.024870014933764974,3.805982319092387e-30,-0.43569951990767214,6.101100011581085,1.0622844471301516,0.4314063323040888,0.12144465184559061,0.5059070929867058]\n",
      "Iter     Function value   Gradient norm \n",
      "     0     1.728684e+02     1.146434e+15\n",
      " * Current step size: 1.0\n",
      " * g(x): [12.939327160942371,0.8332830000646807,1.1464341491938055e15,0.4505542725255966,-1.0835497674528685e-32,0.1543447771603244,-0.31715909717134727,-0.41112244242754364,0.9913967656927583]\n",
      " * x: [0.003342031409328141,0.024870014933764974,3.805982319092387e-30,-0.43569951990767214,6.101100011581085,1.0622844471301516,0.4314063323040888,0.12144465184559061,0.5059070929867058]\n",
      "     1     1.728684e+02     1.528168e+15\n",
      " * Current step size: 1.4722879609026838e-18\n",
      " * g(x): [12.939327161037147,0.8332830000646417,-1.528167902809035e15,0.45055427252526886,-1.0835497674528685e-32,0.15434477716059433,-0.31715909717140334,-0.41112244242685697,0.9913967656964175]\n",
      " * x: [0.003342031409328122,0.024870014933764974,1.8761055779682433e-30,-0.43569951990767214,6.101100011581085,1.0622844471301516,0.4314063323040888,0.12144465184559061,0.5059070929867058]\n",
      "     2     1.728442e+02     3.614121e+06\n",
      " * Current step size: 0.00019897406598708497\n",
      " * g(x): [1.0645952358363586,0.6083785005722289,-3.6141214902653336e6,0.22258452524141265,-1.0835497674528685e-32,0.537910575611626,-0.3359586165826045,0.19943979673697193,0.5753671872788079]\n",
      " * x: [0.0007674408729594355,0.024704213227124197,8.447656809153581e-17,-0.43578916852322436,6.101100011581085,1.0622537365222762,0.4314694387392178,0.12152645454957882,0.5057098307412287]\n",
      "     3     1.728411e+02     3.868078e+00\n",
      " * Current step size: 1.74950263494516e-9\n",
      " * g(x): [3.8680777187233324,0.6473859449874557,-0.6579748526982755,0.22297417422804983,-1.0835497674528685e-32,0.5073847637078904,-0.33473533347182255,0.1332625499255369,0.6317779166668156]\n",
      " * x: [0.0007674390104472653,0.024704212162764406,0.002278276422934531,-0.4357891689126366,6.101100011581085,1.0622537355812003,0.4314694393269783,0.12152645420065837,0.5057098297346222]\n",
      "     4     1.728406e+02     1.120085e+00\n",
      " * Current step size: 4.59330352304808e-5\n",
      " * g(x): [1.120085032077154,0.6224471866458953,-0.7716517407677326,0.20688799653332068,-1.0835497674528685e-32,0.5391519731394186,-0.3323333176692948,0.17776400733675912,0.5885255611725538]\n",
      " * x: [0.0005897664603189087,0.024674475761345578,0.0023084992050242913,-0.43579941079323686,6.101100011581085,1.0622304298589735,0.4314848147368435,0.12152033304725773,0.5056808102573181]\n",
      "     5     1.728404e+02     1.135400e+00\n",
      " * Current step size: 8.86884053366663e-5\n",
      " * g(x): [-1.1353997846272774,0.6075895433278621,-0.8370026179600258,0.19804606487078114,-1.0835497674528685e-32,0.5566245751727287,-0.3347412626459587,0.21467004507849924,0.5501494234418234]\n",
      " * x: [0.0004904279049825172,0.02461927191295566,0.0023769357673882443,-0.4358177593597327,6.101100011581085,1.0621826133302417,0.43151428884882786,0.12150456744092078,0.5056286148637978]\n",
      "     6     1.728403e+02     1.727911e+00\n",
      " * Current step size: 0.00011120789116872491\n",
      " * g(x): [1.7279110887546765,0.6277868278023745,-0.7270743599006195,0.21119769329583962,-1.0835497674528685e-32,0.5299851413852106,-0.33287388913771365,0.1565610585037253,0.553729165002808]\n",
      " * x: [0.0006166933206643412,0.024551703161146,0.0024700170634342805,-0.43583978364496123,6.101100011581085,1.062120712285064,0.4315515147187339,0.1214806944379105,0.5055674339065892]\n",
      "     7     1.728401e+02     8.000417e-01\n",
      " * Current step size: 6.334511274797339e-5\n",
      " * g(x): [-0.5901045680624738,0.6114607388149276,-0.800041702091533,0.20117168001726393,-1.0835497674528685e-32,0.5497737589119176,-0.331573104327546,0.19191669476991915,0.5196932446136415]\n",
      " * x: [0.0005072385979287028,0.024511935933757167,0.0025160736707383457,-0.4358531619866552,6.101100011581085,1.0620871403165282,0.43157260065277214,0.12147077706000764,0.5055323578702002]\n",
      "     8     1.728398e+02     2.833554e+00\n",
      " * Current step size: 0.00028239070890313263\n",
      " * g(x): [2.833553835457006,0.6381613155939373,-0.6538465127590237,0.22037965003217158,-1.0835497674528685e-32,0.5126820078966834,-0.3275982361994006,0.13073908546289859,0.5001673809333256]\n",
      " * x: [0.0006738786452308417,0.024339265102256785,0.0027419980141440425,-0.4359099709999865,6.101100011581085,1.0619318893150127,0.4316662338167564,0.12141658156852121,0.5053856013264416]\n",
      "     9     1.728395e+02     7.377350e-01\n",
      " * Current step size: 4.710584024379338e-5\n",
      " * g(x): [0.3840787177921531,0.6186641771430679,-0.7377349894936787,0.20810617654043123,-1.0835497674528685e-32,0.5369333350489421,-0.3280402879253509,0.17127142770227316,0.46620285936722816]\n",
      " * x: [0.000540401710935616,0.024309203977274648,0.0027727980035180304,-0.43592035216857394,6.101100011581085,1.0619077389982527,0.43168166560693494,0.12141042299404778,0.5053620405217002]\n",
      "    10     1.728392e+02     2.575681e+00\n",
      " * Current step size: 0.0002904895884303993\n",
      " * g(x): [-2.5756812720961237,0.6023224530610701,-0.7936482914798617,0.2011264676633143,-1.0835497674528685e-32,0.5537784070587809,-0.32758105361438017,0.20531748615466577,0.3950166476931761]\n",
      " * x: [0.00042883084227929796,0.024129488475079727,0.002987102336986754,-0.435980804846147,6.101100011581085,1.06175176545474,0.43177695789516296,0.12136067042750466,0.5052266134449576]\n",
      "Iter     Function value   Gradient norm \n",
      "     0     1.728392e+02     2.575681e+00\n",
      " * Current step size: 1.0\n",
      " * g(x): [-2.5756812720961237,0.6023224530610701,-0.7936482914798617,0.2011264676633143,-1.0835497674528684e-35,0.5537784070587809,-0.32758105361438017,0.20531748615466577,0.3950166476931761]\n",
      " * x: [0.00042883084227929796,0.024129488475079727,0.002987102336986754,-0.435980804846147,6.101100011581085,1.06175176545474,0.43177695789516296,0.12136067042750466,0.5052266134449576]\n",
      "     1     1.728390e+02     1.364068e+00\n",
      " * Current step size: 5.840779642570564e-5\n",
      " * g(x): [1.3640682781261955,0.6265628341640039,-0.679261662728212,0.21669734701432133,-1.0835497674528684e-35,0.5230876737314779,-0.3258068391362792,0.14075865996063838,0.4176342714342006]\n",
      " * x: [0.0005792707096773909,0.024094308147858703,0.003033457584829119,-0.4359925521999261,6.101100011581085,1.0617194204782754,0.4317960911826554,0.12134867828557071,0.5052035413930144]\n",
      "     2     1.728389e+02     7.363218e-01\n",
      " * Current step size: 6.670952289748868e-5\n",
      " * g(x): [-0.7005927333180685,0.6127794859869036,-0.7363217861251119,0.20802971989649643,-1.0835497674528684e-35,0.5395530405068948,-0.3279584114546754,0.18066751103131143,0.3895468560517027]\n",
      " * x: [0.00048827436564399346,0.024052510440126323,0.0030787708062722727,-0.43600700797655856,6.101100011581085,1.0616845255491272,0.4318178256014509,0.12133928834252104,0.5051756812100213]\n",
      "     3     1.728387e+02     2.300064e+00\n",
      " * Current step size: 0.0001945550539355875\n",
      " * g(x): [2.300063631645887,0.6347801513594993,-0.631182286153138,0.222524850420576,-1.0835497674528684e-35,0.509974263860465,-0.3260030518538849,0.11517512172721386,0.38945660004871585]\n",
      " * x: [0.0006245782226615709,0.02393329109417952,0.003222025931085792,-0.43604748120993325,6.101100011581085,1.0615795527782304,0.43188163156788006,0.12130413856516793,0.5050998929004318]\n",
      "     4     1.728386e+02     1.245196e+00\n",
      " * Current step size: 2.489181448801564e-5\n",
      " * g(x): [1.2451959992871156,0.6263392973298243,-0.6647587869522288,0.2165950184618232,-1.0835497674528684e-35,0.5203746829546421,-0.3282671676320864,0.14262345345898395,0.374992054152691]\n",
      " * x: [0.0005673254654320099,0.023917490264411204,0.0032377372034608377,-0.4360530202572289,6.101100011581085,1.0615668585934608,0.43188974637536937,0.12130127164740426,0.5050901986189922]\n",
      "     5     1.728385e+02     9.515240e-01\n",
      " * Current step size: 7.484685827022001e-5\n",
      " * g(x): [-0.9515240490547073,0.6121629564746599,-0.7223234972782733,0.2099099611308882,-1.0835497674528684e-35,0.537242884007984,-0.32676792384861464,0.16625345267675343,0.3462505854716851]\n",
      " * x: [0.00047412645695472217,0.02387061073579489,0.0032874923101717346,-0.4360692317138778,6.101100011581085,1.0615279101833182,0.4319143161415399,0.1212905967299972,0.5050621316418625]\n",
      "     6     1.728383e+02     1.726816e+00\n",
      " * Current step size: 0.00011956532297982662\n",
      " * g(x): [1.7268159428464387,0.6305544735180048,-0.63838039413021,0.22183111856409618,-1.0835497674528684e-35,0.5132133132139958,-0.327639312377679,0.12518541449112247,0.35425275894517494]\n",
      " * x: [0.0005878957372030206,0.023797417274187712,0.0033738571524197293,-0.4360943296661771,6.101100011581085,1.061463674564373,0.43195338625389434,0.1212707185822314,0.5050207320787786]\n",
      "     7     1.728382e+02     6.935362e-01\n",
      " * Current step size: 5.271437364670528e-5\n",
      " * g(x): [-0.261902680476784,0.6167754304519214,-0.6935361615502719,0.21286254300423854,-1.0835497674528684e-35,0.5298805327021845,-0.3275304523944272,0.15106589729027142,0.3295661829874498]\n",
      " * x: [0.0004968677163727257,0.023764177990066082,0.00340750897504464,-0.43610602335464754,6.101100011581085,1.0614366208460198,0.4319706575550284,0.1212641195115168,0.5050020578664782]\n",
      "     8     1.728375e+02     4.939761e+00\n",
      " * Current step size: 0.0010926044386926073\n",
      " * g(x): [4.939761250020568,0.663973478454658,-0.4777579664815271,0.24973721749587932,-1.0835497674528684e-35,0.45952423364147316,-0.3279326810480093,0.050155883205456796,0.2540939639887211]\n",
      " * x: [0.0007830237475671515,0.02309028641707777,0.004165269663548301,-0.43633859791396534,6.101100011581085,1.0608576710240125,0.43232851878112155,0.12109906424160237,0.5046419723921032]\n",
      "     9     1.728368e+02     2.651998e+00\n",
      " * Current step size: 3.3756834276180366e-5\n",
      " * g(x): [2.651998006132614,0.6407649216760848,-0.5571858489520621,0.23402129518131903,-1.0835497674528684e-35,0.489225569567244,-0.327392773060043,0.09271943972636659,0.22098492441704887]\n",
      " * x: [0.0006162730456863096,0.023067872774401796,0.004181397260046942,-0.43634702825182897,6.101100011581085,1.0608421589406116,0.43233958875028944,0.12109737113776503,0.5046333949842702]\n",
      "    10     1.728366e+02     6.237996e-01\n",
      " * Current step size: 4.241979185668811e-5\n",
      " * g(x): [0.38237692021014497,0.6237996477909503,-0.6189897155117325,0.22335812958962148,-1.0835497674528684e-35,0.5100167467760501,-0.32734661224275075,0.12559744662389655,0.19577759185506127]\n",
      " * x: [0.0005037758422618123,0.02304069165979523,0.004205032967784981,-0.4363569553864606,6.101100011581085,1.0608214060937795,0.43235347668357804,0.12109343799843077,0.504624020849773]\n",
      "Iter     Function value   Gradient norm \n",
      "     0     1.728366e+02     6.237996e-01\n",
      " * Current step size: 1.0\n",
      " * g(x): [0.38237692021014497,0.6237996477909503,-0.6189897155117325,0.22335812958962148,-1.0835497674528685e-38,0.5100167467760501,-0.32734661224275075,0.12559744662389655,0.19577759185506127]\n",
      " * x: [0.0005037758422618123,0.02304069165979523,0.004205032967784981,-0.4363569553864606,6.101100011581085,1.0608214060937795,0.43235347668357804,0.12109343799843077,0.504624020849773]\n",
      "     1     1.728365e+02     8.500297e-01\n",
      " * Current step size: 0.00012520086909267885\n",
      " * g(x): [-0.8500297400080011,0.6166639906562414,-0.6430321663577188,0.21917029070079178,-1.0835497674528685e-38,0.5177265119449177,-0.32621328151443474,0.13507909624806358,0.17711080790490152]\n",
      " * x: [0.00045590191953052023,0.022962591401752098,0.0042825310181264795,-0.4363849200184041,6.101100011581085,1.0607575515538312,0.4323944607639254,0.12107771308895764,0.5045995093251239]\n",
      "     2     1.728364e+02     1.490623e+00\n",
      " * Current step size: 0.00010991718630923377\n",
      " * g(x): [1.4906227424968261,0.6320936475432427,-0.5816284902545333,0.22932186697081844,-1.0835497674528685e-38,0.4979544604877481,-0.32459465756134454,0.09211418991501924,0.1889191263414809]\n",
      " * x: [0.0005493347968313692,0.02289480943100094,0.004353211304558851,-0.4364090106000805,6.101100011581085,1.0607006445123606,0.43243031720996616,0.12106286557476885,0.5045800418034541]\n",
      "     3     1.728363e+02     6.273688e-01\n",
      " * Current step size: 5.4356494073752586e-5\n",
      " * g(x): [-0.43447063232157074,0.6195089620661046,-0.6273687661272471,0.22307724884478575,-1.0835497674528685e-38,0.5130174496941986,-0.3232830364972629,0.11038370696453581,0.168960241906424]\n",
      " * x: [0.0004683097705626396,0.022860451036394197,0.004384826590142498,-0.4364214757327835,6.101100011581085,1.06067357745368,0.4324479610375463,0.12105785857035062,0.5045697728220827]\n",
      "     4     1.728361e+02     2.920518e+00\n",
      " * Current step size: 0.00034943866976412587\n",
      " * g(x): [2.92051824244249,0.6446284242993912,-0.5280466197031474,0.23895788004347446,-1.0835497674528685e-38,0.479520725259254,-0.3239833450374675,0.057806723278456595,0.17732353097759634]\n",
      " * x: [0.000620130610372668,0.022643970648782864,0.004604053497229564,-0.4364994275498745,6.101100011581085,1.060494309318493,0.4325609286317772,0.1210192862346253,0.5045107315799079]\n",
      "     5     1.728358e+02     6.266631e-01\n",
      " * Current step size: 4.058716671727495e-5\n",
      " * g(x): [0.5645640405963706,0.6266630552663105,-0.5904290923641133,0.22776222585381867,-1.0835497674528685e-38,0.501494252088997,-0.323454865734868,0.09309392025797458,0.15182549910979204]\n",
      " * x: [0.0005015950495658118,0.02261780700745513,0.0046254854134179495,-0.4365091261731902,6.101100011581085,1.0604748469308727,0.43257407819781585,0.12101694002351021,0.5045035345201933]\n",
      "     6     1.728357e+02     2.020044e+00\n",
      " * Current step size: 0.00016052200225889798\n",
      " * g(x): [-2.020043914151758,0.612418773305784,-0.6401841093026882,0.21966725847957427,-1.0835497674528685e-38,0.5176576406920073,-0.32113033287699366,0.11853524553353346,0.12413791967080923]\n",
      " * x: [0.00041097009936590865,0.022517213799082104,0.0047202622735161405,-0.4365456870217232,6.101100011581085,1.060394346069406,0.432625999820504,0.12100199640103228,0.5044791631870822]\n",
      "     7     1.728356e+02     1.458432e+00\n",
      " * Current step size: 6.27707018273114e-5\n",
      " * g(x): [1.4584318346650988,0.6333030007507738,-0.5614667497377827,0.2323685590721102,-1.0835497674528685e-38,0.49180677246183824,-0.3196869109590706,0.06788533507719789,0.14730260968669906]\n",
      " * x: [0.0005377696735792037,0.022478771842869477,0.0047604470793557625,-0.43655947568970643,6.101100011581085,1.0603618523359937,0.43264615739687673,0.12099455586047886,0.5044713709627411]\n",
      "     8     1.728355e+02     7.924119e-01\n",
      " * Current step size: 6.187745785298247e-5\n",
      " * g(x): [-0.7924119118551649,0.6190365987166871,-0.611600682887238,0.22350692271524886,-1.0835497674528685e-38,0.5087588226184647,-0.31892780369867774,0.09463751455152608,0.1257723879842183]\n",
      " * x: [0.00044752561919826617,0.022439584663132353,0.004795189214498514,-0.43657385406542676,6.101100011581085,1.0603314205831589,0.43266593881023574,0.12099035528851879,0.5044622562517186]\n",
      "     9     1.728354e+02     1.680689e+00\n",
      " * Current step size: 0.00012397292165838307\n",
      " * g(x): [1.6806891656881848,0.6352419232880644,-0.5505075268966777,0.2339437777658701,-1.0835497674528685e-38,0.48815987399771354,-0.3203713971523302,0.06322728712601562,0.1398706303127818]\n",
      " * x: [0.0005457632390678561,0.022362840887375977,0.004871011138044307,-0.43660156287164664,6.101100011581085,1.0602683482654993,0.43270547722185837,0.12097862279934135,0.5044466638813162]\n",
      "    10     1.728352e+02     6.235839e-01\n",
      " * Current step size: 4.4236600087504754e-5\n",
      " * g(x): [-0.05918957064550122,0.6235839247252912,-0.5906832811469922,0.22829438559634244,-1.0835497674528685e-38,0.502079928585733,-0.3204007546040323,0.09129198224597843,0.12279218023714622]\n",
      " * x: [0.00047141526457390585,0.022334739944456665,0.004895363719356796,-0.4366119117489866,6.101100011581085,1.0602467537323745,0.43271964936323365,0.12097582583912614,0.5044404764801791]\n",
      "Iter     Function value   Gradient norm \n",
      "     0     1.728352e+02     6.235839e-01\n",
      " * Current step size: 1.0\n",
      " * g(x): [-0.05918957064550122,0.6235839247252912,-0.5906832811469922,0.22829438559634244,-1.0835497674528685e-41,0.502079928585733,-0.3204007546040323,0.09129198224597843,0.12279218023714622]\n",
      " * x: [0.00047141526457390585,0.022334739944456665,0.004895363719356796,-0.4366119117489866,6.101100011581085,1.0602467537323745,0.43271964936323365,0.12097582583912614,0.5044404764801791]\n",
      "     1     1.728281e+02     1.342897e+01\n",
      " * Current step size: 0.022289018150452908\n",
      " * g(x): [13.42897349049534,0.9480539332570107,0.014749735365635147,0.4933847027753955,-1.0835497674528685e-41,0.045145132171417475,-0.27593266925069954,-0.7257859290966909,-0.7256251518407585]\n",
      " * x: [0.001790692679008997,0.008435666527923989,0.018061114094011184,-0.44170036945318997,6.101100011581085,1.049055885091149,0.43986106759802174,0.1189410171898547,0.5017035593461396]\n",
      "     2     1.728139e+02     1.522920e+00\n",
      " * Current step size: 0.00010701125948905706\n",
      " * g(x): [1.5229195314696349,0.7591172278684165,-0.2801924117009399,0.34388703966381085,-1.0835497674528685e-41,0.27650521811680256,-0.2782698746240461,-0.34888454412921727,-0.912509974721643]\n",
      " * x: [0.00035364131214593196,0.008334214082462602,0.018059535706252575,-0.4417531671716466,6.101100011581085,1.0490510540536957,0.4398905955004924,0.11901868445624678,0.5017812094075551]\n",
      "     3     1.728138e+02     9.121648e-01\n",
      " * Current step size: 3.283895689546367e-5\n",
      " * g(x): [-0.3752260875178605,0.7506998810892491,-0.2994698744066852,0.3386653749325103,-1.0835497674528685e-41,0.2869363414073915,-0.27781431813021096,-0.33057467046650924,-0.9121648077298149]\n",
      " * x: [0.0003036302232967409,0.008309285464538027,0.01806873693278286,-0.44176446006331904,6.101100011581085,1.0490419739107566,0.4398997335929105,0.11903014146075293,0.5018111752832817]\n",
      "     4     1.728135e+02     5.095126e+00\n",
      " * Current step size: 0.0005223436648220183\n",
      " * g(x): [5.095125826044095,0.8013988077785701,-0.22880752306044794,0.35016422812995174,-1.0835497674528685e-41,0.2590808641451611,-0.27941073429999325,-0.38567526304567895,-0.7010376000232705]\n",
      " * x: [0.0004996271929876476,0.007917162137468415,0.018225163124484238,-0.44194135977640964,6.101100011581085,1.0488920945306153,0.4400448481419827,0.11920281504562173,0.502287638791873]\n",
      "     5     1.728129e+02     1.196711e+00\n",
      " * Current step size: 3.0769235715643906e-5\n",
      " * g(x): [1.1967112694626103,0.7748412744117384,-0.2810290601602359,0.33376889401319204,-1.0835497674528685e-41,0.2884862736641399,-0.2783215051321826,-0.33881201847414555,-0.7234538382760654]\n",
      " * x: [0.00034285406544523194,0.007892503708649641,0.018232203357094797,-0.44195213406208417,6.101100011581085,1.048884122810437,0.44005344539672786,0.11921468197870008,0.5023092091830337]\n",
      "     6     1.728128e+02     9.104030e-01\n",
      " * Current step size: 4.366860725792745e-5\n",
      " * g(x): [-0.9104029902016,0.7666459939550516,-0.30150960687512984,0.3275828784909075,-1.0835497674528685e-41,0.299585499859572,-0.279415083532221,-0.30878752260784403,-0.7231505429669922]\n",
      " * x: [0.0002905953510179334,0.007858667469350123,0.018244475504750998,-0.4419667092848317,6.101100011581085,1.0488715250166532,0.4400655993092269,0.1192294774276691,0.5023408014045666]\n",
      "     7     1.728127e+02     2.006418e+00\n",
      " * Current step size: 8.432208889778724e-5\n",
      " * g(x): [2.0064176643176106,0.7837672931538708,-0.2714076232658548,0.3341356314822506,-1.0835497674528685e-41,0.2857432680362603,-0.27594815228441816,-0.3517927618827877,-0.6850030947363329]\n",
      " * x: [0.00036736243289052403,0.007794022277694712,0.01826989942462546,-0.44199433175743325,6.101100011581085,1.0488462633415014,0.44008916017273986,0.11925551503660096,0.5024017789689371]\n",
      "     8     1.728126e+02     7.748901e-01\n",
      " * Current step size: 2.6813810823851466e-5\n",
      " * g(x): [0.09526793071380639,0.7748901450611676,-0.29164178044772376,0.3280747529294936,-1.0835497674528685e-41,0.2966535607016002,-0.276440565070281,-0.325685641261041,-0.6895050832592851]\n",
      " * x: [0.00031356272920587773,0.007773006489766162,0.01827717689729186,-0.44200329120704535,6.101100011581085,1.0488386014755682,0.44009655939429243,0.11926494794116729,0.5024201465123331]\n",
      "     9     1.728109e+02     1.241881e+01\n",
      " * Current step size: 0.0017845966837035457\n",
      " * g(x): [-12.418814729033754,0.8320942037910002,-0.36630490097281804,0.2862321778919615,-1.0835497674528685e-41,0.3616940627194726,-0.28322540181678646,-0.1778861304368137,-0.2870180449912104]\n",
      " * x: [0.0001435478959907197,0.006390140106655443,0.018797639851508268,-0.44258877232313015,6.101100011581085,1.0483091945149312,0.440589894309958,0.11984616545649161,0.5036506349973144]\n",
      "    10     1.728107e+02     5.487203e+00\n",
      " * Current step size: 3.0442499886774272e-5\n",
      " * g(x): [5.487203440366508,0.8988695166086513,-0.2147117006636337,0.3253491540537874,-1.0835497674528685e-41,0.28604302713725926,-0.28445627376070187,-0.3189926752386241,-0.20232943916159607]\n",
      " * x: [0.0005216076619732004,0.00636480907895075,0.01880879108841466,-0.4425974859461732,6.101100011581085,1.0482981836434677,0.4405985163992207,0.1198515807549973,0.5036593725441166]\n",
      "Iter     Function value   Gradient norm \n",
      "     0     1.728107e+02     5.487203e+00\n",
      " * Current step size: 1.0\n",
      " * g(x): [5.487203440366508,0.8988695166086513,-0.2147117006636337,0.3253491540537874,-1.0835497674528684e-44,0.28604302713725926,-0.28445627376070187,-0.3189926752386241,-0.20232943916159607]\n",
      " * x: [0.0005216076619732004,0.00636480907895075,0.01880879108841466,-0.4425974859461732,6.101100011581085,1.0482981836434677,0.4405985163992207,0.1198515807549973,0.5036593725441166]\n",
      "     1     1.728100e+02     8.702175e-01\n",
      " * Current step size: 3.4812821158613476e-5\n",
      " * g(x): [0.8086079314011686,0.8702175410046044,-0.27728878145239344,0.30681785916682325,-1.0835497674528684e-44,0.3213901400614764,-0.2839388146726001,-0.2474962460156797,-0.23644974352713832]\n",
      " * x: [0.00033058262994279265,0.006333516895224124,0.018816265808450524,-0.4426088122680874,6.101100011581085,1.0482882256787203,0.4406084191246066,0.1198626857899513,0.5036664162026973]\n",
      "     2     1.728100e+02     1.197515e+00\n",
      " * Current step size: 5.871919258678479e-5\n",
      " * g(x): [-1.1975151459258697,0.8662389706041178,-0.29603813227727527,0.30112685175582066,-1.0835497674528684e-44,0.33144631314402223,-0.28166571297188026,-0.2310876500589683,-0.24174572467631728]\n",
      " * x: [0.00028310182509164573,0.006282418423841476,0.018832547981810784,-0.4426268283650489,6.101100011581085,1.0482693539091905,0.4406250917825482,0.1198772185696856,0.5036803003407245]\n",
      "     3     1.728099e+02     1.111010e+00\n",
      " * Current step size: 4.6659919038575184e-5\n",
      " * g(x): [1.1110101898673757,0.8791924424232221,-0.2739539361675681,0.30638776487903435,-1.0835497674528684e-44,0.32079504501937484,-0.28444760048628265,-0.23051020503185804,-0.2258729403743428]\n",
      " * x: [0.00033897778484801434,0.00624199978360503,0.01884636109709517,-0.44264087891957216,6.101100011581085,1.0482538886510535,0.4406382342819114,0.11988800110072817,0.5036915801766658]\n",
      "     4     1.728099e+02     1.047499e+00\n",
      " * Current step size: 4.7437262977450376e-5\n",
      " * g(x): [-1.0474987662704291,0.8735999799749956,-0.29454945332578303,0.3005374282596242,-1.0835497674528684e-44,0.33169722265248275,-0.2853927978410949,-0.21305967621023952,-0.23334385815902614]\n",
      " * x: [0.00028627450230064855,0.006200293300506012,0.01885935672200886,-0.44265541311654777,6.101100011581085,1.048238671012141,0.44065172769753896,0.11989893587394325,0.5037022949707378]\n",
      "     5     1.728098e+02     1.271561e+00\n",
      " * Current step size: 5.4782107896121635e-5\n",
      " * g(x): [1.2715609834705608,0.8874271010377722,-0.2720291554726623,0.30571366159378904,-1.0835497674528684e-44,0.32083723121241675,-0.2821444245262584,-0.2517301350198567,-0.21669909572828816]\n",
      " * x: [0.00034365869273552947,0.006152435652144972,0.018875492761941698,-0.4426718771903695,6.101100011581085,1.0482204999391007,0.4406673621165831,0.1199106077321137,0.5037150780391524]\n",
      "     6     1.728097e+02     8.814601e-01\n",
      " * Current step size: 4.2283382922623245e-5\n",
      " * g(x): [-0.8802312363686243,0.8814601199210056,-0.2928775149980101,0.2997347876520136,-1.0835497674528684e-44,0.33189293071095666,-0.28027455298778475,-0.25308579191191716,-0.22487718174118254]\n",
      " * x: [0.0002898927927619763,0.006114912232215879,0.018886995074888665,-0.4426848037981873,6.101100011581085,1.0482069338555975,0.4406792921373248,0.11992125173380591,0.503724240809996]\n",
      "     7     1.728097e+02     1.670947e+00\n",
      " * Current step size: 7.492565257689986e-5\n",
      " * g(x): [1.670947331411651,0.8982360857515318,-0.267391629183513,0.3055745136249637,-1.0835497674528684e-44,0.3197484851064689,-0.28068130062764973,-0.28138574634383295,-0.20509712663451762]\n",
      " * x: [0.0003558446925654669,0.006048868257510285,0.01890893911382499,-0.44270726162275215,6.101100011581085,1.0481820665611783,0.44070029189110815,0.11994021435192286,0.5037410898795877]\n",
      "     8     1.728096e+02     8.920392e-01\n",
      " * Current step size: 3.113119830195577e-5\n",
      " * g(x): [-0.270097777523946,0.8920392328379158,-0.28708253970717557,0.29987777386371334,-1.0835497674528684e-44,0.33025378008230427,-0.2813954303807588,-0.25599827679046444,-0.21370789844632343]\n",
      " * x: [0.000303826099839167,0.006020905091802781,0.018917263335657384,-0.4427167745235318,6.101100011581085,1.0481721124076817,0.44070902983633764,0.11994897422739163,0.503747474798908]\n",
      "     9     1.728092e+02     5.014796e+00\n",
      " * Current step size: 0.0007161442711907153\n",
      " * g(x): [5.0147956735435155,0.9879565964105226,-0.22049215997740812,0.3144421630831989,-1.0835497674528684e-44,0.3020764867217777,-0.28638367933225206,-0.299783620431642,-0.12234151356484946]\n",
      " * x: [0.0004972550758742852,0.0053820763055285464,0.019122855851827558,-0.44293153027334176,6.101100011581085,1.0479356030550366,0.4409105495617441,0.12013230592674982,0.5039005204860886]\n",
      "    10     1.728087e+02     2.726380e+00\n",
      " * Current step size: 2.083420201978534e-5\n",
      " * g(x): [2.726380412284376,0.9747674561506772,-0.2534724681932535,0.30260132829822856,-1.0835497674528684e-44,0.3210964999873497,-0.2858185048626245,-0.27610942203046734,-0.14113890399192142]\n",
      " * x: [0.0003927758097237341,0.00536149301821215,0.019127449630032305,-0.442938081424891,6.101100011581085,1.0479293095324869,0.4409165161371745,0.12013855167926012,0.5039030693738976]\n",
      "Iter     Function value   Gradient norm \n",
      "     0     1.728087e+02     2.726380e+00\n",
      " * Current step size: 1.0\n",
      " * g(x): [2.726380412284376,0.9747674561506772,-0.2534724681932535,0.30260132829822856,-1.0835497674528684e-47,0.3210964999873497,-0.2858185048626245,-0.27610942203046734,-0.14113890399192142]\n",
      " * x: [0.0003927758097237341,0.00536149301821215,0.019127449630032305,-0.442938081424891,6.101100011581085,1.0479293095324869,0.4409165161371745,0.12013855167926012,0.5039030693738976]\n",
      "     1     1.728086e+02     1.294554e+00\n",
      " * Current step size: 1.7286777336022912e-5\n",
      " * g(x): [1.2945544349692135,0.9695180141036223,-0.2700681017548193,0.2983363893773654,-1.0835497674528684e-47,0.3301332654797924,-0.28484449630236397,-0.2637506462306654,-0.14971398921836843]\n",
      " * x: [0.00034564547860327973,0.005344642430243272,0.019131831352150776,-0.4429433124266749,6.101100011581085,1.0479237588087882,0.44092145701802654,0.12014332472135913,0.5039055092107044]\n",
      "     2     1.728086e+02     9.659700e-01\n",
      " * Current step size: 4.11961276437918e-5\n",
      " * g(x): [-0.8102678892365388,0.965970010556559,-0.2905888942612766,0.2924698205669539,-1.0835497674528684e-47,0.3410442142073057,-0.2875449434905373,-0.2403949304441228,-0.1588653263496188]\n",
      " * x: [0.00029231484885845126,0.005304702042381303,0.019142957112143182,-0.4429556027306525,6.101100011581085,1.047910158596644,0.44093319150825483,0.12015419022664739,0.5039116768473143]\n",
      "     3     1.728085e+02     1.984724e+00\n",
      " * Current step size: 9.255024122159902e-5\n",
      " * g(x): [1.9847239098075389,0.9881655906355797,-0.2621440799105754,0.2996013194986262,-1.0835497674528684e-47,0.3273791333765821,-0.28876296488426273,-0.27174750428731614,-0.1381961269981803]\n",
      " * x: [0.0003673053374614088,0.005215301284891463,0.01916985118440338,-0.442982670883096,6.101100011581085,1.047878594872352,0.44095980386213696,0.12017643883544844,0.5039263798715897]\n",
      "     4     1.728084e+02     9.835491e-01\n",
      " * Current step size: 2.5149815579570207e-5\n",
      " * g(x): [0.24754552715605815,0.9835491157142244,-0.2805464087125346,0.2937580694567398,-1.0835497674528684e-47,0.33724707050010805,-0.28733942776132876,-0.2655599512973415,-0.14728371454763367]\n",
      " * x: [0.00031738989715338566,0.0051904491025249015,0.019176444059668406,-0.44299020580102877,6.101100011581085,1.0478703613475229,0.44096706619745,0.12018327323506547,0.5039298554786975]\n",
      "     5     1.728080e+02     4.927326e+00\n",
      " * Current step size: 0.0003907996086679652\n",
      " * g(x): [-4.927326403353005,1.0201542034040445,-0.3215972414755456,0.2805000081153629,-1.0835497674528684e-47,0.361456883373271,-0.28117724653049037,-0.22943252713906623,-0.14949217524713743]\n",
      " * x: [0.00022064920201329298,0.004806078492998059,0.019286081486406467,-0.4431050063396155,6.101100011581085,1.047738565324347,0.441079358333374,0.12028705396011036,0.5039874138967059]\n",
      "     6     1.728080e+02     3.688071e+00\n",
      " * Current step size: 4.3148956658855724e-5\n",
      " * g(x): [3.6880707160667607,1.0569692964353437,-0.23971482484355291,0.30280000467054724,-1.0835497674528684e-47,0.32019395228570907,-0.2816042233728797,-0.301679678288014,-0.10235974083236976]\n",
      " * x: [0.00043325819543560726,0.004762059903490028,0.019299958071840505,-0.4431171096223085,6.101100011581085,1.0477229688369523,0.44109149083819804,0.12029695373428001,0.5039938643280965]\n",
      "     7     1.728077e+02     1.044839e+00\n",
      " * Current step size: 3.276054480992979e-5\n",
      " * g(x): [0.01796089873274408,1.0448391433109634,-0.2821140986514774,0.28967891174521737,-1.0835497674528684e-47,0.3432511247014132,-0.2825185852457888,-0.253666185768432,-0.12540674158190335]\n",
      " * x: [0.0003124349894797123,0.0047274330134914385,0.019307811260101396,-0.4431270295154299,6.101100011581085,1.0477124791086305,0.44110071634597653,0.12030683692489881,0.5039972176889728]\n",
      "     8     1.728007e+02     4.012022e+00\n",
      " * Current step size: 0.0041657071728004695\n",
      " * g(x): [-4.012021621119517,-0.20092364529913084,-0.3075484025896486,0.2456792052084949,-1.0835497674528684e-47,0.40536691769639865,-0.2643501262567913,-0.19063314849687943,0.03688381518648087]\n",
      " * x: [0.00023761514479877743,0.00037493909977826066,0.020483015984401994,-0.444333747035896,6.101100011581085,1.0462825954363901,0.44227760604298433,0.1213635359744513,0.504519625451898]\n",
      "     9     1.728005e+02     1.453859e+00\n",
      " * Current step size: 3.063335959309599e-5\n",
      " * g(x): [1.4538587451066713,-0.10974644488873887,-0.2589304932616884,0.25852874682081073,-1.0835497674528684e-47,0.3815275451613908,-0.26082335832022546,-0.2362328995110433,0.06324245869940204]\n",
      " * x: [0.0003605168458138075,0.0003810940660554646,0.020492437225210804,-0.4443412730153337,6.101100011581085,1.0462701776858332,0.4422857039754604,0.12136937570823958,0.5045184955767242]\n",
      "    10     1.728005e+02     3.903935e-01\n",
      " * Current step size: 3.238656744881306e-5\n",
      " * g(x): [-0.2042922970442181,-0.11989606963992876,-0.27600018548617616,0.25402528551788095,-1.0835497674528684e-47,0.3903935442570906,-0.2612561843521179,-0.22102472569164006,0.05296400451433003]\n",
      " * x: [0.00031343135150436357,0.0003846483766951212,0.020500823095095377,-0.4443496458740301,6.101100011581085,1.0462578213182583,0.4422941511487469,0.12137702648097322,0.5045164473705699]\n",
      "Iter     Function value   Gradient norm \n",
      "     0     1.728005e+02     3.903935e-01\n",
      " * Current step size: 1.0\n",
      " * g(x): [-0.2042922970442181,-0.11989606963992876,-0.27600018548617616,0.25402528551788095,-1.0835497674528685e-50,0.3903935442570906,-0.2612561843521179,-0.22102472569164006,0.05296400451433003]\n",
      " * x: [0.00031343135150436357,0.0003846483766951212,0.020500823095095377,-0.4443496458740301,6.101100011581085,1.0462578213182583,0.4422941511487469,0.12137702648097322,0.5045164473705699]\n",
      "     1     1.728004e+02     2.259299e+00\n",
      " * Current step size: 0.00035682780012564276\n",
      " * g(x): [2.2592991638744087,0.07619005376306016,-0.24848123314915171,0.26021146549601404,-1.0835497674528685e-50,0.3774284080476554,-0.2632459609139081,-0.24527472487007893,0.06283148519644677]\n",
      " * x: [0.00038632852244126627,0.0004274306274684478,0.02059930763411668,-0.44444028915783773,6.101100011581085,1.0461185180486778,0.4423873746182785,0.12145589424761515,0.5044975483413532]\n",
      "     2     1.728003e+02     3.908445e-01\n",
      " * Current step size: 3.182214474401278e-5\n",
      " * g(x): [-0.1206563072054549,0.03246028335454686,-0.2739857756734273,0.25326515347470124,-1.0835497674528685e-50,0.3908444572437497,-0.25883658876042526,-0.23044882368936984,0.04762237923407875]\n",
      " * x: [0.0003144327774284278,0.0004250060965495456,0.020607214839884123,-0.4444485696447568,6.101100011581085,1.0461065074672464,0.44239575166934997,0.121463699415412,0.5044955489087368]\n",
      "     3     1.728001e+02     3.614661e+00\n",
      " * Current step size: 0.0010439380509403092\n",
      " * g(x): [3.6146612311667794,-0.04552525046505213,-0.22767353025778805,0.2638079954927153,-1.0835497674528685e-50,0.3711997375476796,-0.2609868392300632,-0.24768856100790704,0.0587570440087164]\n",
      " * x: [0.0004403904876061456,0.0003911195716114298,0.02089323901652601,-0.4447129627754463,6.101100011581085,1.0456984900663306,0.44266596103333256,0.12170427371125578,0.504445834094978]\n",
      "     4     1.728000e+02     2.643386e+00\n",
      " * Current step size: 1.134306015052054e-5\n",
      " * g(x): [2.6433861543775836,-0.0638151292408666,-0.24067641807590234,0.2600346066088564,-1.0835497674528685e-50,0.3784908482683765,-0.26079200471951436,-0.23650657041061926,0.050726063908479446]\n",
      " * x: [0.0003993891678372662,0.0003916359672658224,0.020895821531074405,-0.44471595516540735,6.101100011581085,1.0456942795253799,0.44266892142274844,0.12170708325750189,0.5044451676102936]\n",
      "     5     1.727999e+02     3.926931e-01\n",
      " * Current step size: 2.918180831926132e-5\n",
      " * g(x): [0.228690778883178,-0.09576917098295264,-0.2673688440668842,0.25106113433731164,-1.0835497674528685e-50,0.3926930734690346,-0.26010095127770844,-0.21297335069948886,0.03485347468675626]\n",
      " * x: [0.00032225037976643027,0.00039349820813519825,0.020902844904173663,-0.4447235434454538,6.101100011581085,1.0456832344779952,0.44267653180504135,0.12171398494690586,0.5044436873320198]\n",
      "     6     1.727998e+02     1.555779e+00\n",
      " * Current step size: 0.00018478020822396515\n",
      " * g(x): [-1.555778535970782,-0.04994146049614818,-0.2829074941286617,0.24631894568529625,-1.0835497674528685e-50,0.4010491001859259,-0.256355588032028,-0.19495029861066446,0.024363131469615107]\n",
      " * x: [0.00027999285002549586,0.0004111944554908648,0.020952249374852943,-0.44476993457413355,6.101100011581085,1.0456106725701115,0.4427245933129777,0.12175333820699426,0.5044372470997098]\n",
      "     7     1.727998e+02     1.248289e+00\n",
      " * Current step size: 4.531821459202452e-5\n",
      " * g(x): [1.2482893459796067,-0.007569959520947792,-0.256234127417461,0.2542156135266114,-1.0835497674528685e-50,0.3876519256032785,-0.2586099718925829,-0.21553049664916846,0.03902901791387481]\n",
      " * x: [0.0003504979555762855,0.00041345771331466834,0.020965070237381558,-0.4447810973089722,6.101100011581085,1.0455924977409274,0.442736210890528,0.12176217300646147,0.5044361430060897]\n",
      "     8     1.727998e+02     3.954631e-01\n",
      " * Current step size: 3.303750371779765e-5\n",
      " * g(x): [-0.2573992481308529,-0.026829935443046512,-0.2711743985926615,0.2501092913783436,-1.0835497674528685e-50,0.39546312895221886,-0.25804264146148725,-0.1997950104540014,0.030159633975151978]\n",
      " * x: [0.00030925759166759703,0.00041370780588048526,0.020973535573318738,-0.4447894959582492,6.101100011581085,1.045579690688994,0.4427447547184359,0.12176929359604581,0.5044348535847654]\n",
      "     9     1.727997e+02     1.638066e+00\n",
      " * Current step size: 0.0002061617279699893\n",
      " * g(x): [1.6380655987101078,0.017399875038653083,-0.25122845702410157,0.2545480971984765,-1.0835497674528685e-50,0.38578400427814086,-0.2637614765223869,-0.22492573949785236,0.039678195355626]\n",
      " * x: [0.0003623234654404297,0.000419239111732747,0.021029441355913822,-0.4448410589219411,6.101100011581085,1.045498161326981,0.44279795323528953,0.12181048368064079,0.5044286358225101]\n",
      "    10     1.727997e+02     1.311087e+00\n",
      " * Current step size: 6.3915404635526895e-6\n",
      " * g(x): [1.3110867874781231,0.012008764477639641,-0.2548509071445244,0.25380203124330825,-1.0835497674528685e-50,0.38772419493585886,-0.26355734527281527,-0.22172042683325835,0.037500419573121224]\n",
      " * x: [0.00035185370288432036,0.0004191278997273767,0.02103104709276249,-0.44484268587640424,6.101100011581085,1.0454956955729073,0.44279963907743947,0.12181192130260608,0.5044283822177189]\n",
      "Iter     Function value   Gradient norm \n",
      "     0     1.727997e+02     1.311087e+00\n",
      " * Current step size: 1.0\n",
      " * g(x): [1.3110867874781231,0.012008764477639641,-0.2548509071445244,0.25380203124330825,-1.0835497674528687e-53,0.38772419493585886,-0.26355734527281527,-0.22172042683325835,0.037500419573121224]\n",
      " * x: [0.00035185370288432036,0.0004191278997273767,0.02103104709276249,-0.44484268587640424,6.101100011581085,1.0454956955729073,0.44279963907743947,0.12181192130260608,0.5044283822177189]\n",
      "     1     1.727997e+02     3.941146e-01\n",
      " * Current step size: 2.580616738291821e-5\n",
      " * g(x): [0.11297867292721023,-0.005328321729645446,-0.26698507259172266,0.25011009085548735,-1.0835497674528687e-53,0.39411458863456394,-0.26313982180677203,-0.21225848139506043,0.03028711853746846]\n",
      " * x: [0.0003180195777931274,0.00041881799954120467,0.021037623817929948,-0.44484923553410466,6.101100011581085,1.0454856898974345,0.4428064404824066,0.12181764305705316,0.5044274144756145]\n",
      "     2     1.727995e+02     3.489168e+00\n",
      " * Current step size: 0.0006671248308962178\n",
      " * g(x): [-3.4891677231365086,-0.03295131615843161,-0.29473260094765746,0.24060022622736232,-1.0835497674528687e-53,0.41018888786479574,-0.26077690603467685,-0.18556430649603622,0.009071478676110356]\n",
      " * x: [0.0002426486997216832,0.00042237265527405503,0.021215736189334516,-0.44501609018617205,6.101100011581085,1.045222766269138,0.4429819875915315,0.12195924596056013,0.5044072091867818]\n",
      "     3     1.727995e+02     2.584693e+00\n",
      " * Current step size: 4.330923505330718e-5\n",
      " * g(x): [2.58469252887522,0.04473257594096077,-0.23813593300809513,0.25609502032426157,-1.0835497674528687e-53,0.3814379805830424,-0.260967838647892,-0.23913629311712647,0.04092223908679349]\n",
      " * x: [0.0003937618847834149,0.0004237997515708764,0.02122850083282683,-0.4450265103979236,6.101100011581085,1.0452050013021772,0.44299328163985147,0.12196728260872766,0.5044068163079796]\n",
      "     4     1.727994e+02     3.957267e-01\n",
      " * Current step size: 2.9848406333646935e-5\n",
      " * g(x): [0.10837258715465407,0.0029396850543552777,-0.2648566084843692,0.24857297336746872,-1.0835497674528687e-53,0.395726722261081,-0.25994651594608686,-0.2143145623419133,0.02506641000238352]\n",
      " * x: [0.00031661293193400585,0.00042246455546783986,0.0212356088109179,-0.4450341544261503,6.101100011581085,1.0451936159863418,0.44300107111393944,0.12197442044597374,0.5044055948443592]\n",
      "     5     1.727992e+02     3.675611e+00\n",
      " * Current step size: 0.0007197300174190526\n",
      " * g(x): [-3.6756108621090005,-0.046468596347297934,-0.2934297223670542,0.23897275260521558,-1.0835497674528687e-53,0.41251356616748114,-0.25944741302823976,-0.16906024932496122,0.004183892638073949]\n",
      " * x: [0.00023861392789343888,0.0004203487758924622,0.021426234062355904,-0.445213059856602,6.101100011581085,1.0449087995856357,0.44318816242438935,0.12212866906966124,0.5043875537966516]\n",
      "     6     1.727992e+02     3.015240e+00\n",
      " * Current step size: 4.630048987383316e-5\n",
      " * g(x): [3.015240336217493,0.042263288415440345,-0.23053852778069997,0.2575566724906725,-1.0835497674528687e-53,0.3802214983091796,-0.252648491781455,-0.22869831041974498,0.03991364190928637]\n",
      " * x: [0.00040879651139466783,0.00042250029466709153,0.021439820002245043,-0.4452241244121141,6.101100011581085,1.0448897000054425,0.44320017496670905,0.12213649664202318,0.5043873600803729]\n",
      "Iter     Function value   Gradient norm \n",
      "     0     1.727992e+02     3.015240e+00\n",
      " * Current step size: 1.0\n",
      " * g(x): [3.015240336217493,0.042263288415440345,-0.23053852778069997,0.2575566724906725,-1.0835497674528685e-56,0.3802214983091796,-0.252648491781455,-0.22869831041974498,0.03991364190928637]\n",
      " * x: [0.00040879651139466783,0.00042250029466709153,0.021439820002245043,-0.4452241244121141,6.101100011581085,1.0448897000054425,0.44320017496670905,0.12213649664202318,0.5043873600803729]\n",
      "     1     1.727991e+02     1.770675e+00\n",
      " * Current step size: 1.5008322987664979e-5\n",
      " * g(x): [1.7706748144105657,0.01840580351668831,-0.24536975673255415,0.2521446457959974,-1.0835497674528685e-56,0.38840537946806614,-0.25369762946132046,-0.2082468827044975,0.030924054935192458]\n",
      " * x: [0.0003635428105432802,0.0004218659935840318,0.021443279998931076,-0.4452279899058425,6.101100011581085,1.044883993518389,0.44320396679687607,0.1221399290201327,0.5043867610435435]\n",
      "     2     1.727991e+02     3.977984e-01\n",
      " * Current step size: 2.830812720848799e-5\n",
      " * g(x): [0.034004469381983614,-0.007462566016760439,-0.2630801294112762,0.24740243747705112,-1.0835497674528685e-56,0.39779838441152787,-0.25389473462510503,-0.19056175844977277,0.020455898438719755]\n",
      " * x: [0.00031341832265208,0.0004213449597567069,0.021450225957217777,-0.4452351276485506,6.101100011581085,1.0448729984894984,0.44321114850164334,0.12214582409937906,0.5043858856414626]\n",
      "     3     1.727979e+02     9.584737e+00\n",
      " * Current step size: 0.004471241920017674\n",
      " * g(x): [-9.58473738698249,0.03308910438037623,-0.3120007484584122,0.22502273304858,-1.0835497674528685e-56,0.4326381957511931,-0.2511254351301016,-0.10895721588339435,-0.031587156435311625]\n",
      " * x: [0.00016137611368339738,0.00045471189776174554,0.02262652086016515,-0.44634132379811253,6.101100011581085,1.0430943456774022,0.44434637328237087,0.12299787182211197,0.5042944223708518]\n",
      "     4     1.727975e+02     3.330221e+00\n",
      " * Current step size: 2.58903516663118e-5\n",
      " * g(x): [3.330221404322698,0.1439258596400206,-0.2148331502596868,0.25186385489796204,-1.0835497674528685e-56,0.38355504471402235,-0.24664209847822732,-0.2223694361348918,0.023406109869899216]\n",
      " * x: [0.0004095283352616205,0.0004538552092130143,0.022634598669262894,-0.4463471497158041,6.101100011581085,1.04308314452237,0.44435287500819876,0.12300069276274778,0.50429524017344]\n",
      "     5     1.727973e+02     4.017801e-01\n",
      " * Current step size: 2.9767732181273122e-5\n",
      " * g(x): [0.24954547919292777,0.08435473583146251,-0.24777613314732744,0.24141887774681,-1.0835497674528685e-56,0.40178007780425823,-0.2512705132335483,-0.17774720854479703,0.0035397861523329688]\n",
      " * x: [0.00031039519639339914,0.00044957086276929063,0.022640993764943485,-0.44635464713158285,6.101100011581085,1.0430717269585221,0.44436021698413086,0.12300731219656794,0.5042945434266299]\n",
      "     6     1.727973e+02     1.463844e+00\n",
      " * Current step size: 0.00015555919432708529\n",
      " * g(x): [-1.4638436144825748,0.02251643099698236,-0.2618548650321749,0.23684028444631247,-1.0835497674528685e-56,0.40945798429471786,-0.2549146228814196,-0.16067380378428103,-0.004569391697963332]\n",
      " * x: [0.0002715761027021809,0.0004364487080256742,0.022679537620589364,-0.44639220205770047,6.101100011581085,1.0430092263733222,0.4443993044227276,0.12303496240912305,0.504293992780348]\n",
      "     7     1.727972e+02     1.030148e+00\n",
      " * Current step size: 4.0525832508278544e-5\n",
      " * g(x): [1.0301476861333547,0.046538899523157644,-0.23988624353703952,0.24265002092530155,-1.0835497674528685e-56,0.39808674981031045,-0.2546527990184323,-0.18197876267380203,0.008156632898214888]\n",
      " * x: [0.00033089958384101476,0.00043553621091440626,0.022690149506991136,-0.44640180020739917,6.101100011581085,1.0429926327476315,0.44440963505003844,0.12304147384878368,0.5042941779587506]\n",
      "     8     1.727972e+02     4.047548e-01\n",
      " * Current step size: 3.407219396273857e-5\n",
      " * g(x): [-0.3388882287319211,0.025369188389236793,-0.2523852946625223,0.2394520096979112,-1.0835497674528685e-56,0.4047548391693787,-0.2599521921998286,-0.17697058088298673,0.0008522438222067219]\n",
      " * x: [0.00029580019206881277,0.0004339505285030408,0.022698322957609922,-0.4464100678259772,6.101100011581085,1.042979069058678,0.44441831162959977,0.1230476742644826,0.5042939000443725]\n",
      "     9     1.727972e+02     1.170874e+00\n",
      " * Current step size: 0.00011480544055412569\n",
      " * g(x): [1.1708743009262181,0.033820735947526194,-0.2380860718382463,0.2425769117666057,-1.0835497674528685e-56,0.3974501495882949,-0.2598547813534853,-0.1900578629809769,0.009244697415806025]\n",
      " * x: [0.00033470640446698827,0.00043103800765351385,0.022727298162553037,-0.44643755821944214,6.101100011581085,1.0429326010010507,0.4444481555555483,0.123067991449986,0.504293802202145]\n",
      "    10     1.727972e+02     4.027796e-01\n",
      " * Current step size: 2.416996221753244e-5\n",
      " * g(x): [0.11034026518064476,0.01828699863852288,-0.2480209318416961,0.24000393795661104,-1.0835497674528685e-56,0.4027796177539347,-0.26024658054111977,-0.1797484365794438,0.0034167566247896852]\n",
      " * x: [0.0003064064168521219,0.000430220561743493,0.02273305269391389,-0.44644342129423437,6.101100011581085,1.0429229946459517,0.44445443623579567,0.12307258514135339,0.5042935787581578]\n",
      "Iter     Function value   Gradient norm \n",
      "     0     1.727972e+02     4.027796e-01\n",
      " * Current step size: 1.0\n",
      " * g(x): [0.11034026518064476,0.01828699863852288,-0.2480209318416961,0.24000393795661104,-1.0835497674528685e-59,0.4027796177539347,-0.26024658054111977,-0.1797484365794438,0.0034167566247896852]\n",
      " * x: [0.0003064064168521219,0.000430220561743493,0.02273305269391389,-0.44644342129423437,6.101100011581085,1.0429229946459517,0.44445443623579567,0.12307258514135339,0.5042935787581578]\n",
      "     1     1.727970e+02     2.922636e+00\n",
      " * Current step size: 0.0005691189550155959\n",
      " * g(x): [-2.922636430487249,-0.045127458623243424,-0.27038575786166436,0.232519432588481,-1.0835497674528685e-59,0.4153349485806787,-0.25654054986901537,-0.15012920829878226,-0.009223906757017675]\n",
      " * x: [0.00024360968043636962,0.00041981308418796525,0.022874206107465628,-0.44658001208460385,6.101100011581085,1.042693765130794,0.4446025474977596,0.12317488338374516,0.504291634217198]\n",
      "     2     1.727970e+02     1.687356e+00\n",
      " * Current step size: 3.600039684845384e-5\n",
      " * g(x): [1.687356160355573,0.00968110280208005,-0.23121335073008484,0.24427802984414368,-1.0835497674528685e-59,0.39499497018979257,-0.25800021999269157,-0.19567924872725023,0.013442476117873303]\n",
      " * x: [0.00034882575177765915,0.0004214376906071642,0.022883940102050818,-0.44658838287645203,6.101100011581085,1.04267881290782,0.4446117830593626,0.12318028809482245,0.5042919662815017]\n",
      "     3     1.727969e+02     4.044266e-01\n",
      " * Current step size: 2.97017673679687e-5\n",
      " * g(x): [-0.16195114842098052,-0.014628675494890218,-0.24871645802782738,0.23892808114991454,-1.0835497674528685e-59,0.40442658900722617,-0.255985667521671,-0.17420816793262053,0.0030919683686724264]\n",
      " * x: [0.00029870829163586906,0.0004211501447438714,0.02289080754720657,-0.44659563836566757,6.101100011581085,1.0426670808591039,0.4446194461218777,0.12318610011434689,0.5042915670162033]\n",
      "     4     1.727968e+02     2.462495e+00\n",
      " * Current step size: 0.0004600319484256142\n",
      " * g(x): [2.4624949370425986,0.045581534674554065,-0.2215837632959664,0.24639697499251229,-1.0835497674528685e-59,0.3904513854476319,-0.2567950980751933,-0.20540808048347667,0.01924977117544968]\n",
      " * x: [0.00037321099399373857,0.00042787980283467183,0.02300522506399863,-0.44670555291637254,6.101100011581085,1.0424810317073678,0.4447372077072767,0.12326624143727259,0.5042901446119702]\n",
      "     5     1.727967e+02     4.029076e-01\n",
      " * Current step size: 2.7198891487381826e-5\n",
      " * g(x): [0.18575790766046066,0.010361678464758654,-0.24432806351220662,0.23902002319741047,-1.0835497674528685e-59,0.40290757807161537,-0.25427624190251513,-0.17671492638831834,0.0056129358938118434]\n",
      " * x: [0.0003062338614128898,0.0004266400356192303,0.023011251896731883,-0.4467122546409582,6.101100011581085,1.0424704118625039,0.44474419224928374,0.1232718283093643,0.5042896210395328]\n",
      "     6     1.727967e+02     1.745096e+00\n",
      " * Current step size: 0.0002287677614072051\n",
      " * g(x): [-1.7450955010990112,-0.015949028103724627,-0.259562987337742,0.23439629844018242,-1.0835497674528685e-59,0.4111877746976939,-0.2548037651330872,-0.15086456891520958,-0.0032759632224922397]\n",
      " * x: [0.0002637384407137199,0.00042426961763242623,0.02306714628087053,-0.44676693471659656,6.101100011581085,1.0423782395978145,0.4448023624559228,0.1233122549874814,0.5042883369807535]\n",
      "     7     1.727967e+02     1.768558e+00\n",
      " * Current step size: 4.9182260248858045e-5\n",
      " * g(x): [1.7685580083850367,0.02636663622049805,-0.22839086560269836,0.24381268432561456,-1.0835497674528685e-59,0.3947806185658894,-0.25231132123258404,-0.19149814556939326,0.014935545745337842]\n",
      " * x: [0.0003495661818078828,0.00042505402688333997,0.023079912175264745,-0.4467784628563478,6.101100011581085,1.042358016453668,0.44481489428101195,0.12331967484797211,0.5042884981000293]\n",
      "     8     1.727966e+02     4.038348e-01\n",
      " * Current step size: 2.7275816087419422e-5\n",
      " * g(x): [0.008652135572291964,0.002038908305039478,-0.24511025265586106,0.2385723910397103,-1.0835497674528685e-59,0.4038348000830308,-0.25443740281430743,-0.16399888902024112,0.004988393284553139]\n",
      " * x: [0.0003013273188312398,0.0004243348553629458,0.023086141722510972,-0.44678511304628526,6.101100011581085,1.0423472484901213,0.4448217762782067,0.12332489811617174,0.5042880907208304]\n",
      "     9     1.727897e+02     1.466390e+01\n",
      " * Current step size: 0.02234141363701732\n",
      " * g(x): [-14.663896716875525,-0.08007734264093688,-0.25624944619585893,0.2048812087340767,-1.0835497674528685e-59,0.42693052861805963,-0.22638192402568863,0.02376577610551316,-0.01639265551319191]\n",
      " * x: [0.00010802637916711345,0.00037878276155210895,0.028562251263769385,-0.4521151575168757,6.101100011581085,1.0333250081804441,0.4505062675392095,0.12698886513178426,0.5041766429630761]\n",
      "    10     1.727892e+02     5.155750e+00\n",
      " * Current step size: 2.1749211283929827e-5\n",
      " * g(x): [5.15574954151079,0.11305410927714427,-0.14119597726555547,0.24091223655418453,-1.0835497674528685e-59,0.36407314429463367,-0.22480953205314402,-0.12233201878928865,0.053763282611171914]\n",
      " * x: [0.00042695456710816415,0.00038052438059626233,0.02856782448711609,-0.45211961352157254,6.101100011581085,1.0333157227781737,0.45051119116750604,0.1269883482448984,0.5041769994904043]\n",
      "Iter     Function value   Gradient norm \n",
      "     0     1.727892e+02     5.155750e+00\n",
      " * Current step size: 1.0\n",
      " * g(x): [5.15574954151079,0.11305410927714427,-0.14119597726555547,0.24091223655418453,-1.0835497674528686e-62,0.36407314429463367,-0.22480953205314402,-0.12233201878928865,0.053763282611171914]\n",
      " * x: [0.00042695456710816415,0.00038052438059626233,0.02856782448711609,-0.45211961352157254,6.101100011581085,1.0333157227781737,0.45051119116750604,0.1269883482448984,0.5041769994904043]\n",
      "     1     1.727888e+02     1.394831e+00\n",
      " * Current step size: 2.510781635287723e-5\n",
      " * g(x): [1.3948309484607575,0.02883679884570451,-0.17877407812449245,0.22733187088083276,-1.0835497674528686e-62,0.3870406415726724,-0.22526317444129831,-0.06808798446897739,0.02866295423850851]\n",
      " * x: [0.0002975049544584802,0.0003776858387825937,0.02857136960978304,-0.4521256623017651,6.101100011581085,1.0333065816965277,0.45051683564395123,0.12699141973476025,0.504175649611778]\n",
      "     2     1.727887e+02     3.936344e-01\n",
      " * Current step size: 2.5464207714653083e-5\n",
      " * g(x): [-0.1913170717338832,0.005894197164572466,-0.19051570572682544,0.22313593680304666,-1.0835497674528686e-62,0.3936344416499905,-0.22528422367255216,-0.05294428525529822,0.021063175174906523]\n",
      " * x: [0.0002619866894600489,0.000376951532546961,0.028575921950042396,-0.4521314511277454,6.101100011581085,1.0332967260132366,0.45052257179221566,0.12699315354133964,0.5041749197323575]\n",
      "     3     1.727887e+02     1.655215e+00\n",
      " * Current step size: 0.0002172735816461074\n",
      " * g(x): [1.6552154909522383,0.027472915953610573,-0.17619612092742415,0.22823627231721702,-1.0835497674528686e-62,0.3847405273053249,-0.2246973892174069,-0.07157301420415078,0.028297395015935978]\n",
      " * x: [0.00030355483486571496,0.000375670879218086,0.0286173159797855,-0.4521799326719285,6.101100011581085,1.03321119964824,0.4505715201023814,0.12700465693582474,0.5041703432608464]\n",
      "     4     1.727887e+02     3.920238e-01\n",
      " * Current step size: 2.370937876465878e-5\n",
      " * g(x): [-0.05628883489409663,0.0025586127343680356,-0.1890703908800322,0.22378729019019714,-1.0835497674528686e-62,0.3920237797890016,-0.22490868798317082,-0.05536325217523952,0.01998401587098053]\n",
      " * x: [0.0002643107038535977,0.0003750195134479722,0.028621493480353432,-0.4521853440121567,6.101100011581085,1.033202077689352,0.4505768475378898,0.12700635388752785,0.5041696723471899]\n",
      "     5     1.727883e+02     5.050014e+00\n",
      " * Current step size: 0.00263373984610824\n",
      " * g(x): [5.050014476233001,0.09069369805889192,-0.13793072116613833,0.24542124767826,-1.0835497674528686e-62,0.35266410536035814,-0.21859830364536575,-0.13206676158536354,0.033274084288616446]\n",
      " * x: [0.0004125608512051879,0.0003682807931387072,0.029119455702533433,-0.4527747415153832,6.101100011581085,1.0321695890398999,0.451169198511167,0.1271521662907919,0.5041170396483052]\n",
      "     6     1.727879e+02     7.245198e-01\n",
      " * Current step size: 2.7007389522569054e-5\n",
      " * g(x): [0.724519786314213,0.003192054059477188,-0.1781068245580548,0.2299721451290094,-1.0835497674528686e-62,0.376985976406524,-0.22065347114579045,-0.07301176408298375,0.006742678323921281]\n",
      " * x: [0.00027617314315095073,0.00036583139310798844,0.029123180851247096,-0.4527813697026164,6.101100011581085,1.0321600645030358,0.4511751022807025,0.12715573306926503,0.5041161410021499]\n",
      "     7     1.727879e+02     3.811073e-01\n",
      " * Current step size: 3.060756846096612e-5\n",
      " * g(x): [-0.351047609333693,-0.010054192319357337,-0.185533825405992,0.2279324944036192,-1.0835497674528686e-62,0.38110734652344663,-0.220500344056457,-0.0657226711324992,0.0020247517218038302]\n",
      " * x: [0.0002539973541900139,0.0003657336920948319,0.02912863226807312,-0.45278840859079256,6.101100011581085,1.032148525878954,0.4511818559469268,0.12715796778183266,0.5041159346251615]\n",
      "     8     1.727879e+02     8.558481e-01\n",
      " * Current step size: 7.086405642070247e-5\n",
      " * g(x): [0.8558481146264059,0.008399210757281006,-0.17696470647401913,0.2303126988912,-1.0835497674528686e-62,0.37606585505995327,-0.2206441586906882,-0.07336853429035953,0.007329711876196243]\n",
      " * x: [0.00027887401178418943,0.0003664461729466154,0.02914177994754464,-0.4528045608119361,6.101100011581085,1.0321215190664477,0.4511974814957488,0.1271626251569079,0.5041157911430412]\n",
      "     9     1.727878e+02     3.801329e-01\n",
      " * Current step size: 2.5566969339327046e-5\n",
      " * g(x): [-0.18607689596291355,-0.005160022570041342,-0.18425359147536932,0.2282702418969731,-1.0835497674528686e-62,0.3801328715659442,-0.22029120348283338,-0.06627747636025484,0.002699021761822573]\n",
      " * x: [0.00025699256927841526,0.00036623143058270947,0.029146304398769203,-0.4528104492096471,6.101100011581085,1.0321119042022617,0.4512031226981889,0.12716450096797458,0.5041156037445224]\n",
      "    10     1.727878e+02     1.628136e+00\n",
      " * Current step size: 0.00021381962373617222\n",
      " * g(x): [1.628135555085671,0.02470243195571631,-0.17058911167194252,0.2331131044342337,-1.0835497674528686e-62,0.37178041787431587,-0.22047148286839763,-0.0816942355614576,0.0110546247342026]\n",
      " * x: [0.0002967794611592003,0.00036733474466710584,0.029185701432370505,-0.45285925786687964,6.101100011581085,1.0320306243346937,0.45125022528043,0.1271786723930321,0.5041150266407047]\n",
      "Iter     Function value   Gradient norm \n",
      "     0     1.727878e+02     1.628136e+00\n",
      " * Current step size: 1.0\n",
      " * g(x): [1.628135555085671,0.02470243195571631,-0.17058911167194252,0.2331131044342337,-1.0835497674528687e-65,0.37178041787431587,-0.22047148286839763,-0.0816942355614576,0.0110546247342026]\n",
      " * x: [0.0002967794611592003,0.00036733474466710584,0.029185701432370505,-0.45285925786687964,6.101100011581085,1.0320306243346937,0.45125022528043,0.1271786723930321,0.5041150266407047]\n",
      "     1     1.727878e+02     5.655207e-01\n",
      " * Current step size: 1.5151888445355626e-5\n",
      " * g(x): [0.5655207311961803,0.009116268358900927,-0.17854742882134567,0.22964252890458328,-1.0835497674528687e-65,0.3763196552054804,-0.22014795063899972,-0.07208569183981081,0.005973672166952659]\n",
      " * x: [0.00027211013285462503,0.00036696045617378386,0.02918828617956055,-0.4528627899706332,6.101100011581085,1.0320249911592758,0.4512535658397438,0.12717991021497596,0.504114859142264]\n",
      "     2     1.727878e+02     4.543171e-01\n",
      " * Current step size: 3.662261015806949e-5\n",
      " * g(x): [-0.45431706155523743,-0.004202113417534335,-0.18549313982982518,0.22712315006703912,-1.0835497674528687e-65,0.38014624181453627,-0.21952121999456453,-0.06538146444365991,0.0015549923764358597]\n",
      " * x: [0.0002513992875797209,0.0003666265946315795,0.029194825052441,-0.452871200079445,6.101100011581085,1.0320112093512483,0.45126162823231714,0.1271825501811662,0.504114640370797]\n",
      "     3     1.727878e+02     6.591309e-01\n",
      " * Current step size: 4.975315503996842e-5\n",
      " * g(x): [0.6591309399871114,0.010608553178052342,-0.17769888347398463,0.2303900859891002,-1.0835497674528687e-65,0.375624001825108,-0.2199715541283984,-0.0735394512606896,0.006388011821412687]\n",
      " * x: [0.0002740029947805815,0.0003668356630319376,0.029204053921385805,-0.45288250017274345,6.101100011581085,1.0319922958763414,0.45127255010561007,0.1271858031153034,0.5041145630050202]\n",
      "     4     1.727877e+02     3.893603e-01\n",
      " * Current step size: 3.257826370205322e-5\n",
      " * g(x): [-0.38936030934067734,-0.003243692315404229,-0.18489106433511895,0.22724239026069795,-1.0835497674528687e-65,0.3796092790585846,-0.22180803779051456,-0.0686795720165109,0.0018141846948572793]\n",
      " * x: [0.0002525296532034992,0.00036649005478900577,0.029209843042471182,-0.4528900058817191,6.101100011581085,1.0319800586985572,0.4512797163969074,0.12718819890293906,0.5041143548946866]\n",
      "     5     1.727877e+02     7.769422e-01\n",
      " * Current step size: 6.128374518594264e-5\n",
      " * g(x): [0.7769422325397894,0.012388999027796941,-0.1766723333506163,0.230662649600421,-1.0835497674528687e-65,0.3748141169990095,-0.21967480367590458,-0.07503885507140629,0.006907786294100937]\n",
      " * x: [0.00027639111118665306,0.0003666888404023246,0.029221173859345053,-0.4529039321464593,6.101100011581085,1.0319567948202293,0.4512933096241755,0.12719240784433,0.5041142437146541]\n",
      "     6     1.727877e+02     3.788552e-01\n",
      " * Current step size: 2.793331385733862e-5\n",
      " * g(x): [-0.2711171992078968,-0.0017186381347160738,-0.1839198082807886,0.22856544069344992,-1.0835497674528687e-65,0.37885519017535724,-0.2216996705818126,-0.06938206893075179,0.0022978703137011003]\n",
      " * x: [0.0002546885399560978,0.0003663427746041029,0.029226108903082443,-0.45291037531864575,6.101100011581085,1.031946325019861,0.4512994458694132,0.1271945039282202,0.5041140507572914]\n",
      "     7     1.727877e+02     1.064285e+00\n",
      " * Current step size: 0.00010293997426620246\n",
      " * g(x): [1.0642849280822084,0.016589188159415375,-0.17431343451444423,0.23124002569905294,-1.0835497674528687e-65,0.37315532537918805,-0.2194294459742774,-0.07794194673940173,0.008225097189376807]\n",
      " * x: [0.00028259733746568354,0.00036651969116946345,0.029245041603413912,-0.4529339038392289,6.101100011581085,1.0319073256763338,0.4513222676277977,0.12720164611661047,0.5041138142145805]\n",
      "     8     1.727877e+02     3.770277e-01\n",
      " * Current step size: 1.9601451027097205e-5\n",
      " * g(x): [0.09865857460303532,0.0030269169800195717,-0.18119107187885378,0.22921894532981274,-1.0835497674528687e-65,0.37702765318169235,-0.2214425104846783,-0.07230054626564539,0.003847820471996388]\n",
      " * x: [0.00026173580856900247,0.00036619451901017736,0.02924845839966391,-0.4529384364792681,6.101100011581085,1.031900011290498,0.4513265687633369,0.12720317389186245,0.5041136529907407]\n",
      "     9     1.727876e+02     2.717553e+00\n",
      " * Current step size: 0.0004980476476576253\n",
      " * g(x): [-2.7175532916572656,-0.02801388452187208,-0.19747143380955376,0.2237910344866901,-1.0835497674528687e-65,0.38477681061163793,-0.2230383188651784,-0.047194986582215756,-0.006864752557360854]\n",
      " * x: [0.0002125991375667064,0.00036468697012862367,0.02933870018678974,-0.4530525984357882,6.101100011581085,1.0317122335547289,0.45143685768477515,0.12723918300885442,0.5041117365928061]\n",
      "    10     1.727876e+02     1.434630e+00\n",
      " * Current step size: 2.8636189496964176e-5\n",
      " * g(x): [1.4346295056148946,0.022254923827295596,-0.17043872265858734,0.23224990154938324,-1.0835497674528687e-65,0.369655210586695,-0.22143778887538568,-0.09435508335055462,0.009948215665724347]\n",
      " * x: [0.00029041950859470263,0.00036548918103433806,0.029344355016188546,-0.4530590069582595,6.101100011581085,1.0317012150130662,0.45144324465233926,0.1272405344934335,0.5041119331731612]\n",
      "Iter     Function value   Gradient norm \n",
      "     0     1.727876e+02     1.434630e+00\n",
      " * Current step size: 1.0\n",
      " * g(x): [1.4346295056148946,0.022254923827295596,-0.17043872265858734,0.23224990154938324,-1.0835497674528687e-68,0.369655210586695,-0.22143778887538568,-0.09435508335055462,0.009948215665724347]\n",
      " * x: [0.00029041950859470263,0.00036548918103433806,0.029344355016188546,-0.4530590069582595,6.101100011581085,1.0317012150130662,0.45144324465233926,0.1272405344934335,0.5041119331731612]\n",
      "     1     1.727875e+02     3.959047e-01\n",
      " * Current step size: 1.6315487244621636e-5\n",
      " * g(x): [0.3959046790371896,0.006893457115203386,-0.1780444925819684,0.2301106616889877,-1.0835497674528687e-68,0.3739831347322297,-0.2218571535151484,-0.07912351804820168,0.0050975782060525]\n",
      " * x: [0.000267012829195085,0.00036512608110850377,0.029347135806994072,-0.4530627962285658,6.101100011581085,1.031695183908193,0.45144685751775915,0.12724207394259238,0.5041117708631754]\n",
      "     2     1.727875e+02     6.801536e-01\n",
      " * Current step size: 5.349064399952102e-5\n",
      " * g(x): [-0.6801535803269753,-0.006899673931287753,-0.18515352851574754,0.22757178417021656,-1.0835497674528687e-68,0.377857227620423,-0.22195579001539376,-0.06835152953076895,0.0005741161924469607]\n",
      " * x: [0.00024583563295096206,0.0003647573456480285,0.02935665952156285,-0.45307510499605075,6.101100011581085,1.0316751793094712,0.45145872479977656,0.12724630631052827,0.5041114981904343]\n",
      "     3     1.727875e+02     4.589664e-01\n",
      " * Current step size: 3.290926727550097e-5\n",
      " * g(x): [0.45896642514971264,0.007798877734876352,-0.17742812192995056,0.23028926280915132,-1.0835497674528687e-68,0.3734443086357943,-0.2218147340161131,-0.07905430059100292,0.005377899962833443]\n",
      " * x: [0.0002682189889143314,0.00036498440886154705,0.029362752788519776,-0.45308259421672037,6.101100011581085,1.0316627443049755,0.45146602920219353,0.12724855570928228,0.5041114792966911]\n",
      "     4     1.727875e+02     5.512810e-01\n",
      " * Current step size: 4.379087331042861e-5\n",
      " * g(x): [-0.5512809671708387,-0.005298673590807561,-0.1841679053960216,0.22781259842168636,-1.0835497674528687e-68,0.37714133579317116,-0.22180788301715676,-0.06954496886042148,0.0010897424408581324]\n",
      " * x: [0.00024812044833686004,0.00036464288919469556,0.029370522520928918,-0.4530926787846528,6.101100011581085,1.0316463908525675,0.4514757426631092,0.1272520175661441,0.5041112437937552]\n",
      "     5     1.727875e+02     5.200060e-01\n",
      " * Current step size: 3.860065539763103e-5\n",
      " * g(x): [0.5200059826382335,0.008659201716519445,-0.17683156207298573,0.2304326428923132,-1.0835497674528687e-68,0.3729244949042681,-0.22101857026339103,-0.08459626964416547,0.005650785598850461]\n",
      " * x: [0.0002694002549778943,0.00036484742146803887,0.029377631522780414,-0.4531014725002597,6.101100011581085,1.0316318329498284,0.451484304592766,0.1272547020475217,0.5041112017289827]\n",
      "     6     1.727875e+02     5.242399e-01\n",
      " * Current step size: 4.0157692100642735e-5\n",
      " * g(x): [-0.5242399427440971,-0.004951214450009173,-0.1838356090907183,0.2279170336379752,-1.0835497674528687e-68,0.37678935440836936,-0.22165554857239927,-0.06975035896433705,0.0012000346753329172]\n",
      " * x: [0.00024851801483661597,0.00036449968791166953,0.029384732670203816,-0.45311072614338294,6.101100011581085,1.0316168571627853,0.4514931801884592,0.12725809923847095,0.5041109748064745]\n",
      "     7     1.727875e+02     5.347918e-01\n",
      " * Current step size: 4.020314715609776e-5\n",
      " * g(x): [0.5347918094859476,0.00889636623630285,-0.17657113114048859,0.23052108480064845,-1.0835497674528687e-68,0.3726072892313359,-0.22073152646482835,-0.08542001693628208,0.0057161882977758705]\n",
      " * x: [0.0002695941103998612,0.0003646987423148047,0.02939212344024862,-0.45311988912542567,6.101100011581085,1.0316017090449232,0.4515020914390964,0.12726090342241658,0.5041109265613039]\n",
      "     8     1.727875e+02     5.205315e-01\n",
      " * Current step size: 3.9488226883077205e-5\n",
      " * g(x): [-0.5205315232440603,-0.0049049188548858725,-0.18365372203284386,0.22813206186324955,-1.0835497674528687e-68,0.376519664936842,-0.21874363654443574,-0.06337301797942387,0.0012161065978726349]\n",
      " * x: [0.0002484761300916687,0.0003643474405864306,0.029399095921136098,-0.4531289919943236,6.101100011581085,1.0315869954437478,0.4515108077356937,0.12726427650742572,0.5041107008391634]\n",
      "     9     1.727874e+02     5.405951e-01\n",
      " * Current step size: 4.056714216439793e-5\n",
      " * g(x): [0.540595092049721,0.008978655658473937,-0.17637530531702786,0.230588126275284,-1.0835497674528687e-68,0.3723205553971045,-0.22070155960535717,-0.08447169370606308,0.005738103554046359]\n",
      " * x: [0.00026959260639616107,0.00036454641912692163,0.029406546227786826,-0.4531382466601095,6.101100011581085,1.0315717211169726,0.45151968153989497,0.1272668473696555,0.5041106515051942]\n",
      "    10     1.727874e+02     5.135519e-01\n",
      " * Current step size: 3.9029125710958186e-5\n",
      " * g(x): [-0.5135518969187317,-0.00476811760170074,-0.1834499333389225,0.2281993099993195,-1.0835497674528687e-68,0.37622844972926445,-0.21775330389163228,-0.06964853612559262,0.0012420500111710586]\n",
      " * x: [0.0002484936525898255,0.00036419599004651167,0.029413430001750354,-0.45314724631307735,6.101100011581085,1.0315571897712112,0.4515282953288094,0.12727014422600816,0.5041104275520293]\n",
      "Iter     Function value   Gradient norm \n",
      "     0     1.727874e+02     5.135519e-01\n",
      " * Current step size: 1.0\n",
      " * g(x): [-0.5135518969187317,-0.00476811760170074,-0.1834499333389225,0.2281993099993195,-1.0835497674528688e-71,0.37622844972926445,-0.21775330389163228,-0.06964853612559262,0.0012420500111710586]\n",
      " * x: [0.0002484936525898255,0.00036419599004651167,0.029413430001750354,-0.45314724631307735,6.101100011581085,1.0315571897712112,0.4515282953288094,0.12727014422600816,0.5041104275520293]\n",
      "     1     1.727874e+02     6.911846e-01\n",
      " * Current step size: 4.7243512539646604e-5\n",
      " * g(x): [0.691184572681501,0.01115918056598294,-0.17511846801711392,0.23104093297386752,-1.0835497674528688e-71,0.3714228548324355,-0.21700340400530777,-0.08334760408028508,0.006428030250151928]\n",
      " * x: [0.0002727556480716649,0.0003644212526702181,0.02942209682097645,-0.45315802725004084,6.101100011581085,1.0315394154177286,0.45153858275975234,0.12727343466749796,0.504110368873224]\n",
      "     2     1.727874e+02     3.754197e-01\n",
      " * Current step size: 3.107691998871043e-5\n",
      " * g(x): [-0.36173630479314317,-0.002920543560256621,-0.18229840714441833,0.22847310438602875,-1.0835497674528688e-71,0.3754197019729916,-0.21764075296035532,-0.0707391103853188,0.0018610995522658769]\n",
      " * x: [0.0002512757604090109,0.0003640744597086295,0.02942753896359556,-0.453165207290629,6.101100011581085,1.031527872739387,0.4515453265571759,0.1272760248543212,0.5041101691098423]\n",
      "     3     1.727874e+02     8.162027e-01\n",
      " * Current step size: 6.646919165860968e-5\n",
      " * g(x): [0.8162027400729852,0.012971169473334572,-0.1740370718288418,0.23182132050861692,-1.0835497674528688e-71,0.37059423606452635,-0.21670117882041606,-0.08560650504982614,0.006991210575963969]\n",
      " * x: [0.0002753200801821836,0.0003642685858782835,0.029439656191359104,-0.45318039371319324,6.101100011581085,1.0315029188952642,0.45155979296209714,0.12728072682580718,0.5041100454040595]\n",
      "     4     1.727874e+02     3.745912e-01\n",
      " * Current step size: 2.6231788770626844e-5\n",
      " * g(x): [-0.21986901750911403,-0.001078237812945214,-0.1811698192137731,0.22875136969051754,-1.0835497674528688e-71,0.37459123954316575,-0.217467992614965,-0.07205312467545681,0.0024492314921082947]\n",
      " * x: [0.0002539096223105822,0.00036392832890055096,0.029444221495065575,-0.45318647480110535,6.101100011581085,1.0314931975455441,0.4515654774216463,0.12728297243756503,0.5041098620121004]\n",
      "     5     1.727874e+02     1.284858e+00\n",
      " * Current step size: 0.00014428600775895587\n",
      " * g(x): [1.2848578001438513,0.019826077528849986,-0.17027707859501492,0.23271215658626634,-1.0835497674528688e-71,0.36806464578623543,-0.21639881501984207,-0.09023851492085198,0.009169496661258103]\n",
      " * x: [0.0002856336450768562,0.0003640839035299956,0.029470361765006343,-0.4532194804230074,6.101100011581085,1.031439149271049,0.4515968550101161,0.12729336869527103,0.5041095086222663]\n",
      "     6     1.727873e+02     5.445874e-01\n",
      " * Current step size: 1.2865159993095432e-5\n",
      " * g(x): [0.5445873872737905,0.009081240229864777,-0.17564536784223003,0.23104250338229146,-1.0835497674528688e-71,0.37111855842259434,-0.21671738626270468,-0.08272982353572357,0.005740223511198184]\n",
      " * x: [0.00026910374390962897,0.0003638288378705514,0.029472552406865624,-0.45322247430213425,6.101100011581085,1.0314344140604932,0.45159963901549366,0.12729452962820303,0.5041093906552248]\n",
      "     7     1.727873e+02     4.748439e-01\n",
      " * Current step size: 3.745312934629816e-5\n",
      " * g(x): [-0.47484385490940095,-0.004246361495295987,-0.18247660318106446,0.22850612725221756,-1.0835497674528688e-71,0.37489433629862773,-0.21867460323975724,-0.06945368180787424,0.0013950949019944092]\n",
      " * x: [0.0002487072420537011,0.00036348871700559745,0.029479130875546496,-0.45323112756689793,6.101100011581085,1.0314205145091218,0.45160775575979295,0.1272976281189847,0.5041091756658911]\n",
      "     8     1.727873e+02     6.142490e-01\n",
      " * Current step size: 4.586042295395729e-5\n",
      " * g(x): [0.6142489807918768,0.010179614071015598,-0.17498643176564743,0.23126077284749902,-1.0835497674528688e-71,0.37056654812472156,-0.21573136951535665,-0.08844174014898391,0.006054745677747109]\n",
      " * x: [0.0002704837820769338,0.0003636834569397871,0.02948749932974758,-0.4532416069545413,6.101100011581085,1.0314033216962961,0.4516177842695868,0.12730081329420811,0.5041091116862488]\n",
      "     9     1.727873e+02     4.260835e-01\n",
      " * Current step size: 3.4129063931296324e-5\n",
      " * g(x): [-0.4260834847828858,-0.0036654518058802142,-0.18200223310398939,0.2286644423979044,-1.0835497674528688e-71,0.37446552747221307,-0.2178999081508988,-0.07474406789370484,0.0015946172006972015]\n",
      " * x: [0.00024952003934175423,0.00036333603624036153,0.02949347145286442,-0.45324949966824263,6.101100011581085,1.0313906746068844,0.451625146979289,0.12730383172801185,0.5041089050434465]\n",
      "    10     1.727873e+02     6.983341e-01\n",
      " * Current step size: 5.32213201834657e-5\n",
      " * g(x): [0.6983340589434898,0.011271708449141918,-0.1742130448464797,0.23144223786321566,-1.0835497674528688e-71,0.3699545907749824,-0.21746051655871063,-0.08644520713802889,0.00644295730844735]\n",
      " * x: [0.000272196764910271,0.00036353111642453933,0.029503157851986553,-0.45326166949174607,6.101100011581085,1.0313707450571492,0.45163674390006864,0.12730780970598105,0.5041088201758139]\n",
      "Iter     Function value   Gradient norm \n",
      "     0     1.727873e+02     6.983341e-01\n",
      " * Current step size: 1.0\n",
      " * g(x): [0.6983340589434898,0.011271708449141918,-0.1742130448464797,0.23144223786321566,-1.0835497674528688e-74,0.3699545907749824,-0.21746051655871063,-0.08644520713802889,0.00644295730844735]\n",
      " * x: [0.000272196764910271,0.00036353111642453933,0.029503157851986553,-0.45326166949174607,6.101100011581085,1.0313707450571492,0.45163674390006864,0.12730780970598105,0.5041088201758139]\n",
      "     1     1.727873e+02     3.734635e-01\n",
      " * Current step size: 2.6960471497800512e-5\n",
      " * g(x): [-0.22120565858474625,-0.0010864772523186377,-0.1804906050310712,0.22904912326954938,-1.0835497674528688e-74,0.37346345356896504,-0.21667898884167638,-0.07649248114644594,0.0024424706000614194]\n",
      " * x: [0.0002533693494181817,0.0003632272258501647,0.02950785471781668,-0.4532679092836034,6.101100011581085,1.0313607709069492,0.45164260673812723,0.1273101403095242,0.504108646470647]\n",
      "     2     1.727873e+02     1.256928e+00\n",
      " * Current step size: 0.00014032434058293877\n",
      " * g(x): [1.2569284087258772,0.01933976117049698,-0.16983937545117894,0.2330103299696774,-1.0835497674528688e-74,0.36710719165862615,-0.21573782909428277,-0.09187973019703873,0.009026860229648381]\n",
      " * x: [0.00028440988759230093,0.0003633796850541547,0.029533181942949082,-0.4533000504507873,6.101100011581085,1.0313083648940953,0.4516730120743546,0.12732087406650064,0.5041083037325707]\n",
      "     3     1.727872e+02     4.892360e-01\n",
      " * Current step size: 1.354392626778859e-5\n",
      " * g(x): [0.4892360269173744,0.008284140136944281,-0.17537700863158573,0.23130240594206572,-1.0835497674528688e-74,0.37025760215627135,-0.21480689778037307,-0.08463697307280427,0.0054881215049937815]\n",
      " * x: [0.0002673861419006288,0.0003631177487548249,0.02953548223492756,-0.4533032063255161,6.101100011581085,1.031303392821359,0.45167593401160505,0.12732211847879193,0.5041081814734413]\n",
      "     4     1.727872e+02     5.323173e-01\n",
      " * Current step size: 4.1373390337249846e-5\n",
      " * g(x): [-0.532317280360741,-0.004946495812377131,-0.1821579629586747,0.2287530241422027,-1.0835497674528688e-74,0.3739973509963719,-0.21449186867126518,-0.07652695085150234,0.0011743570184326035]\n",
      " * x: [0.000247144788791931,0.0003627750057913306,0.02954273817636185,-0.45331277609024306,6.101100011581085,1.0312880740090598,0.45168482130123405,0.12732562019731583,0.504107954411248]\n",
      "     5     1.727872e+02     5.220958e-01\n",
      " * Current step size: 3.9118254745405015e-5\n",
      " * g(x): [0.5220957502432736,0.008680673564343466,-0.1749931771124779,0.2314266985873598,-1.0835497674528688e-74,0.36988507162514056,-0.21483771108883093,-0.08339573607289455,0.005637986857981669]\n",
      " * x: [0.00026796811177046365,0.0003629685040746162,0.029549863877960773,-0.45332172450931524,6.101100011581085,1.0312734438854094,0.4516932118487936,0.12732861379807414,0.504107908472451]\n"
     ]
    },
    {
     "ename": "LoadError",
     "evalue": "InterruptException:",
     "output_type": "error",
     "traceback": [
      "InterruptException:",
      "",
      " in Fmatrix at In[61]:91",
      " in logProbRight at In[64]:124",
      " in logLike at In[64]:165",
      " in llikey at In[65]:51",
      " in gradient! at /Users/msyoon/.julia/v0.4/ForwardDiff/src/gradient.jl:15",
      " in single_trial at In[65]:59",
      " in SumLikey at In[69]:28",
      " in LL_fg! at In[76]:14",
      " in function_barrier at /Users/msyoon/.julia/v0.4/Optim/src/fminbox.jl:58",
      " in anonymous at /Users/msyoon/.julia/v0.4/Optim/src/fminbox.jl:141",
      " in barrier_combined at /Users/msyoon/.julia/v0.4/Optim/src/fminbox.jl:67",
      " in anonymous at /Users/msyoon/.julia/v0.4/Optim/src/fminbox.jl:183",
      " in linefunc! at /Users/msyoon/.julia/v0.4/LineSearches/src/hagerzhang.jl:496",
      " in hagerzhang! at /Users/msyoon/.julia/v0.4/LineSearches/src/hagerzhang.jl:167",
      " in hagerzhang! at /Users/msyoon/.julia/v0.4/LineSearches/src/hagerzhang.jl:75 (repeats 10 times)",
      " in update_state! at /Users/msyoon/.julia/v0.4/Optim/src/gradient_descent.jl:64",
      " in optimize at /Users/msyoon/.julia/v0.4/Optim/src/optimize.jl:200",
      " in optimize at /Users/msyoon/.julia/v0.4/Optim/src/fminbox.jl:201"
     ]
    }
   ],
   "source": [
    "# Parameters\n",
    "sigma_a = 1; sigma_s = 0.1; sigma_i = 0.2; \n",
    "sigma_a_sbin = sigma_a  # remember we need this copy for Fmatrix\n",
    "lam = -0.0005; B = 6.1; bias = 0.1; \n",
    "phi = 0.3; tau_phi = 0.1; lapse = 0.05*2;\n",
    "params = [sigma_a, sigma_s, sigma_i, lam, B, bias, phi, tau_phi, lapse]\n",
    "\n",
    "l = [0, 0, 0, -5, 5, -5, 0.01, 0.005, 0]\n",
    "u = [200, 200, 30, +5, 25, +5, 1.2, 0.7, 1]\n",
    "\n",
    "# test with max_iteration = 10 \n",
    "res = optimize(d4, params, l, u, Fminbox(); \n",
    "         optimizer = GradientDescent, optimizer_o = Optim.Options(g_tol = 1e-12,\n",
    "                                                                        iterations = 10,\n",
    "                                                                        show_every = true,\n",
    "                                                                        store_trace = true,\n",
    "                                                                        extended_trace = true,\n",
    "                                                                        show_trace = true))\n"
   ]
  },
  {
   "cell_type": "code",
   "execution_count": 88,
   "metadata": {
    "collapsed": false
   },
   "outputs": [
    {
     "data": {
      "text/plain": [
       "my_line_search! (generic function with 6 methods)"
      ]
     },
     "execution_count": 88,
     "metadata": {},
     "output_type": "execute_result"
    }
   ],
   "source": [
    "function my_line_search!(df, x, s, x_scratch, gr_scratch, lsr, alpha,\n",
    "        mayterminate, c1::Real = 1e-4, rhohi::Real = 0.5, rholo::Real = 0.1, iterations::Integer = 1_000)\n",
    "    initial_alpha = 0.5\n",
    "    LineSearches.bt2!(df, x, s,x_scratch, gr_scratch, lsr, initial_alpha,\n",
    "                      mayterminate, c1, rhohi, rholo, iterations)\n",
    "end\n",
    "\n"
   ]
  },
  {
   "cell_type": "code",
   "execution_count": 91,
   "metadata": {
    "collapsed": false
   },
   "outputs": [
    {
     "name": "stdout",
     "output_type": "stream",
     "text": [
      "Iter     Function value   Gradient norm \n",
      "     0     2.319092e+02     4.158894e+02\n",
      " * Current step size: 1.0\n",
      " * g(x): [-13.433466167620482,-8.764621447362567,-7.4660887452774425,-7.405265787956647,-0.010847042671399224,-16.167725587977245,4.025964076606384,-105.83289755469289,-415.8893609590811]\n",
      " * x: [1.0,0.1,0.2,-0.0005,6.1,0.1,0.3,0.1,0.1]\n",
      "     1     1.977829e+02     1.443329e+02\n",
      " * Current step size: 0.0007\n",
      " * g(x): [-5.732246228496726,-3.575764102856219,-3.218818913593645,-2.949713584343003,-0.010846963731473223,-12.199438470120228,3.0071934838180865,-49.91432473018891,-144.33287489596387]\n",
      " * x: [1.0092857808412095,0.1027064301584175,0.20396908645883904,0.004678437559085459,6.100007513989406,0.11130593526790389,0.29758362934358107,0.1303747117962355,0.2275426236051688]\n",
      "     2     1.881471e+02     8.050671e+01\n",
      " * Current step size: 0.0007\n",
      " * g(x): [-3.3374190428133605,-2.0851364571406155,-1.8828530771641014,-1.4341491332962137,-0.010846884793185126,-10.421380119499226,2.3036934850748247,-30.62242948498505,-80.50671028552871]\n",
      " * x: [1.0132490604104039,0.10384364539592628,0.2056962711721152,0.006741146449074338,6.100015027925193,0.1198368829761951,0.2957825182013423,0.14931210572221498,0.3073522844460236]\n",
      "     3     1.805059e+02     1.059737e+01\n",
      " * Current step size: 0.0033060268817918176\n",
      " * g(x): [0.2590128437747374,-0.07570193524900407,0.1313285809715502,0.875361090946941,-0.01084651199307764,-6.342036447109119,0.11005039345441953,-0.8172656383043643,10.59737115625458]\n",
      " * x: [1.0241481596497553,0.10701328266723312,0.21048660397845675,0.011477681398486641,6.100050515205812,0.15425530158645784,0.28927648931474953,0.2106647921697027,0.5366953157169619]\n",
      "     4     1.800127e+02     7.321684e+00\n",
      " * Current step size: 0.006999999999999999\n",
      " * g(x): [-0.29140913174242605,-0.37038713813591784,-0.1684432840395114,0.877659500133729,-0.010845722752264902,-7.321683541265459,0.8976548425889618,-5.975367887032329,-5.907965954998711]\n",
      " * x: [1.0223567087180983,0.10726486840373724,0.2097717343066174,0.005356357993626336,6.100125651495236,0.19860447902569148,0.2886223778881278,0.21489485336269493,0.46944124625406214]\n",
      "     5     1.796202e+02     1.558858e+01\n",
      " * Current step size: 0.011919769052983144\n",
      " * g(x): [0.6897164686116776,0.07176863276160732,0.37109561411049424,1.779411035850352,-0.010844379156981469,-5.956112613609938,0.06097080904607217,0.8269931082008327,15.588576930071913]\n",
      " * x: [1.0257886385114443,0.10936610434082314,0.21133068470143912,-0.005094548230828153,6.1002535862546825,0.28578847313451616,0.27954279482738964,0.26799215813552485,0.5333159538293812]\n",
      "     6     1.789367e+02     8.614373e+00\n",
      " * Current step size: 0.006999999999999999\n",
      " * g(x): [-0.30882013583303786,-0.41098656037529835,-0.159182594447414,1.7240743408844494,-0.010843590358538907,-7.57011596346585,1.7142931129246535,-7.565514595090281,-8.614372715356673]\n",
      " * x: [1.0210180629608068,0.10912213632562683,0.20930708771030046,-0.017537813842315696,6.100328708056675,0.3274386318218174,0.27918394121560364,0.2633649048232111,0.4343599650258263]\n",
      "     7     1.786750e+02     1.845431e+01\n",
      " * Current step size: 0.010869775483566223\n",
      " * g(x): [1.100949315038748,0.18810538734671461,0.5638954977240735,2.435266021043336,-0.010842365792573538,-5.712660350964693,-0.1401273933680387,2.287256476333252,18.454305488886394]\n",
      " * x: [1.0243345624415148,0.11128659612312453,0.21064922086740112,-0.03625913955342955,6.1004453507539935,0.4096397000231325,0.2635222961369051,0.3288262439762899,0.5189649099487751]\n",
      "     8     1.777863e+02     9.448541e+00\n",
      " * Current step size: 0.006999999999999999\n",
      " * g(x): [-0.29731754805416627,-0.4259297503027615,-0.13747156202485314,2.432731517981658,-0.010841577411570992,-7.41382611083564,2.5355791153249934,-8.423009945926147,-9.448541361692392]\n",
      " * x: [1.0167198618983024,0.11063570077259584,0.20757867690961065,-0.05328873899872965,6.100520458879922,0.4495870102651808,0.26433190780842053,0.3156244436070853,0.4017193503743377]\n",
      "     9     1.772421e+02     1.052247e+01\n",
      " * Current step size: 0.006999999999999999\n",
      " * g(x): [0.9333497440657725,0.07699619923230314,0.45226013076711974,2.740012034775805,-0.010840789193987212,-5.6611038070273905,0.5795045730594341,0.08041263089010581,10.522472231234794]\n",
      " * x: [1.0187758857692255,0.11210078959282703,0.2083223196399617,-0.070300611735862,6.100595561650621,0.5014299569003465,0.24966727252515739,0.3640702129256962,0.4610961222436138]\n",
      "    10     1.767082e+02     6.532006e+00\n",
      " * Current step size: 0.006999999999999999\n",
      " * g(x): [0.10220420877847324,-0.26673714843620766,0.05532877231757377,2.7698580596807822,-0.01084000113976591,-6.532006054230333,2.3430922655424755,-5.825528362070187,-3.9733505060597576]\n",
      " * x: [1.0123212279293192,0.11183239767497581,0.20587188243021823,-0.08946126459696097,6.100670659067179,0.5410163305122833,0.2463815371601251,0.3636052189777797,0.3943299128668097]\n",
      "Iter     Function value   Gradient norm \n",
      "     0     1.768936e+02     6.532560e+00\n",
      " * Current step size: 1.0\n",
      " * g(x): [0.11464299288417829,-0.15362724207911665,0.11638120569815175,2.769948669527964,-1.0840001139765912e-5,-6.532560330623296,2.383362648626048,-5.8278586124691385,-3.9621510343499597]\n",
      " * x: [1.0123212279293192,0.11183239767497581,0.20587188243021823,-0.08946126459696097,6.100670659067179,0.5410163305122833,0.2463815371601251,0.3636052189777797,0.3943299128668097]\n",
      "     1     1.764786e+02     7.430880e+00\n",
      " * Current step size: 0.006999999999999999\n",
      " * g(x): [0.9490675405324276,0.16190429545281707,0.48013802501747455,2.7288500314990367,-1.0840000343561915e-5,-5.191894335220755,0.8456319396748158,-0.15261820436623685,7.430879620761181]\n",
      " * x: [1.011518736900247,0.11290670009803329,0.2050574574480714,-0.10885088561284592,6.10067073494639,0.5867442048199975,0.22970201282320735,0.40439164481066736,0.42206175289483466]\n",
      "     2     1.761027e+02     5.483576e+00\n",
      " * Current step size: 0.006999999999999999\n",
      " * g(x): [0.2538554923132741,-0.10438580482225224,0.16884123600770767,2.6605418704883594,-1.0839999547358078e-5,-5.483575725612937,2.3194863619033126,-4.505093450123516,-3.333787705038184]\n",
      " * x: [1.0048753463784654,0.11177449523462485,0.20169750366464279,-0.1279528164454455,6.100670810825596,0.6230874267743207,0.22378422211457505,0.4054597325572803,0.37005126731131555]\n",
      "     3     1.758185e+02     5.736947e+00\n",
      " * Current step size: 0.006999999999999999\n",
      " * g(x): [1.0057159323818314,0.16688120752388644,0.46974370511352465,2.3528875651501204,-1.0839998751154409e-5,-4.148687933381039,0.6616076202020099,0.7042380355609912,5.7369466909723945]\n",
      " * x: [1.0030983802274884,0.11250445565003152,0.20051598297716963,-0.14657659062602,6.100670886704797,0.6614724160888973,0.20755253280244115,0.4369882916779022,0.3933848775552133]\n",
      "     4     1.755961e+02     4.138841e+00\n",
      " * Current step size: 0.006999999999999999\n",
      " * g(x): [0.3879366702252337,-0.05416152655820368,0.210598666267457,2.2021773800847577,-1.0839997954950906e-5,-4.1388405908229,1.896133813093817,-2.7463019194732934,-3.1147048219598297]\n",
      " * x: [0.9960584573424417,0.1113374552906234,0.19722881287423938,-0.16304678684596402,6.100670962583992,0.6905132005972734,0.20292284191996154,0.43205986263539287,0.35323092045936066]\n",
      "     5     1.754617e+02     6.423696e+00\n",
      " * Current step size: 0.009651322655745424\n",
      " * g(x): [1.2226727192760936,0.23662545642358895,0.5168240313572035,1.6305474771549298,-1.0839996857177326e-5,-2.635079088469957,-0.14703782752725988,3.0552896445958915,6.423695543576203]\n",
      " * x: [0.9923144031792518,0.11185965195861766,0.19519691899277467,-0.18430068967607546,6.100671067203212,0.7304584436822558,0.18462910284816905,0.45855879155303597,0.38328797942177284]\n",
      "     6     1.753378e+02     5.384818e+00\n",
      " * Current step size: 0.006999999999999999\n",
      " * g(x): [0.3316931783733841,-0.07058176677157212,0.17595019371543288,1.6478081858829339,-1.0839996060974223e-5,-2.9400747061014822,1.6994159346832771,-2.0717515974295506,-5.384818251869651]\n",
      " * x: [0.9837558042629284,0.11020494916570887,0.1915803533558236,-0.19571451040067198,6.100671143082394,0.7489039773655758,0.18565792757906,0.4371777275875586,0.33832748554693326]\n",
      "     7     1.752706e+02     4.743831e+00\n",
      " * Current step size: 0.006999999999999999\n",
      " * g(x): [1.163580695288479,0.22117783537262986,0.47161259289451163,1.2422184317772473,-1.0839995264771294e-5,-1.541333208395675,-0.23733639788504798,3.375240747688805,4.743830542606467]\n",
      " * x: [0.9814339824099151,0.11069850668213346,0.19034912701038906,-0.20724915595729057,6.10067121896157,0.7694844779913156,0.17376704475272406,0.4516763461475529,0.3760159513236788]\n",
      "     8     1.751989e+02     4.848593e+00\n",
      " * Current step size: 0.006999999999999999\n",
      " * g(x): [0.44107709555597047,-0.029339020339849836,0.20808225989079704,1.405727997083781,-1.083999446856853e-5,-2.232363868118407,1.2993871585433996,-1.0346412642965421,-4.848592899769716]\n",
      " * x: [0.9732890246758421,0.10915186085240199,0.18704899282705795,-0.21594467612102097,6.10067129484074,0.7802737987061037,0.17542759514887485,0.4280560135937388,0.3428131930370716]\n",
      "     9     1.751452e+02     3.774105e+00\n",
      " * Current step size: 0.006999999999999999\n",
      " * g(x): [1.1184144391656043,0.21239522376345846,0.4392993705891775,1.0915418471943514,-1.0839993672365931e-5,-1.3421506723419698,-0.2114445186228474,3.3604155050788322,3.774105160168568]\n",
      " * x: [0.9702015263002233,0.10935701583948738,0.18559294427172596,-0.22578476207142062,6.100671370719906,0.7959003287392786,0.1663362035797152,0.4352967494754123,0.37674868953099183]\n",
      "    10     1.750848e+02     4.464092e+00\n",
      " * Current step size: 0.006999999999999999\n",
      " * g(x): [0.5184324357996868,-0.0002563494715533152,0.2288321418803323,1.336960752156615,-1.0839992876163499e-5,-2.015519110846495,1.0750557864550625,-0.5599131925808233,-4.46409228276559]\n",
      " * x: [0.9623727305985457,0.10787182266033511,0.18251897935483555,-0.2334255472100942,6.1006714465990655,0.8052953731680175,0.16781553085352455,0.4117797022396218,0.35033317272601394]\n",
      "Iter     Function value   Gradient norm \n",
      "     0     1.750850e+02     4.464076e+00\n",
      " * Current step size: 1.0\n",
      " * g(x): [0.5184455234912742,-0.00013908434497942676,0.2289010605230957,1.3369609890196414,-1.08399928761635e-8,-2.015519947933918,1.0751237223004764,-0.559925991211189,-4.464075637339454]\n",
      " * x: [0.9623727305985457,0.10787182266033511,0.18251897935483555,-0.2334255472100942,6.1006714465990655,0.8052953731680175,0.16781553085352455,0.4117797022396218,0.35033317272601394]\n",
      "     1     1.750342e+02     3.333297e+00\n",
      " * Current step size: 0.006999999999999999\n",
      " * g(x): [1.1004959643089656,0.21361765404504882,0.41983781314306096,1.0485440945746454,-1.083999287536729e-8,-1.290965533860347,-0.18848919611280537,3.310212152431229,3.33329659839731]\n",
      " * x: [0.9587436119837511,0.10787279624968997,0.18091667254055882,-0.2427842741236841,6.100671446674945,0.8194040127880927,0.16028966871518435,0.4156991832802493,0.381581698023792]\n",
      "     2     1.749782e+02     4.320779e+00\n",
      " * Current step size: 0.006999999999999999\n",
      " * g(x): [0.5672948832984075,0.01917090165067742,0.23947637365349628,1.3501166574257761,-1.083999287457108e-8,-1.9550394442269192,0.9587501277536558,-0.4555421204587127,-4.320778619640357]\n",
      " * x: [0.951040140339767,0.10637747429938361,0.17797780898614293,-0.2501240827782147,6.100671446750825,0.8284407715151839,0.16160909233244222,0.3925277035856216,0.358248624638182]\n"
     ]
    },
    {
     "ename": "LoadError",
     "evalue": "InterruptException:",
     "output_type": "error",
     "traceback": [
      "InterruptException:",
      "",
      " in Fmatrix at In[61]:91",
      " in logProbRight at In[64]:95",
      " in logLike at In[64]:162",
      " in llikey at In[65]:51",
      " in gradient! at /Users/msyoon/.julia/v0.4/ForwardDiff/src/gradient.jl:15",
      " in single_trial at In[65]:59",
      " in SumLikey at In[69]:28",
      " in LL_fg! at In[76]:14",
      " in function_barrier at /Users/msyoon/.julia/v0.4/Optim/src/fminbox.jl:58",
      " in anonymous at /Users/msyoon/.julia/v0.4/Optim/src/fminbox.jl:141",
      " in barrier_combined at /Users/msyoon/.julia/v0.4/Optim/src/fminbox.jl:67",
      " in anonymous at /Users/msyoon/.julia/v0.4/Optim/src/fminbox.jl:183",
      " in update_g! at /Users/msyoon/.julia/v0.4/Optim/src/optimize.jl:154",
      " in optimize at /Users/msyoon/.julia/v0.4/Optim/src/optimize.jl:201",
      " in optimize at /Users/msyoon/.julia/v0.4/Optim/src/fminbox.jl:201"
     ]
    }
   ],
   "source": [
    "# Parameters\n",
    "sigma_a = 1; sigma_s = 0.1; sigma_i = 0.2; \n",
    "sigma_a_sbin = sigma_a  # remember we need this copy for Fmatrix\n",
    "lam = -0.0005; B = 6.1; bias = 0.1; \n",
    "phi = 0.3; tau_phi = 0.1; lapse = 0.05*2;\n",
    "params = [sigma_a, sigma_s, sigma_i, lam, B, bias, phi, tau_phi, lapse]\n",
    "\n",
    "l = [0, 0, 0, -5, 5, -5, 0.01, 0.005, 0]\n",
    "u = [200, 200, 30, +5, 25, +5, 1.2, 0.7, 1]\n",
    "res = optimize(d4, params, l, u, Fminbox(), optimizer = GradientDescent, linesearch = my_line_search!, \n",
    "                    optimizer_o = Optim.Options(g_tol = 1e-12,\n",
    "                                                                        iterations = 10,\n",
    "                                                                        show_every = true,\n",
    "                                                                        store_trace = true,\n",
    "                                                                        extended_trace = true,\n",
    "                                                                        show_trace = true))\n",
    "\n"
   ]
  },
  {
   "cell_type": "code",
   "execution_count": 83,
   "metadata": {
    "collapsed": false
   },
   "outputs": [
    {
     "ename": "LoadError",
     "evalue": "MethodError: `my_line_search!` has no method matching my_line_search!(::Optim.DifferentiableFunction, ::Array{Float64,1}, ::Array{Float64,1}, ::Array{Float64,1}, ::Array{Float64,1}, ::LineSearches.LineSearchResults{Float64}, ::Float64, ::Bool)\nClosest candidates are:\n  my_line_search!(::Any, ::Any, ::Any, ::Any, ::Any, ::Any, ::Any, ::Any, !Matched::Any, !Matched::Any, !Matched::Any, !Matched::Any)",
     "output_type": "error",
     "traceback": [
      "MethodError: `my_line_search!` has no method matching my_line_search!(::Optim.DifferentiableFunction, ::Array{Float64,1}, ::Array{Float64,1}, ::Array{Float64,1}, ::Array{Float64,1}, ::LineSearches.LineSearchResults{Float64}, ::Float64, ::Bool)\nClosest candidates are:\n  my_line_search!(::Any, ::Any, ::Any, ::Any, ::Any, ::Any, ::Any, ::Any, !Matched::Any, !Matched::Any, !Matched::Any, !Matched::Any)",
      "",
      " in update_state! at /Users/msyoon/.julia/v0.4/Optim/src/gradient_descent.jl:64",
      " in optimize at /Users/msyoon/.julia/v0.4/Optim/src/optimize.jl:200",
      " in optimize at /Users/msyoon/.julia/v0.4/Optim/src/fminbox.jl:201"
     ]
    }
   ],
   "source": [
    "function quadratic!(x, g, AtA, Atb, tmp)\n",
    "    calc_grad = !(g === nothing)\n",
    "    A_mul_B!(tmp, AtA, x)\n",
    "    v = dot(x,tmp)/2 + dot(Atb,x)\n",
    "    if calc_grad\n",
    "        for i = 1:length(g)\n",
    "            g[i] = tmp[i] + Atb[i]\n",
    "        end\n",
    "    end\n",
    "    return v\n",
    "end\n",
    "\n",
    "srand(1)\n",
    "N =  8\n",
    "boxl = 2.0\n",
    "l = fill(-boxl, N)\n",
    "u = fill(boxl, N)\n",
    "\n",
    "A = randn(N,N)\n",
    "AtA = A'*A\n",
    "b = randn(N)\n",
    "initial_x = rand(N)\n",
    "tmp = similar(initial_x)\n",
    "func = (x, g) -> quadratic!(x, g, AtA, A'*b, tmp)\n",
    "objective = Optim.DifferentiableFunction(x->func(x, nothing), (x,g)->func(x,g), func)\n",
    "results = optimize(objective, initial_x, l, u, Fminbox(), optimizer = GradientDescent, linesearch = my_line_search!)"
   ]
  },
  {
   "cell_type": "code",
   "execution_count": null,
   "metadata": {
    "collapsed": false
   },
   "outputs": [],
   "source": [
    "res"
   ]
  },
  {
   "cell_type": "code",
   "execution_count": null,
   "metadata": {
    "collapsed": false
   },
   "outputs": [],
   "source": [
    "res.minimizer# res.minimum -> res.minimizer"
   ]
  },
  {
   "cell_type": "code",
   "execution_count": null,
   "metadata": {
    "collapsed": false
   },
   "outputs": [],
   "source": [
    "tt = getfield(res.trace[1],:metadata)\n",
    "tt[\"g(x)\"]"
   ]
  },
  {
   "cell_type": "code",
   "execution_count": null,
   "metadata": {
    "collapsed": false
   },
   "outputs": [],
   "source": [
    "history = res;\n",
    "println(fieldnames(history.trace[1]))\n",
    "\n",
    "Gs = zeros(length(history.trace),length(params))\n",
    "Xs = zeros(length(history.trace),length(params))\n",
    "fs = zeros(length(history.trace))\n",
    "\n",
    "for i=1:length(history.trace)\n",
    "    tt = getfield(history.trace[i],:metadata)\n",
    "    fs[i] = getfield(history.trace[i],:value)\n",
    "    Gs[i,:] = tt[\"g(x)\"]\n",
    "    Xs[i,:] = tt[\"x\"]\n",
    "end\n",
    "\n",
    "Gs\n",
    "# getfield(history.trace[1],4)\n",
    "matwrite(\"res_test.mat\", Dict([(\"f\",history.minimum), \n",
    "                                    (\"x_converged\",history.x_converged),\n",
    "                                    (\"f_converged\",history.f_converged),\n",
    "                                    (\"g_converged\",history.g_converged),\n",
    "                                    (\"x_bf\",history.minimizer),\n",
    "                                    (\"grad_trace\",Gs),\n",
    "                                    (\"f_trace\",fs),\n",
    "                                    (\"x_trace\",Xs),\n",
    "                                    (\"myfval\", history.minimum)\n",
    "                                    ]))"
   ]
  },
  {
   "cell_type": "code",
   "execution_count": null,
   "metadata": {
    "collapsed": false
   },
   "outputs": [],
   "source": [
    "res = optimize(DifferentiableFunction(LL_f), params, l, u, autodiff=true, Fminbox(); \n",
    "optimizer = GradientDescent, optimizer_o = OptimizationOptions(g_tol = 1e-12,\n",
    "                                                                        iterations = 10,\n",
    "                                                                        show_every = true,\n",
    "                                                                        store_trace = true,\n",
    "                                                                        extended_trace = true,\n",
    "                                                                        show_trace = true))\n",
    "\n"
   ]
  },
  {
   "cell_type": "code",
   "execution_count": null,
   "metadata": {
    "collapsed": false
   },
   "outputs": [],
   "source": [
    "import LineSearches"
   ]
  },
  {
   "cell_type": "code",
   "execution_count": null,
   "metadata": {
    "collapsed": false,
    "scrolled": true
   },
   "outputs": [],
   "source": [
    "# function LL_h!(params::Vector, grads::Vector)\n",
    "# #     LL, LLgrad, LLhess = llikey(params)\n",
    "#     LL, LLgrad = SumLikey(params, ratdata, ntrials)\n",
    "#     for i=1:length(params)\n",
    "#         grads[i] = LLgrad[i]\n",
    "#     end\n",
    "# end\n",
    "\n",
    "results = Optim.optimize(d, params, NewtonTrustRegion(), Optim.Options(g_tol = 1e-12,\n",
    "                                                                      iterations = 200,\n",
    "                                                                      show_every = true,\n",
    "                                                                      store_trace = true,\n",
    "                                                                      extended_trace = true,\n",
    "                                                                      show_trace = true))\n",
    "\n",
    "\n",
    "# algo_mt = Newton(;linesearch = LineSearches.morethuente!)\n",
    "# results_mt = Optim.optimize(d, params, method=algo_mt)\n",
    "\n",
    "# options = OptimizationOptions(show_trace = true, iterations = 10)\n",
    "# Optim.optimize(d4, params, AcceleratedGradientDescent(), options)\n",
    "\n",
    "# Optim.optimize(DifferentiableFunction(LL_f, LL_g!), params, Newton(), OptimizationOptions(autodiff = true))\n",
    "\n",
    "# results = Optim.optimize(d4, params, Newton())"
   ]
  },
  {
   "cell_type": "code",
   "execution_count": null,
   "metadata": {
    "collapsed": false
   },
   "outputs": [],
   "source": [
    "res.minimum"
   ]
  },
  {
   "cell_type": "code",
   "execution_count": null,
   "metadata": {
    "collapsed": false
   },
   "outputs": [],
   "source": [
    "getfield(results.trace[end],:value)"
   ]
  },
  {
   "cell_type": "code",
   "execution_count": null,
   "metadata": {
    "collapsed": false
   },
   "outputs": [],
   "source": [
    "# include(\"AutodiffModule.jl\")\n",
    "# import AutodiffModule\n",
    "# using MAT\n",
    "# using Optim\n",
    "\n",
    "function main()\n",
    "\n",
    "    server = 0\n",
    "    if server > 0 \n",
    "        ratname = readline(STDIN) #<- $echo $ratname | julia t3.jl  #\"B069\"\n",
    "        ratname = ratname[1:end-1] \n",
    "    else\n",
    "        ratname = \"B069\"\n",
    "    end\n",
    "    \n",
    "    # data import\n",
    "    if server > 0 \n",
    "        mpath = \"/mnt/bucket/people/amyoon/Data/PBupsModel_rawdata/\"\n",
    "    else\n",
    "        mpath = \"./\"\n",
    "    end\n",
    "    ratdata = matread(*(mpath,\"chrono_\",ratname,\"_rawdata.mat\"))\n",
    "\n",
    "    println(\"rawdata of \", ratname, \" imported\" )\n",
    "\n",
    "    saveto_filename = *(\"julia_out_\",ratname,\".mat\")\n",
    "\n",
    "    # number of trials\n",
    "    ntrials = Int(ratdata[\"total_trials\"])\n",
    "\n",
    "    # Parameters\n",
    "    sigma_a = rand()*4.; sigma_s = rand()*4.; sigma_i = rand()*30.; \n",
    "    lam = randn(); B = rand()*20.+5.; bias = randn(); \n",
    "    phi = rand()*1.19+0.01; tau_phi = 0.695*rand()+0.005; lapse = rand();\n",
    "\n",
    "    # sigma_a = 1.; sigma_s = 0.1; sigma_i = 0.2; \n",
    "    # lam = -0.0005; B = 6.1; bias = 0.1; \n",
    "    # phi = 0.3; tau_phi = 0.1; lapse = 0.05*2;\n",
    "    params = [sigma_a, sigma_s, sigma_i, lam, B, bias, phi, tau_phi, lapse]\n",
    "\n",
    "    l = [0.,   0.,   0., -5., 5., -5., 0.01, 0.005, 0.]\n",
    "    u = [200., 200., 30., 5., 25., 5., 1.2,  0.7,   1.]\n",
    "\n",
    "    # @code_warntype SumLikey(params, ratdata, ntrials)\n",
    "\n",
    "    function LL_f(params::Vector)\n",
    "        return AutodiffModule.SumLikey_LL(params, ratdata, ntrials)\n",
    "    end\n",
    "\n",
    "    function LL_g!(params::Vector, grads::Vector)\n",
    "#         LL, LLgrad = AutodiffModule.SumLikey(params, ratdata, ntrials)\n",
    "        LL, LLgrad = SumLikey(params, ratdata, ntrials)        \n",
    "        for i=1:length(params)\n",
    "            grads[i] = LLgrad[i]\n",
    "        end\n",
    "    end\n",
    "\n",
    "    function LL_fg!(params::Vector, grads)\n",
    "#         LL, LLgrad = AutodiffModule.SumLikey(params, ratdata, ntrials)\n",
    "        LL, LLgrad = SumLikey(params, ratdata, ntrials)\n",
    "        for i=1:length(params)\n",
    "            grads[i] = LLgrad[i]\n",
    "        end\n",
    "        return LL\n",
    "    end\n",
    "\n",
    "    d4 = DifferentiableFunction(LL_f,\n",
    "                                LL_g!,\n",
    "                                LL_fg!)\n",
    "\n",
    "    tic()\n",
    "    history = optimize(d4, params, l, u, Fminbox(); \n",
    "             optimizer = GradientDescent, optimizer_o = OptimizationOptions(g_tol = 1e-12,\n",
    "                                                                            x_tol = 1e-10,\n",
    "                                                                            f_tol = 1e-6,\n",
    "                                                                            iterations = 200,\n",
    "                                                                            store_trace = true,\n",
    "                                                                            ))\n",
    "    fit_time = toc()\n",
    "    println(history.minimum)\n",
    "    println(history)\n",
    "\n",
    "    ## do a single functional evaluation at best fit parameters and save likely for each trial\n",
    "    likely_all = zeros(typeof(sigma_i),ntrials)\n",
    "    x_bf = history.minimum\n",
    "    Likely_all_trials(likely_all, x_bf, ratdata, ntrials)\n",
    "\n",
    "    matwrite(saveto_filename, Dict([(\"ratname\",ratname),\n",
    "                                    (\"x_init\",params),\n",
    "                                    (\"trials\",ntrials),\n",
    "                                    (\"history\",history),\n",
    "                                    (\"f\",history.f_minimum), \n",
    "                                    (\"x_converged\",history.x_converged),\n",
    "                                    (\"f_converged\",history.f_converged),\n",
    "                                    (\"g_converged\",history.g_converged),                                    \n",
    "                                    (\"fit_time\",fit_time),\n",
    "                                    (\"x_bf\",history.minimum),\n",
    "                                    (\"myfval\", history.f_minimum),\n",
    "                                    (\"likely\",likely_all)\n",
    "                                    ]))\n",
    "     # hessian?\n",
    "\n",
    "end"
   ]
  },
  {
   "cell_type": "code",
   "execution_count": null,
   "metadata": {
    "collapsed": false
   },
   "outputs": [],
   "source": [
    "main()"
   ]
  },
  {
   "cell_type": "code",
   "execution_count": null,
   "metadata": {
    "collapsed": false
   },
   "outputs": [],
   "source": [
    "0:dx:ceil(4.1/0.25)*dx"
   ]
  },
  {
   "cell_type": "code",
   "execution_count": null,
   "metadata": {
    "collapsed": false
   },
   "outputs": [],
   "source": [
    "aa = -floor(4.1/0.25)*dx:dx:floor(4.1/0.25)*dx\n",
    "collect(aa)"
   ]
  },
  {
   "cell_type": "code",
   "execution_count": null,
   "metadata": {
    "collapsed": false
   },
   "outputs": [],
   "source": [
    "[-aa[end:-1:1]; aa]\n",
    "[-aa; aa]"
   ]
  },
  {
   "cell_type": "code",
   "execution_count": null,
   "metadata": {
    "collapsed": false
   },
   "outputs": [],
   "source": []
  },
  {
   "cell_type": "code",
   "execution_count": null,
   "metadata": {
    "collapsed": false
   },
   "outputs": [],
   "source": [
    "Pkg.status()"
   ]
  },
  {
   "cell_type": "code",
   "execution_count": null,
   "metadata": {
    "collapsed": false
   },
   "outputs": [],
   "source": [
    "sqrt(0)"
   ]
  },
  {
   "cell_type": "code",
   "execution_count": null,
   "metadata": {
    "collapsed": true
   },
   "outputs": [],
   "source": [
    "using LineSearches"
   ]
  },
  {
   "cell_type": "code",
   "execution_count": null,
   "metadata": {
    "collapsed": false
   },
   "outputs": [],
   "source": [
    "\n",
    "\n",
    "# d4 = DifferentiableFunction(LL_f,\n",
    "#                             LL_g!,\n",
    "#                             LL_fg!)\n",
    "\n",
    "# d = TwiceDifferentiableFunction(LL_f, LL_g!, LL_h!)\n",
    "\n",
    "\n",
    "algo_mt = Newton(;linesearch = LineSearches.morethuente!)\n",
    "results_mt = Optim.optimize(LL_f, LL_g!, LL_h!, params, method=algo_mt)\n"
   ]
  },
  {
   "cell_type": "code",
   "execution_count": null,
   "metadata": {
    "collapsed": false
   },
   "outputs": [],
   "source": [
    "algo_hz = NewtonTrustRegion(;linesearch = LineSearches.hagerzhang!)\n",
    "results_hz = Optim.optimize(LL_f, LL_g!, LL_h!, params, method=algo_hz)\n"
   ]
  },
  {
   "cell_type": "code",
   "execution_count": null,
   "metadata": {
    "collapsed": false
   },
   "outputs": [],
   "source": [
    "algo_grad = GradientDescent(; linesearch = LineSearches.morethuente!,\n",
    "                  P = nothing,\n",
    "                  precondprep = (P, x) -> nothing)\n",
    "results_gd = Optim.optimize(LL_f, LL_g!, LL_h!, params, method=algo_grad)\n"
   ]
  },
  {
   "cell_type": "code",
   "execution_count": null,
   "metadata": {
    "collapsed": false
   },
   "outputs": [],
   "source": [
    "l = [0, 0, 0, -5, 5, -5, 0.01, 0.005, 0]\n",
    "u = [200, 200, 30, +5, 25, +5, 1.2, 0.7, 1]\n",
    "\n",
    "# test with max_iteration = 10 \n",
    "res = optimize(d4, params, l, u, Fminbox(); \n",
    "         optimizer = algo_grad, optimizer_o = Optim.Options(g_tol = 1e-12,\n",
    "                                                                        iterations = 10,\n",
    "                                                                        show_every = true,\n",
    "                                                                        store_trace = true,\n",
    "                                                                        extended_trace = true,\n",
    "                                                                        show_trace = true))\n",
    "\n"
   ]
  },
  {
   "cell_type": "code",
   "execution_count": null,
   "metadata": {
    "collapsed": false
   },
   "outputs": [],
   "source": [
    "algo_lbfgs = LBFGS(;m = 10,\n",
    "        linesearch = LineSearches.hagerzhang!,\n",
    "                  P = nothing,\n",
    "                  precondprep = (P, x) -> nothing)\n",
    "results_gd = Optim.optimize(LL_f, LL_g!, LL_h!, params, method=algo_lbfgs)\n",
    "\n"
   ]
  },
  {
   "cell_type": "code",
   "execution_count": null,
   "metadata": {
    "collapsed": false
   },
   "outputs": [],
   "source": [
    "\n",
    "# results_gd = Optim.optimize(LL_f, LL_g!, LL_h!, params, method=algo_grad)\n",
    "res = optimize(d4, params, l, u, Fminbox(); \n",
    "optimizer = GradientDescent, show_trace = true, mu0 = 0.2, optimizer_o = Optim.Options(g_tol = 1e-12,\n",
    "                                                                        iterations = 10,\n",
    "                                                                        show_every = true,\n",
    "                                                                        store_trace = true,\n",
    "                                                                        extended_trace = true,\n",
    "                                                                        show_trace = true))\n",
    "\n",
    "\n",
    "\n"
   ]
  },
  {
   "cell_type": "code",
   "execution_count": null,
   "metadata": {
    "collapsed": true
   },
   "outputs": [],
   "source": []
  },
  {
   "cell_type": "code",
   "execution_count": 86,
   "metadata": {
    "collapsed": false
   },
   "outputs": [
    {
     "name": "stdout",
     "output_type": "stream",
     "text": [
      "Julia Version 0.4.5\n",
      "Commit 2ac304d (2016-03-18 00:58 UTC)\n",
      "Platform Info:\n",
      "  System: Darwin (x86_64-apple-darwin13.4.0)\n",
      "  CPU: Intel(R) Core(TM) i5-4258U CPU @ 2.40GHz\n",
      "  WORD_SIZE: 64\n",
      "  BLAS: libopenblas (USE64BITINT DYNAMIC_ARCH NO_AFFINITY Haswell)\n",
      "  LAPACK: libopenblas64_\n",
      "  LIBM: libopenlibm\n",
      "  LLVM: libLLVM-3.3\n"
     ]
    }
   ],
   "source": [
    "versioninfo()"
   ]
  },
  {
   "cell_type": "code",
   "execution_count": 87,
   "metadata": {
    "collapsed": false
   },
   "outputs": [
    {
     "name": "stdout",
     "output_type": "stream",
     "text": [
      " - Optim                         0.7.4\n"
     ]
    }
   ],
   "source": [
    "Pkg.status(\"Optim\")"
   ]
  },
  {
   "cell_type": "code",
   "execution_count": null,
   "metadata": {
    "collapsed": true
   },
   "outputs": [],
   "source": []
  }
 ],
 "metadata": {
  "kernelspec": {
   "display_name": "Julia 0.4.5",
   "language": "julia",
   "name": "julia-0.4"
  },
  "language_info": {
   "file_extension": ".jl",
   "mimetype": "application/julia",
   "name": "julia",
   "version": "0.4.5"
  }
 },
 "nbformat": 4,
 "nbformat_minor": 0
}
